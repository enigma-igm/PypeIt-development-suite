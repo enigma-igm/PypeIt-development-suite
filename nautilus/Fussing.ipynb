{
 "cells": [
  {
   "cell_type": "markdown",
   "metadata": {},
   "source": [
    "# Fussing"
   ]
  },
  {
   "cell_type": "code",
   "execution_count": 7,
   "metadata": {},
   "outputs": [],
   "source": [
    "# imports\n",
    "import yaml\n",
    "import io"
   ]
  },
  {
   "cell_type": "markdown",
   "metadata": {},
   "source": [
    "# Load me"
   ]
  },
  {
   "cell_type": "code",
   "execution_count": 18,
   "metadata": {},
   "outputs": [],
   "source": [
    "with open(\"kube_dev_suite.yaml\", 'r') as stream:\n",
    "    data_loaded = yaml.safe_load(stream)"
   ]
  },
  {
   "cell_type": "code",
   "execution_count": 5,
   "metadata": {},
   "outputs": [
    {
     "data": {
      "text/plain": [
       "{'apiVersion': 'batch/v1',\n",
       " 'kind': 'Job',\n",
       " 'metadata': {'name': 'xavier-dev-suite-v0'},\n",
       " 'spec': {'backoffLimit': 0,\n",
       "  'template': {'spec': {'containers': [{'name': 'container',\n",
       "      'image': 'localhost:30081/profxj/pypeit:latest',\n",
       "      'imagePullPolicy': 'Always',\n",
       "      'resources': {'requests': {'cpu': '2',\n",
       "        'memory': '20Gi',\n",
       "        'ephemeral-storage': '150Gi'},\n",
       "       'limits': {'cpu': '10',\n",
       "        'memory': '300Gi',\n",
       "        'ephemeral-storage': '200Gi'}},\n",
       "      'command': ['/bin/bash', '-c'],\n",
       "      'args': ['cd PypeIt; git checkout develop; cd /; cd PypeIt-development-suite; git checkout develop; mkdir RAW_DATA; aws --endpoint http://rook-ceph-rgw-nautiluss3.rook s3 cp s3://pypeit/RAW_DATA RAW_DATA/ --recursive --force; ./pypeit_test -t 2 develop;'],\n",
       "      'env': [{'name': 'PYPEIT_DEV', 'value': '/PypeIt-development-suite'},\n",
       "       {'name': 'ENDPOINT_URL',\n",
       "        'value': 'http://rook-ceph-rgw-nautiluss3.rook'},\n",
       "       {'name': 'S3_ENDPOINT', 'value': 'rook-ceph-rgw-nautiluss3.rook'}],\n",
       "      'volumeMounts': [{'name': 'prp-s3-credentials',\n",
       "        'mountPath': '/root/.aws/credentials',\n",
       "        'subPath': 'credentials'},\n",
       "       {'name': 'ephemeral', 'mountPath': '/tmp'},\n",
       "       {'name': 'dshm', 'mountPath': '/dev/shm'}]}],\n",
       "    'nodeSelector': {'nautilus.io/disktype': 'nvme', 'gpu-type': '1080Ti'},\n",
       "    'restartPolicy': 'Never',\n",
       "    'volumes': [{'name': 'prp-s3-credentials',\n",
       "      'secret': {'secretName': 'prp-s3-credentials'}},\n",
       "     {'name': 'dshm', 'emptyDir': {'medium': 'Memory'}},\n",
       "     {'name': 'ephemeral', 'emptyDir': {}}]}}}}"
      ]
     },
     "execution_count": 5,
     "metadata": {},
     "output_type": "execute_result"
    }
   ],
   "source": [
    "data_loaded"
   ]
  },
  {
   "cell_type": "markdown",
   "metadata": {},
   "source": [
    "# Test write"
   ]
  },
  {
   "cell_type": "code",
   "execution_count": 8,
   "metadata": {},
   "outputs": [],
   "source": [
    "with io.open('data.yaml', 'w', encoding='utf8') as outfile:\n",
    "    yaml.dump(data_loaded, outfile, default_flow_style=False, allow_unicode=True)"
   ]
  },
  {
   "cell_type": "markdown",
   "metadata": {},
   "source": [
    "# Name"
   ]
  },
  {
   "cell_type": "code",
   "execution_count": 19,
   "metadata": {},
   "outputs": [
    {
     "data": {
      "text/plain": [
       "{'name': 'xavier-dev-suite-v0'}"
      ]
     },
     "execution_count": 19,
     "metadata": {},
     "output_type": "execute_result"
    }
   ],
   "source": [
    "data_loaded['metadata']"
   ]
  },
  {
   "cell_type": "markdown",
   "metadata": {},
   "source": [
    "# Resources"
   ]
  },
  {
   "cell_type": "code",
   "execution_count": 22,
   "metadata": {},
   "outputs": [
    {
     "data": {
      "text/plain": [
       "{'cpu': '2', 'memory': '20Gi', 'ephemeral-storage': '150Gi'}"
      ]
     },
     "execution_count": 22,
     "metadata": {},
     "output_type": "execute_result"
    }
   ],
   "source": [
    "data_loaded['spec']['template']['spec']['containers'][0]['resources']['requests']"
   ]
  },
  {
   "cell_type": "markdown",
   "metadata": {},
   "source": [
    "# Args"
   ]
  },
  {
   "cell_type": "code",
   "execution_count": 16,
   "metadata": {},
   "outputs": [],
   "source": [
    "my_args = data_loaded['spec']['template']['spec']['containers'][0]['args'][0]"
   ]
  },
  {
   "cell_type": "code",
   "execution_count": 17,
   "metadata": {},
   "outputs": [
    {
     "data": {
      "text/plain": [
       "['cd PypeIt',\n",
       " ' git checkout develop',\n",
       " ' cd /',\n",
       " ' cd PypeIt-development-suite',\n",
       " ' git checkout develop',\n",
       " ' mkdir RAW_DATA',\n",
       " ' aws --endpoint http://rook-ceph-rgw-nautiluss3.rook s3 cp s3://pypeit/RAW_DATA RAW_DATA/ --recursive --force',\n",
       " ' ./pypeit_test -t 2 develop',\n",
       " '']"
      ]
     },
     "execution_count": 17,
     "metadata": {},
     "output_type": "execute_result"
    }
   ],
   "source": [
    "my_args.split(';')"
   ]
  },
  {
   "cell_type": "code",
   "execution_count": null,
   "metadata": {},
   "outputs": [],
   "source": []
  }
 ],
 "metadata": {
  "kernelspec": {
   "display_name": "Python 3",
   "language": "python",
   "name": "python3"
  },
  "language_info": {
   "codemirror_mode": {
    "name": "ipython",
    "version": 3
   },
   "file_extension": ".py",
   "mimetype": "text/x-python",
   "name": "python",
   "nbconvert_exporter": "python",
   "pygments_lexer": "ipython3",
   "version": "3.8.5"
  }
 },
 "nbformat": 4,
 "nbformat_minor": 4
}
