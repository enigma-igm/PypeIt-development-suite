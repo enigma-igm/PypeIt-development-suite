{
 "cells": [
  {
   "cell_type": "code",
   "execution_count": 40,
   "id": "81086d88-2b30-4b80-b9b5-6dfb5d9e148f",
   "metadata": {},
   "outputs": [],
   "source": [
    "# imports\n",
    "from importlib import reload\n",
    "\n",
    "from pydantic import BaseModel, Field\n",
    "from typing import List, Optional, Dict\n",
    "\n",
    "from pypeit import state"
   ]
  },
  {
   "cell_type": "markdown",
   "id": "7a41553f-e9ce-4b27-adc8-003d034f8cae",
   "metadata": {},
   "source": [
    "# Simple class"
   ]
  },
  {
   "cell_type": "code",
   "execution_count": 3,
   "id": "6ce6d8f3-4124-4070-9d50-dbc8772911a1",
   "metadata": {},
   "outputs": [],
   "source": [
    "class Tst(BaseModel):\n",
    "    id: int\n",
    "    name: str = 'TMP'"
   ]
  },
  {
   "cell_type": "code",
   "execution_count": 4,
   "id": "a29ef10f-4f7d-4c06-85ba-0bb2094264e7",
   "metadata": {},
   "outputs": [],
   "source": [
    "user = Tst(id=132, name='x')"
   ]
  },
  {
   "cell_type": "code",
   "execution_count": 5,
   "id": "412daab1-9134-47e1-a18a-d13019e41652",
   "metadata": {},
   "outputs": [
    {
     "data": {
      "text/plain": [
       "Tst(id=132, name='x')"
      ]
     },
     "execution_count": 5,
     "metadata": {},
     "output_type": "execute_result"
    }
   ],
   "source": [
    "user"
   ]
  },
  {
   "cell_type": "code",
   "execution_count": 6,
   "id": "ea1ffe7c-b584-4469-8596-2ba63dd04c2e",
   "metadata": {},
   "outputs": [],
   "source": [
    "user.id = 'bad'"
   ]
  },
  {
   "cell_type": "code",
   "execution_count": 16,
   "id": "842322bc-f5a8-4370-84ba-95841aa2be31",
   "metadata": {},
   "outputs": [
    {
     "ename": "ValidationError",
     "evalue": "1 validation error for Tst\nid\n  Input should be a valid integer, unable to parse string as an integer [type=int_parsing, input_value='bad', input_type=str]\n    For further information visit https://errors.pydantic.dev/2.10/v/int_parsing",
     "output_type": "error",
     "traceback": [
      "\u001b[0;31m---------------------------------------------------------------------------\u001b[0m",
      "\u001b[0;31mValidationError\u001b[0m                           Traceback (most recent call last)",
      "Cell \u001b[0;32mIn[16], line 1\u001b[0m\n\u001b[0;32m----> 1\u001b[0m \u001b[43muser\u001b[49m\u001b[38;5;241;43m.\u001b[39;49m\u001b[43mmodel_validate\u001b[49m\u001b[43m(\u001b[49m\u001b[43muser\u001b[49m\u001b[38;5;241;43m.\u001b[39;49m\u001b[43mmodel_dump\u001b[49m\u001b[43m(\u001b[49m\u001b[43m)\u001b[49m\u001b[43m)\u001b[49m\n",
      "File \u001b[0;32m~/miniconda3/envs/pypeit/lib/python3.12/site-packages/pydantic/main.py:627\u001b[0m, in \u001b[0;36mBaseModel.model_validate\u001b[0;34m(cls, obj, strict, from_attributes, context)\u001b[0m\n\u001b[1;32m    625\u001b[0m \u001b[38;5;66;03m# `__tracebackhide__` tells pytest and some other tools to omit this function from tracebacks\u001b[39;00m\n\u001b[1;32m    626\u001b[0m __tracebackhide__ \u001b[38;5;241m=\u001b[39m \u001b[38;5;28;01mTrue\u001b[39;00m\n\u001b[0;32m--> 627\u001b[0m \u001b[38;5;28;01mreturn\u001b[39;00m \u001b[38;5;28;43mcls\u001b[39;49m\u001b[38;5;241;43m.\u001b[39;49m\u001b[43m__pydantic_validator__\u001b[49m\u001b[38;5;241;43m.\u001b[39;49m\u001b[43mvalidate_python\u001b[49m\u001b[43m(\u001b[49m\n\u001b[1;32m    628\u001b[0m \u001b[43m    \u001b[49m\u001b[43mobj\u001b[49m\u001b[43m,\u001b[49m\u001b[43m \u001b[49m\u001b[43mstrict\u001b[49m\u001b[38;5;241;43m=\u001b[39;49m\u001b[43mstrict\u001b[49m\u001b[43m,\u001b[49m\u001b[43m \u001b[49m\u001b[43mfrom_attributes\u001b[49m\u001b[38;5;241;43m=\u001b[39;49m\u001b[43mfrom_attributes\u001b[49m\u001b[43m,\u001b[49m\u001b[43m \u001b[49m\u001b[43mcontext\u001b[49m\u001b[38;5;241;43m=\u001b[39;49m\u001b[43mcontext\u001b[49m\n\u001b[1;32m    629\u001b[0m \u001b[43m\u001b[49m\u001b[43m)\u001b[49m\n",
      "\u001b[0;31mValidationError\u001b[0m: 1 validation error for Tst\nid\n  Input should be a valid integer, unable to parse string as an integer [type=int_parsing, input_value='bad', input_type=str]\n    For further information visit https://errors.pydantic.dev/2.10/v/int_parsing"
     ]
    }
   ],
   "source": [
    "user.model_validate(user.model_dump())"
   ]
  },
  {
   "cell_type": "code",
   "execution_count": 15,
   "id": "8c28ddfb-3a5c-471c-9218-44ddd2d2c0ae",
   "metadata": {},
   "outputs": [
    {
     "data": {
      "text/plain": [
       "{'id': 'bad', 'name': 'x'}"
      ]
     },
     "execution_count": 15,
     "metadata": {},
     "output_type": "execute_result"
    }
   ],
   "source": [
    "user.model_dump()"
   ]
  },
  {
   "cell_type": "markdown",
   "id": "d08b878b-d193-4b64-b0ae-c13380ad04e9",
   "metadata": {},
   "source": [
    "----"
   ]
  },
  {
   "cell_type": "code",
   "execution_count": 25,
   "id": "66079ae1-3491-4a26-b519-ac0ec5da2dee",
   "metadata": {},
   "outputs": [],
   "source": [
    "class SlitWvCal(BaseModel):\n",
    "    status: str = Field(default=\"home\", pattern=\"^(complete|fail|unknown)$\")\n",
    "    slit: int"
   ]
  },
  {
   "cell_type": "code",
   "execution_count": 26,
   "id": "483cd5d2-e47d-487e-a90f-5b88057c4f8e",
   "metadata": {},
   "outputs": [],
   "source": [
    "class WaveCal(BaseModel):\n",
    "    slits: List[SlitWvCal]"
   ]
  },
  {
   "cell_type": "code",
   "execution_count": 32,
   "id": "6031e476-52c2-471d-a525-6147fb6130f6",
   "metadata": {},
   "outputs": [
    {
     "data": {
      "text/plain": [
       "SlitWvCal(status='home', slit=1111)"
      ]
     },
     "execution_count": 32,
     "metadata": {},
     "output_type": "execute_result"
    }
   ],
   "source": [
    "s3 = SlitWvCal(slit=1111)\n",
    "s3"
   ]
  },
  {
   "cell_type": "code",
   "execution_count": 34,
   "id": "72015a9f-9f32-46a1-9e7f-527ad13080c4",
   "metadata": {},
   "outputs": [],
   "source": [
    "s1 = SlitWvCal(status='complete', slit=1322)\n",
    "s2 = SlitWvCal(status='unknown', slit=1324)"
   ]
  },
  {
   "cell_type": "code",
   "execution_count": 37,
   "id": "85823aba-c6ee-4033-b777-eb966b3f8ebb",
   "metadata": {},
   "outputs": [
    {
     "data": {
      "text/plain": [
       "WaveCal(slits=[SlitWvCal(status='complete', slit=1322), SlitWvCal(status='unknown', slit=1324)])"
      ]
     },
     "execution_count": 37,
     "metadata": {},
     "output_type": "execute_result"
    }
   ],
   "source": [
    "w1 = WaveCal(slits=[s1, s2])\n",
    "w1"
   ]
  },
  {
   "cell_type": "code",
   "execution_count": 29,
   "id": "b9d2b5e9-bc7d-4d39-bfe3-8e9f74883c8c",
   "metadata": {},
   "outputs": [
    {
     "data": {
      "text/plain": [
       "WaveCal(slits=[SlitWvCal(status='complete', slit=1322), SlitWvCal(status='fail', slit=1324)])"
      ]
     },
     "execution_count": 29,
     "metadata": {},
     "output_type": "execute_result"
    }
   ],
   "source": [
    "w1"
   ]
  },
  {
   "cell_type": "markdown",
   "id": "c787faf8-b08c-4d31-9eb4-3fb255ab57ab",
   "metadata": {},
   "source": [
    "----"
   ]
  },
  {
   "cell_type": "code",
   "execution_count": 122,
   "id": "c1012810-fa46-40e8-99a1-87e38b39dfcb",
   "metadata": {},
   "outputs": [],
   "source": [
    "reload(state)\n",
    "run_state = state.RunPypeItState(pypeit_file='shane_kast_blue.pypeit', current_step='bias')"
   ]
  },
  {
   "cell_type": "code",
   "execution_count": 123,
   "id": "658e725c-405e-4a9d-9acf-bb84510dab9f",
   "metadata": {},
   "outputs": [
    {
     "data": {
      "text/plain": [
       "{'pypeit_file': 'shane_kast_blue.pypeit',\n",
       " 'current_step': 'bias',\n",
       " 'bias': [],\n",
       " 'wv_calib': []}"
      ]
     },
     "execution_count": 123,
     "metadata": {},
     "output_type": "execute_result"
    }
   ],
   "source": [
    "run_state.model_dump()"
   ]
  },
  {
   "cell_type": "code",
   "execution_count": 124,
   "id": "90b983d8-8f6f-460d-a587-b8b56444340d",
   "metadata": {},
   "outputs": [],
   "source": [
    "#run_state.calibs['bias'] = 1.\n",
    "#run_state.model_validate(run_state.model_dump())"
   ]
  },
  {
   "cell_type": "code",
   "execution_count": 125,
   "id": "870eff14-8483-499b-826a-9229b325f827",
   "metadata": {},
   "outputs": [
    {
     "data": {
      "text/plain": [
       "{'pypeit_file': 'shane_kast_blue.pypeit',\n",
       " 'current_step': 'bias',\n",
       " 'bias': [{'calib_id': 1,\n",
       "   'det': 'DET01',\n",
       "   'step': 'bias',\n",
       "   'input_files': None,\n",
       "   'output_files': None,\n",
       "   'qa_files': None,\n",
       "   'status': 'undone',\n",
       "   'metrics': None,\n",
       "   'mean': None,\n",
       "   'std': None}],\n",
       " 'wv_calib': []}"
      ]
     },
     "execution_count": 125,
     "metadata": {},
     "output_type": "execute_result"
    }
   ],
   "source": [
    "run_state.bias = [state.BiasCalibState(calib_id=1, det='DET01')]\n",
    "run_state.model_dump()"
   ]
  },
  {
   "cell_type": "code",
   "execution_count": 126,
   "id": "59cc56e9-21a2-45cc-96b5-e866a98e5d3d",
   "metadata": {},
   "outputs": [
    {
     "data": {
      "text/plain": [
       "{'pypeit_file': 'shane_kast_blue.pypeit',\n",
       " 'current_step': 'bias',\n",
       " 'bias': [{'calib_id': 1,\n",
       "   'det': 'DET01',\n",
       "   'step': 'bias',\n",
       "   'input_files': None,\n",
       "   'output_files': None,\n",
       "   'qa_files': None,\n",
       "   'status': 'undone',\n",
       "   'metrics': None,\n",
       "   'mean': 0.0,\n",
       "   'std': None}],\n",
       " 'wv_calib': []}"
      ]
     },
     "execution_count": 126,
     "metadata": {},
     "output_type": "execute_result"
    }
   ],
   "source": [
    "run_state.bias[0].mean = 0.\n",
    "run_state.model_dump()"
   ]
  },
  {
   "cell_type": "code",
   "execution_count": 127,
   "id": "cc16f151-615a-468a-b3a6-83faf9314281",
   "metadata": {},
   "outputs": [
    {
     "data": {
      "text/plain": [
       "{'pypeit_file': 'shane_kast_blue.pypeit',\n",
       " 'current_step': 'bias',\n",
       " 'bias': [{'calib_id': 1,\n",
       "   'det': 'DET01',\n",
       "   'step': 'bias',\n",
       "   'input_files': None,\n",
       "   'output_files': None,\n",
       "   'qa_files': None,\n",
       "   'status': 'undone',\n",
       "   'metrics': None,\n",
       "   'mean': 2.0,\n",
       "   'std': None}],\n",
       " 'wv_calib': []}"
      ]
     },
     "execution_count": 127,
     "metadata": {},
     "output_type": "execute_result"
    }
   ],
   "source": [
    "run_state.update_calib('bias', 1, 'DET01', 'mean', 2.)\n",
    "run_state.model_dump()"
   ]
  },
  {
   "cell_type": "code",
   "execution_count": 128,
   "id": "c3d68e9d-a405-4900-8d69-44bc87a32dab",
   "metadata": {},
   "outputs": [],
   "source": [
    "run_state.write()"
   ]
  },
  {
   "cell_type": "code",
   "execution_count": 129,
   "id": "87a6dcca-f027-47d6-9093-b6b951be8ed5",
   "metadata": {},
   "outputs": [],
   "source": [
    "## Reload\n",
    "with open('shane_kast_blue_state.json', 'r') as f:\n",
    "    run_state2 = state.RunPypeItState.model_validate_json(f.read())"
   ]
  },
  {
   "cell_type": "code",
   "execution_count": 130,
   "id": "a137121f-b195-4859-9622-47acbd84bf2c",
   "metadata": {},
   "outputs": [
    {
     "data": {
      "text/plain": [
       "{'pypeit_file': 'shane_kast_blue.pypeit',\n",
       " 'current_step': 'bias',\n",
       " 'bias': [{'calib_id': 1,\n",
       "   'det': 'DET01',\n",
       "   'step': 'bias',\n",
       "   'input_files': None,\n",
       "   'output_files': None,\n",
       "   'qa_files': None,\n",
       "   'status': 'undone',\n",
       "   'metrics': None,\n",
       "   'mean': 2.0,\n",
       "   'std': None}],\n",
       " 'wv_calib': []}"
      ]
     },
     "execution_count": 130,
     "metadata": {},
     "output_type": "execute_result"
    }
   ],
   "source": [
    "run_state2.model_dump()"
   ]
  },
  {
   "cell_type": "code",
   "execution_count": null,
   "id": "07425b4c-3e34-407e-bc27-6549b550fe69",
   "metadata": {},
   "outputs": [],
   "source": []
  }
 ],
 "metadata": {
  "kernelspec": {
   "display_name": "Python 3 (ipykernel)",
   "language": "python",
   "name": "python3"
  },
  "language_info": {
   "codemirror_mode": {
    "name": "ipython",
    "version": 3
   },
   "file_extension": ".py",
   "mimetype": "text/x-python",
   "name": "python",
   "nbconvert_exporter": "python",
   "pygments_lexer": "ipython3",
   "version": "3.12.7"
  }
 },
 "nbformat": 4,
 "nbformat_minor": 5
}
