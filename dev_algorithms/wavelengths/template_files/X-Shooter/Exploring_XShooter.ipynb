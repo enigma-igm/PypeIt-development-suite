{
 "cells": [
  {
   "cell_type": "markdown",
   "id": "a97d7fea-d929-4066-a80e-8598dc326c84",
   "metadata": {},
   "source": [
    "# Exploring X-Shooter files"
   ]
  },
  {
   "cell_type": "code",
   "execution_count": 17,
   "id": "7f5b1b46-c9ca-4bc4-a24a-ca951f4a5bbe",
   "metadata": {},
   "outputs": [],
   "source": [
    "# imports\n",
    "import numpy as np\n",
    "from matplotlib import pyplot as plt\n",
    "\n",
    "from astropy.io import fits"
   ]
  },
  {
   "cell_type": "markdown",
   "id": "66775da0-0699-4198-a9ba-da68452f0125",
   "metadata": {},
   "source": [
    "# Load Merge 1D"
   ]
  },
  {
   "cell_type": "code",
   "execution_count": 2,
   "id": "11bffe2e-43f3-4b70-94cf-6620a74c8455",
   "metadata": {},
   "outputs": [
    {
     "name": "stdout",
     "output_type": "stream",
     "text": [
      "Filename: CAL_SLIT_MERGE1D_UVB.fits\n",
      "No.    Name      Ver    Type      Cards   Dimensions   Format\n",
      "  0  FLUX          1 PrimaryHDU     486   (10283,)   float32   \n",
      "  1  ERRS          1 ImageHDU        23   (10283,)   float32   \n",
      "  2  QUAL          1 ImageHDU        23   (10283,)   int32   \n"
     ]
    }
   ],
   "source": [
    "hdul_merge_1D = fits.open('CAL_SLIT_MERGE1D_UVB.fits')\n",
    "hdul_merge_1D.info()"
   ]
  },
  {
   "cell_type": "code",
   "execution_count": 5,
   "id": "c1cfac4b-97d3-418d-89e7-84c7350e6108",
   "metadata": {},
   "outputs": [
    {
     "data": {
      "text/plain": [
       "SIMPLE  =                    T / file does conform to FITS standard             \n",
       "BITPIX  =                  -32 / number of bits per data pixel                  \n",
       "NAXIS   =                    1 / number of data axes                            \n",
       "NAXIS1  =                10283 / length of data axis 1                          \n",
       "EXTEND  =                    T / FITS dataset may contain extensions            \n",
       "COMMENT   FITS (Flexible Image Transport System) format is defined in 'Astronomy\n",
       "COMMENT   and Astrophysics', volume 376, page 359; bibcode: 2001A&A...376..359H \n",
       "DATE    = '2020-05-07T11:48:58' / file creation date (YYYY-MM-DDThh:mm:ss UT)   \n",
       "CRPIX1  =                   1.                                                  \n",
       "CRVAL1  =              298.925                                                  "
      ]
     },
     "execution_count": 5,
     "metadata": {},
     "output_type": "execute_result"
    }
   ],
   "source": [
    "head0_m1D = hdul_merge_1D[0].header\n",
    "head0_m1D[0:10]"
   ]
  },
  {
   "cell_type": "markdown",
   "id": "b8533956-757c-4132-8201-32ee1fb4fb3a",
   "metadata": {},
   "source": [
    "## Data"
   ]
  },
  {
   "cell_type": "code",
   "execution_count": 6,
   "id": "d072ab9b-bc2a-4488-931b-edc4f6aa3cb0",
   "metadata": {},
   "outputs": [
    {
     "data": {
      "text/plain": [
       "(10283,)"
      ]
     },
     "execution_count": 6,
     "metadata": {},
     "output_type": "execute_result"
    }
   ],
   "source": [
    "flux_m1D = hdul_merge_1D[0].data\n",
    "flux_m1D.shape"
   ]
  },
  {
   "cell_type": "markdown",
   "id": "f82c0c95-1d0e-49ed-8b19-28fb5bab0f99",
   "metadata": {},
   "source": [
    "# Load Merge 2D"
   ]
  },
  {
   "cell_type": "code",
   "execution_count": 7,
   "id": "9de86838-b715-4ebe-9392-df85be826de8",
   "metadata": {},
   "outputs": [
    {
     "name": "stdout",
     "output_type": "stream",
     "text": [
      "Filename: CAL_SLIT_MERGE2D_UVB.fits\n",
      "No.    Name      Ver    Type      Cards   Dimensions   Format\n",
      "  0  FLUX          1 PrimaryHDU     485   (10283, 73)   float32   \n",
      "  1  ERRS          1 ImageHDU        31   (10283, 73)   float32   \n",
      "  2  QUAL          1 ImageHDU        30   (10283, 73)   int32   \n"
     ]
    }
   ],
   "source": [
    "hdul_m2D = fits.open('CAL_SLIT_MERGE2D_UVB.fits')\n",
    "hdul_m2D.info()"
   ]
  },
  {
   "cell_type": "markdown",
   "id": "5aa5d7aa-76a2-41ca-a434-89944f289fbb",
   "metadata": {},
   "source": [
    "# Load Order 1D"
   ]
  },
  {
   "cell_type": "code",
   "execution_count": 9,
   "id": "2db6c7d1-4502-43b5-9960-d2b5537ec4ce",
   "metadata": {},
   "outputs": [
    {
     "name": "stdout",
     "output_type": "stream",
     "text": [
      "Filename: CAL_SLIT_ORDER1D_UVB.fits\n",
      "No.    Name      Ver    Type      Cards   Dimensions   Format\n",
      "  0  FLUX          1 PrimaryHDU     479   (454,)   float32   \n",
      "  1  ERRS          1 ImageHDU        25   (454,)   float32   \n",
      "  2  QUAL          1 ImageHDU        25   (454,)   int32   \n",
      "  3  ORD14_FLUX    1 ImageHDU       345   (1780,)   float32   \n",
      "  4  ORD14_ERRS    1 ImageHDU        24   (1780,)   float32   \n",
      "  5  ORD14_QUAL    1 ImageHDU        24   (1780,)   int32   \n",
      "  6  ORD15_FLUX    1 ImageHDU       345   (1667,)   float32   \n",
      "  7  ORD15_ERRS    1 ImageHDU        24   (1667,)   float32   \n",
      "  8  ORD15_QUAL    1 ImageHDU        24   (1667,)   int32   \n",
      "  9  ORD16_FLUX    1 ImageHDU       345   (1562,)   float32   \n",
      " 10  ORD16_ERRS    1 ImageHDU        24   (1562,)   float32   \n",
      " 11  ORD16_QUAL    1 ImageHDU        24   (1562,)   int32   \n",
      " 12  ORD17_FLUX    1 ImageHDU       345   (1447,)   float32   \n",
      " 13  ORD17_ERRS    1 ImageHDU        24   (1447,)   float32   \n",
      " 14  ORD17_QUAL    1 ImageHDU        24   (1447,)   int32   \n",
      " 15  ORD18_FLUX    1 ImageHDU       345   (1350,)   float32   \n",
      " 16  ORD18_ERRS    1 ImageHDU        24   (1350,)   float32   \n",
      " 17  ORD18_QUAL    1 ImageHDU        24   (1350,)   int32   \n",
      " 18  ORD19_FLUX    1 ImageHDU       345   (1250,)   float32   \n",
      " 19  ORD19_ERRS    1 ImageHDU        24   (1250,)   float32   \n",
      " 20  ORD19_QUAL    1 ImageHDU        24   (1250,)   int32   \n",
      " 21  ORD20_FLUX    1 ImageHDU       345   (1164,)   float32   \n",
      " 22  ORD20_ERRS    1 ImageHDU        24   (1164,)   float32   \n",
      " 23  ORD20_QUAL    1 ImageHDU        24   (1164,)   int32   \n",
      " 24  ORD21_FLUX    1 ImageHDU       345   (1096,)   float32   \n",
      " 25  ORD21_ERRS    1 ImageHDU        24   (1096,)   float32   \n",
      " 26  ORD21_QUAL    1 ImageHDU        24   (1096,)   int32   \n",
      " 27  ORD22_FLUX    1 ImageHDU       345   (1015,)   float32   \n",
      " 28  ORD22_ERRS    1 ImageHDU        24   (1015,)   float32   \n",
      " 29  ORD22_QUAL    1 ImageHDU        24   (1015,)   int32   \n",
      " 30  ORD23_FLUX    1 ImageHDU       345   (939,)   float32   \n",
      " 31  ORD23_ERRS    1 ImageHDU        24   (939,)   float32   \n",
      " 32  ORD23_QUAL    1 ImageHDU        24   (939,)   int32   \n",
      " 33  ORD24_FLUX    1 ImageHDU       345   (844,)   float32   \n",
      " 34  ORD24_ERRS    1 ImageHDU        24   (844,)   float32   \n",
      " 35  ORD24_QUAL    1 ImageHDU        24   (844,)   int32   \n"
     ]
    }
   ],
   "source": [
    "hdul_o1D = fits.open('CAL_SLIT_ORDER1D_UVB.fits')\n",
    "hdul_o1D.info()"
   ]
  },
  {
   "cell_type": "code",
   "execution_count": 12,
   "id": "9e962893-e33e-4c26-bc5e-de478e6e03ea",
   "metadata": {},
   "outputs": [
    {
     "data": {
      "text/plain": [
       "SIMPLE  =                    T / file does conform to FITS standard             \n",
       "BITPIX  =                  -32 / number of bits per data pixel                  \n",
       "NAXIS   =                    1 / number of data axes                            \n",
       "NAXIS1  =                  454 / length of data axis 1                          \n",
       "EXTEND  =                    T / FITS dataset may contain extensions            \n",
       "COMMENT   FITS (Flexible Image Transport System) format is defined in 'Astronomy\n",
       "COMMENT   and Astrophysics', volume 376, page 359; bibcode: 2001A&A...376..359H \n",
       "DATE    = '2020-05-07T11:48:58' / file creation date (YYYY-MM-DDThh:mm:ss UT)   \n",
       "IRAF-TLM= '2020-05-07T08:21:18' / Time of last modification                     \n",
       "ORIGIN  = 'ESO     '           / European Southern Observatory                  "
      ]
     },
     "execution_count": 12,
     "metadata": {},
     "output_type": "execute_result"
    }
   ],
   "source": [
    "head0_o1D = hdul_o1D[0].header\n",
    "head0_o1D[0:10]"
   ]
  },
  {
   "cell_type": "code",
   "execution_count": 15,
   "id": "76c4226b-4dbb-42ce-955a-e35bef2c92c1",
   "metadata": {},
   "outputs": [
    {
     "data": {
      "text/plain": [
       "XTENSION= 'IMAGE   '           / IMAGE extension                                \n",
       "BITPIX  =                  -32 / number of bits per data pixel                  \n",
       "NAXIS   =                    1 / number of data axes                            \n",
       "NAXIS1  =                 1780 / length of data axis 1                          \n",
       "PCOUNT  =                    0 / required keyword; must = 0                     \n",
       "GCOUNT  =                    1 / required keyword; must = 1                     \n",
       "IRAF-TLM= '2020-05-07T08:21:18' / Time of last modification                     \n",
       "TELESCOP= 'Tel name not set'   / ESO Telescope Name                             \n",
       "INSTRUME= 'XSHOOTER'           / Instrument used.                               \n",
       "OBJECT  = 'LAMP_WAVE'          / Original target.                               \n",
       "EXPTIME =                  30. / Total integration time                         \n",
       "MJD-OBS =       58786.56388542 / MJD start (2019-10-30T13:31:59.700)            \n",
       "DATE-OBS= '2019-10-30T13:31:59.700' / Date of observation                       \n",
       "PI-COI  = 'XSHOOTER Operation Team' / PI-COI name.                              \n",
       "BUNIT   = 'ADU     '                                                            \n",
       "CRPIX1  =                   1.                                                  \n",
       "CRVAL1  =                505.8                                                  \n",
       "CDELT1  =   0.0249999999999773                                                  \n",
       "CTYPE1  = 'LINEAR  '                                                            \n",
       "EXTNAME = 'ORD14_FLUX'                                                          \n",
       "HDUCLASS= 'ESO     '           / hdu classification                             \n",
       "HDUDOC  = 'DICD    '           / hdu reference document                         \n",
       "HDUVERS = 'DICD V6.0'          / hdu reference document version                 \n",
       "HDUCLAS1= 'IMAGE   '           / hdu format classification                      \n",
       "HDUCLAS2= 'DATA    '           / hdu type classification                        \n",
       "ERRDATA = 'ORD14_ERRS'         / name of errs extension                         \n",
       "QUALDATA= 'ORD14_QUAL'         / name of qual extension                         \n",
       "HIERARCH ESO DPR CATG = 'CALIB   ' / Observation category                       \n",
       "HIERARCH ESO DPR TECH = 'ECHELLE,SLIT' / Observation technique                  \n",
       "HIERARCH ESO DPR TYPE = 'OBJECT  ' / Observation type                           "
      ]
     },
     "execution_count": 15,
     "metadata": {},
     "output_type": "execute_result"
    }
   ],
   "source": [
    "head3_o1D = hdul_o1D[3].header\n",
    "head3_o1D[0:30]"
   ]
  },
  {
   "cell_type": "code",
   "execution_count": 19,
   "id": "5fe5084b-0600-47d0-b65d-8c6c6c68c475",
   "metadata": {},
   "outputs": [],
   "source": [
    "wv3 = head3_o1D['CRVAL1']*10 + np.arange(head3_o1D['NAXIS1'])*head3_o1D['CDELT1']*10"
   ]
  },
  {
   "cell_type": "markdown",
   "id": "eacc2ba8-22e5-4022-865c-d6420779f243",
   "metadata": {},
   "source": [
    "## Plot"
   ]
  },
  {
   "cell_type": "code",
   "execution_count": 20,
   "id": "4d831133-8a5d-44cc-82df-663f4fe29f88",
   "metadata": {},
   "outputs": [
    {
     "data": {
      "image/png": "[encoded data removed]",
      "text/plain": [
       "<Figure size 432x288 with 1 Axes>"
      ]
     },
     "metadata": {
      "needs_background": "light"
     },
     "output_type": "display_data"
    }
   ],
   "source": [
    "plt.clf()\n",
    "ax = plt.gca()\n",
    "ax.plot(wv3, hdul_o1D[3].data)\n",
    "#\n",
    "plt.show()"
   ]
  },
  {
   "cell_type": "markdown",
   "id": "b59202bb-32c9-4ff8-b5f7-9e648ef1d20d",
   "metadata": {},
   "source": [
    "## Matches VLT User Manual"
   ]
  },
  {
   "cell_type": "code",
   "execution_count": null,
   "id": "7245fd12-c423-47dd-9134-9fac80188d24",
   "metadata": {},
   "outputs": [],
   "source": []
  }
 ],
 "metadata": {
  "kernelspec": {
   "display_name": "Python 3 (ipykernel)",
   "language": "python",
   "name": "python3"
  },
  "language_info": {
   "codemirror_mode": {
    "name": "ipython",
    "version": 3
   },
   "file_extension": ".py",
   "mimetype": "text/x-python",
   "name": "python",
   "nbconvert_exporter": "python",
   "pygments_lexer": "ipython3",
   "version": "3.9.7"
  }
 },
 "nbformat": 4,
 "nbformat_minor": 5
}
