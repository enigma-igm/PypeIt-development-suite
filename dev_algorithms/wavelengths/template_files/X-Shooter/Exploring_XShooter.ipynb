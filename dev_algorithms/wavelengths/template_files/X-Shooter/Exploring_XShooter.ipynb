{
 "cells": [
  {
   "cell_type": "markdown",
   "id": "a97d7fea-d929-4066-a80e-8598dc326c84",
   "metadata": {},
   "source": [
    "# Exploring X-Shooter files"
   ]
  },
  {
   "cell_type": "code",
   "execution_count": 26,
   "id": "7f5b1b46-c9ca-4bc4-a24a-ca951f4a5bbe",
   "metadata": {},
   "outputs": [],
   "source": [
    "# imports\n",
    "import os\n",
    "import numpy as np\n",
    "from matplotlib import pyplot as plt\n",
    "from pkg_resources import resource_filename\n",
    "\n",
    "from astropy.io import fits\n",
    "from astropy.table import Table\n",
    "\n",
    "from pypeit.core.wavecal import waveio\n"
   ]
  },
  {
   "cell_type": "markdown",
   "id": "66775da0-0699-4198-a9ba-da68452f0125",
   "metadata": {},
   "source": [
    "# Load Merge 1D"
   ]
  },
  {
   "cell_type": "code",
   "execution_count": 27,
   "id": "11bffe2e-43f3-4b70-94cf-6620a74c8455",
   "metadata": {},
   "outputs": [
    {
     "name": "stdout",
     "output_type": "stream",
     "text": [
      "Filename: CAL_SLIT_MERGE1D_UVB.fits\n",
      "No.    Name      Ver    Type      Cards   Dimensions   Format\n",
      "  0  FLUX          1 PrimaryHDU     486   (10283,)   float32   \n",
      "  1  ERRS          1 ImageHDU        23   (10283,)   float32   \n",
      "  2  QUAL          1 ImageHDU        23   (10283,)   int32   \n"
     ]
    }
   ],
   "source": [
    "hdul_merge_1D = fits.open('CAL_SLIT_MERGE1D_UVB.fits')\n",
    "hdul_merge_1D.info()"
   ]
  },
  {
   "cell_type": "code",
   "execution_count": 28,
   "id": "c1cfac4b-97d3-418d-89e7-84c7350e6108",
   "metadata": {},
   "outputs": [
    {
     "data": {
      "text/plain": [
       "SIMPLE  =                    T / file does conform to FITS standard             \n",
       "BITPIX  =                  -32 / number of bits per data pixel                  \n",
       "NAXIS   =                    1 / number of data axes                            \n",
       "NAXIS1  =                10283 / length of data axis 1                          \n",
       "EXTEND  =                    T / FITS dataset may contain extensions            \n",
       "COMMENT   FITS (Flexible Image Transport System) format is defined in 'Astronomy\n",
       "COMMENT   and Astrophysics', volume 376, page 359; bibcode: 2001A&A...376..359H \n",
       "DATE    = '2020-05-07T11:48:58' / file creation date (YYYY-MM-DDThh:mm:ss UT)   \n",
       "CRPIX1  =                   1.                                                  \n",
       "CRVAL1  =              298.925                                                  "
      ]
     },
     "execution_count": 28,
     "metadata": {},
     "output_type": "execute_result"
    }
   ],
   "source": [
    "head0_m1D = hdul_merge_1D[0].header\n",
    "head0_m1D[0:10]"
   ]
  },
  {
   "cell_type": "markdown",
   "id": "b8533956-757c-4132-8201-32ee1fb4fb3a",
   "metadata": {},
   "source": [
    "## Data"
   ]
  },
  {
   "cell_type": "code",
   "execution_count": 29,
   "id": "d072ab9b-bc2a-4488-931b-edc4f6aa3cb0",
   "metadata": {},
   "outputs": [
    {
     "data": {
      "text/plain": [
       "(10283,)"
      ]
     },
     "execution_count": 29,
     "metadata": {},
     "output_type": "execute_result"
    }
   ],
   "source": [
    "flux_m1D = hdul_merge_1D[0].data\n",
    "flux_m1D.shape"
   ]
  },
  {
   "cell_type": "markdown",
   "id": "f82c0c95-1d0e-49ed-8b19-28fb5bab0f99",
   "metadata": {},
   "source": [
    "# Load Merge 2D"
   ]
  },
  {
   "cell_type": "code",
   "execution_count": 30,
   "id": "9de86838-b715-4ebe-9392-df85be826de8",
   "metadata": {},
   "outputs": [
    {
     "name": "stdout",
     "output_type": "stream",
     "text": [
      "Filename: CAL_SLIT_MERGE2D_UVB.fits\n",
      "No.    Name      Ver    Type      Cards   Dimensions   Format\n",
      "  0  FLUX          1 PrimaryHDU     485   (10283, 73)   float32   \n",
      "  1  ERRS          1 ImageHDU        31   (10283, 73)   float32   \n",
      "  2  QUAL          1 ImageHDU        30   (10283, 73)   int32   \n"
     ]
    }
   ],
   "source": [
    "hdul_m2D = fits.open('CAL_SLIT_MERGE2D_UVB.fits')\n",
    "hdul_m2D.info()"
   ]
  },
  {
   "cell_type": "markdown",
   "id": "5aa5d7aa-76a2-41ca-a434-89944f289fbb",
   "metadata": {},
   "source": [
    "# Load Order 1D"
   ]
  },
  {
   "cell_type": "code",
   "execution_count": 31,
   "id": "2db6c7d1-4502-43b5-9960-d2b5537ec4ce",
   "metadata": {},
   "outputs": [
    {
     "name": "stdout",
     "output_type": "stream",
     "text": [
      "Filename: CAL_SLIT_ORDER1D_UVB.fits\n",
      "No.    Name      Ver    Type      Cards   Dimensions   Format\n",
      "  0  FLUX          1 PrimaryHDU     479   (454,)   float32   \n",
      "  1  ERRS          1 ImageHDU        25   (454,)   float32   \n",
      "  2  QUAL          1 ImageHDU        25   (454,)   int32   \n",
      "  3  ORD14_FLUX    1 ImageHDU       345   (1780,)   float32   \n",
      "  4  ORD14_ERRS    1 ImageHDU        24   (1780,)   float32   \n",
      "  5  ORD14_QUAL    1 ImageHDU        24   (1780,)   int32   \n",
      "  6  ORD15_FLUX    1 ImageHDU       345   (1667,)   float32   \n",
      "  7  ORD15_ERRS    1 ImageHDU        24   (1667,)   float32   \n",
      "  8  ORD15_QUAL    1 ImageHDU        24   (1667,)   int32   \n",
      "  9  ORD16_FLUX    1 ImageHDU       345   (1562,)   float32   \n",
      " 10  ORD16_ERRS    1 ImageHDU        24   (1562,)   float32   \n",
      " 11  ORD16_QUAL    1 ImageHDU        24   (1562,)   int32   \n",
      " 12  ORD17_FLUX    1 ImageHDU       345   (1447,)   float32   \n",
      " 13  ORD17_ERRS    1 ImageHDU        24   (1447,)   float32   \n",
      " 14  ORD17_QUAL    1 ImageHDU        24   (1447,)   int32   \n",
      " 15  ORD18_FLUX    1 ImageHDU       345   (1350,)   float32   \n",
      " 16  ORD18_ERRS    1 ImageHDU        24   (1350,)   float32   \n",
      " 17  ORD18_QUAL    1 ImageHDU        24   (1350,)   int32   \n",
      " 18  ORD19_FLUX    1 ImageHDU       345   (1250,)   float32   \n",
      " 19  ORD19_ERRS    1 ImageHDU        24   (1250,)   float32   \n",
      " 20  ORD19_QUAL    1 ImageHDU        24   (1250,)   int32   \n",
      " 21  ORD20_FLUX    1 ImageHDU       345   (1164,)   float32   \n",
      " 22  ORD20_ERRS    1 ImageHDU        24   (1164,)   float32   \n",
      " 23  ORD20_QUAL    1 ImageHDU        24   (1164,)   int32   \n",
      " 24  ORD21_FLUX    1 ImageHDU       345   (1096,)   float32   \n",
      " 25  ORD21_ERRS    1 ImageHDU        24   (1096,)   float32   \n",
      " 26  ORD21_QUAL    1 ImageHDU        24   (1096,)   int32   \n",
      " 27  ORD22_FLUX    1 ImageHDU       345   (1015,)   float32   \n",
      " 28  ORD22_ERRS    1 ImageHDU        24   (1015,)   float32   \n",
      " 29  ORD22_QUAL    1 ImageHDU        24   (1015,)   int32   \n",
      " 30  ORD23_FLUX    1 ImageHDU       345   (939,)   float32   \n",
      " 31  ORD23_ERRS    1 ImageHDU        24   (939,)   float32   \n",
      " 32  ORD23_QUAL    1 ImageHDU        24   (939,)   int32   \n",
      " 33  ORD24_FLUX    1 ImageHDU       345   (844,)   float32   \n",
      " 34  ORD24_ERRS    1 ImageHDU        24   (844,)   float32   \n",
      " 35  ORD24_QUAL    1 ImageHDU        24   (844,)   int32   \n"
     ]
    }
   ],
   "source": [
    "hdul_o1D = fits.open('CAL_SLIT_ORDER1D_UVB.fits')\n",
    "hdul_o1D.info()"
   ]
  },
  {
   "cell_type": "code",
   "execution_count": 32,
   "id": "9e962893-e33e-4c26-bc5e-de478e6e03ea",
   "metadata": {},
   "outputs": [
    {
     "data": {
      "text/plain": [
       "SIMPLE  =                    T / file does conform to FITS standard             \n",
       "BITPIX  =                  -32 / number of bits per data pixel                  \n",
       "NAXIS   =                    1 / number of data axes                            \n",
       "NAXIS1  =                  454 / length of data axis 1                          \n",
       "EXTEND  =                    T / FITS dataset may contain extensions            \n",
       "COMMENT   FITS (Flexible Image Transport System) format is defined in 'Astronomy\n",
       "COMMENT   and Astrophysics', volume 376, page 359; bibcode: 2001A&A...376..359H \n",
       "DATE    = '2020-05-07T11:48:58' / file creation date (YYYY-MM-DDThh:mm:ss UT)   \n",
       "IRAF-TLM= '2020-05-07T08:21:18' / Time of last modification                     \n",
       "ORIGIN  = 'ESO     '           / European Southern Observatory                  "
      ]
     },
     "execution_count": 32,
     "metadata": {},
     "output_type": "execute_result"
    }
   ],
   "source": [
    "head0_o1D = hdul_o1D[0].header\n",
    "head0_o1D[0:10]"
   ]
  },
  {
   "cell_type": "code",
   "execution_count": 33,
   "id": "76c4226b-4dbb-42ce-955a-e35bef2c92c1",
   "metadata": {},
   "outputs": [
    {
     "data": {
      "text/plain": [
       "XTENSION= 'IMAGE   '           / IMAGE extension                                \n",
       "BITPIX  =                  -32 / number of bits per data pixel                  \n",
       "NAXIS   =                    1 / number of data axes                            \n",
       "NAXIS1  =                 1780 / length of data axis 1                          \n",
       "PCOUNT  =                    0 / required keyword; must = 0                     \n",
       "GCOUNT  =                    1 / required keyword; must = 1                     \n",
       "IRAF-TLM= '2020-05-07T08:21:18' / Time of last modification                     \n",
       "TELESCOP= 'Tel name not set'   / ESO Telescope Name                             \n",
       "INSTRUME= 'XSHOOTER'           / Instrument used.                               \n",
       "OBJECT  = 'LAMP_WAVE'          / Original target.                               \n",
       "EXPTIME =                  30. / Total integration time                         \n",
       "MJD-OBS =       58786.56388542 / MJD start (2019-10-30T13:31:59.700)            \n",
       "DATE-OBS= '2019-10-30T13:31:59.700' / Date of observation                       \n",
       "PI-COI  = 'XSHOOTER Operation Team' / PI-COI name.                              \n",
       "BUNIT   = 'ADU     '                                                            \n",
       "CRPIX1  =                   1.                                                  \n",
       "CRVAL1  =                505.8                                                  \n",
       "CDELT1  =   0.0249999999999773                                                  \n",
       "CTYPE1  = 'LINEAR  '                                                            \n",
       "EXTNAME = 'ORD14_FLUX'                                                          \n",
       "HDUCLASS= 'ESO     '           / hdu classification                             \n",
       "HDUDOC  = 'DICD    '           / hdu reference document                         \n",
       "HDUVERS = 'DICD V6.0'          / hdu reference document version                 \n",
       "HDUCLAS1= 'IMAGE   '           / hdu format classification                      \n",
       "HDUCLAS2= 'DATA    '           / hdu type classification                        \n",
       "ERRDATA = 'ORD14_ERRS'         / name of errs extension                         \n",
       "QUALDATA= 'ORD14_QUAL'         / name of qual extension                         \n",
       "HIERARCH ESO DPR CATG = 'CALIB   ' / Observation category                       \n",
       "HIERARCH ESO DPR TECH = 'ECHELLE,SLIT' / Observation technique                  \n",
       "HIERARCH ESO DPR TYPE = 'OBJECT  ' / Observation type                           "
      ]
     },
     "execution_count": 33,
     "metadata": {},
     "output_type": "execute_result"
    }
   ],
   "source": [
    "head3_o1D = hdul_o1D[3].header\n",
    "head3_o1D[0:30]"
   ]
  },
  {
   "cell_type": "code",
   "execution_count": 34,
   "id": "5fe5084b-0600-47d0-b65d-8c6c6c68c475",
   "metadata": {},
   "outputs": [],
   "source": [
    "wv3 = head3_o1D['CRVAL1']*10 + np.arange(head3_o1D['NAXIS1'])*head3_o1D['CDELT1']*10"
   ]
  },
  {
   "cell_type": "markdown",
   "id": "eacc2ba8-22e5-4022-865c-d6420779f243",
   "metadata": {},
   "source": [
    "## Plot"
   ]
  },
  {
   "cell_type": "code",
   "execution_count": 35,
   "id": "4d831133-8a5d-44cc-82df-663f4fe29f88",
   "metadata": {},
   "outputs": [
    {
     "data": {
      "image/png": "[encoded data removed]",
      "text/plain": [
       "<Figure size 432x288 with 1 Axes>"
      ]
     },
     "metadata": {
      "needs_background": "light"
     },
     "output_type": "display_data"
    }
   ],
   "source": [
    "plt.clf()\n",
    "ax = plt.gca()\n",
    "ax.plot(wv3, hdul_o1D[3].data)\n",
    "#\n",
    "plt.show()"
   ]
  },
  {
   "cell_type": "code",
   "execution_count": 42,
   "id": "5672aa50-ea7c-4cbb-920a-f3bed4851917",
   "metadata": {},
   "outputs": [
    {
     "data": {
      "text/plain": [
       "array([5058.  , 5058.25, 5058.5 , 5058.75, 5059.  ])"
      ]
     },
     "execution_count": 42,
     "metadata": {},
     "output_type": "execute_result"
    }
   ],
   "source": [
    "wv3[0:5]"
   ]
  },
  {
   "cell_type": "markdown",
   "id": "b59202bb-32c9-4ff8-b5f7-9e648ef1d20d",
   "metadata": {},
   "source": [
    "## Matches VLT User Manual! :) "
   ]
  },
  {
   "cell_type": "markdown",
   "id": "670269c1-da0a-46e7-b78c-a52cea2f677d",
   "metadata": {},
   "source": [
    "----"
   ]
  },
  {
   "cell_type": "markdown",
   "id": "e25e10e0-a5a0-4583-a74c-de1bc9ba6347",
   "metadata": {},
   "source": [
    "# What is the VIS reid_arxiv file format?"
   ]
  },
  {
   "cell_type": "markdown",
   "id": "b103d42f-eb96-4a0f-9d9f-d7b1e1c8c757",
   "metadata": {},
   "source": [
    "## Load"
   ]
  },
  {
   "cell_type": "markdown",
   "id": "27038db7-8b61-49ac-b2b5-bffccd2d3bad",
   "metadata": {},
   "source": [
    "### PypeIt"
   ]
  },
  {
   "cell_type": "code",
   "execution_count": 6,
   "id": "c296d2f7-ef5a-4e0e-b768-c20d09d5f9a1",
   "metadata": {},
   "outputs": [],
   "source": [
    "reid_file = os.path.join(\n",
    "    resource_filename('pypeit', 'data'), \n",
    "    'arc_lines', 'reid_arxiv', \n",
    "    'vlt_xshooter_vis1x1.fits')"
   ]
  },
  {
   "cell_type": "code",
   "execution_count": 9,
   "id": "bf1c7847-c526-45de-b408-6d0d4a7248c1",
   "metadata": {},
   "outputs": [],
   "source": [
    "templ_dict, par = waveio.load_reid_arxiv(reid_file)"
   ]
  },
  {
   "cell_type": "code",
   "execution_count": 10,
   "id": "660fcd71-51f8-40ed-bf6a-4285dd63e164",
   "metadata": {},
   "outputs": [
    {
     "data": {
      "text/plain": [
       "odict_keys(['0', '1', '2', '3', '4', '5', '6', '7', '8', '9', '10', '11', '12', '13', '14'])"
      ]
     },
     "execution_count": 10,
     "metadata": {},
     "output_type": "execute_result"
    }
   ],
   "source": [
    "templ_dict.keys()"
   ]
  },
  {
   "cell_type": "code",
   "execution_count": 12,
   "id": "69c3d03e-75c7-4cf2-a1c7-0c2384ae35c6",
   "metadata": {},
   "outputs": [
    {
     "data": {
      "text/plain": [
       "dict_keys(['spec', 'wave_soln', 'order'])"
      ]
     },
     "execution_count": 12,
     "metadata": {},
     "output_type": "execute_result"
    }
   ],
   "source": [
    "templ_dict['0'].keys()"
   ]
  },
  {
   "cell_type": "code",
   "execution_count": 20,
   "id": "10df47b6-e817-43a3-bf91-6ce984bb7c12",
   "metadata": {},
   "outputs": [
    {
     "data": {
      "text/plain": [
       "30"
      ]
     },
     "execution_count": 20,
     "metadata": {},
     "output_type": "execute_result"
    }
   ],
   "source": [
    "templ_dict['0']['order']"
   ]
  },
  {
   "cell_type": "code",
   "execution_count": 19,
   "id": "776cc3e0-942f-4cd4-a697-ebb4915fda2f",
   "metadata": {},
   "outputs": [],
   "source": [
    "par"
   ]
  },
  {
   "cell_type": "markdown",
   "id": "f3cf90c3-7833-49b9-9820-08401b1d4f47",
   "metadata": {},
   "source": [
    "### FITS"
   ]
  },
  {
   "cell_type": "code",
   "execution_count": 14,
   "id": "b0037f1a-e954-4598-895b-565677851b1e",
   "metadata": {},
   "outputs": [
    {
     "name": "stdout",
     "output_type": "stream",
     "text": [
      "Filename: /home/xavier/Projects/PypeIt-codes/PypeIt/pypeit/data/arc_lines/reid_arxiv/vlt_xshooter_vis1x1.fits\n",
      "No.    Name      Ver    Type      Cards   Dimensions   Format\n",
      "  0  PRIMARY       1 PrimaryHDU       4   ()      \n",
      "  1                1 BinTableHDU     15   15R x 3C   [4000D, 4000D, K]   \n"
     ]
    }
   ],
   "source": [
    "hdul_t = fits.open(reid_file)\n",
    "hdul_t.info()"
   ]
  },
  {
   "cell_type": "code",
   "execution_count": 16,
   "id": "bd8dd63a-cc04-4f95-8e8c-20c0802a72d5",
   "metadata": {},
   "outputs": [],
   "source": [
    "tmpl_tbl = Table.read(reid_file)"
   ]
  },
  {
   "cell_type": "code",
   "execution_count": 17,
   "id": "9f358692-8ed3-4f7f-ba26-b771c140fcd4",
   "metadata": {},
   "outputs": [
    {
     "data": {
      "text/html": [
       "<div><i>Table length=15</i>\n",
       "<table id=\"table139777366121584\" class=\"table-striped table-bordered table-condensed\">\n",
       "<thead><tr><th>wave [4000]</th><th>flux [4000]</th><th>order</th></tr></thead>\n",
       "<thead><tr><th>float64</th><th>float64</th><th>int64</th></tr></thead>\n",
       "<tr><td>5175.9326896940065 .. 5613.532585228901</td><td>0.0 .. 1.5</td><td>30</td></tr>\n",
       "<tr><td>5354.435797488019 .. 5806.01424841586</td><td>0.0 .. 52.0</td><td>29</td></tr>\n",
       "<tr><td>5549.965351670998 .. 6012.012610685711</td><td>0.0 .. 8.0</td><td>28</td></tr>\n",
       "<tr><td>5755.843691081425 .. 6233.528365542485</td><td>0.0 .. 0.0</td><td>27</td></tr>\n",
       "<tr><td>5977.681215565389 .. 6472.0457614894385</td><td>-3.5 .. 3.0</td><td>26</td></tr>\n",
       "<tr><td>...</td><td>...</td><td>...</td></tr>\n",
       "<tr><td>7402.225952960051 .. 8004.716288865693</td><td>-0.5 .. 43.0</td><td>21</td></tr>\n",
       "<tr><td>7771.956089311371 .. 8403.396277405653</td><td>-2.0 .. 34.5</td><td>20</td></tr>\n",
       "<tr><td>8181.0384070823475 .. 8844.080872837525</td><td>23.0 .. 99.5</td><td>19</td></tr>\n",
       "<tr><td>8635.205604260556 .. 9333.17220849937</td><td>1.0 .. 6.0</td><td>18</td></tr>\n",
       "<tr><td>9142.978320925036 .. 9879.749089336497</td><td>14.5 .. 1.0</td><td>17</td></tr>\n",
       "<tr><td>9713.602041220303 .. 10471.6861827777</td><td>3.5 .. 0.0</td><td>16</td></tr>\n",
       "</table></div>"
      ],
      "text/plain": [
       "<Table length=15>\n",
       "              wave [4000]               flux [4000]  order\n",
       "                float64                   float64    int64\n",
       "--------------------------------------- ------------ -----\n",
       "5175.9326896940065 .. 5613.532585228901   0.0 .. 1.5    30\n",
       "  5354.435797488019 .. 5806.01424841586  0.0 .. 52.0    29\n",
       " 5549.965351670998 .. 6012.012610685711   0.0 .. 8.0    28\n",
       " 5755.843691081425 .. 6233.528365542485   0.0 .. 0.0    27\n",
       "5977.681215565389 .. 6472.0457614894385  -3.5 .. 3.0    26\n",
       "                                    ...          ...   ...\n",
       " 7402.225952960051 .. 8004.716288865693 -0.5 .. 43.0    21\n",
       " 7771.956089311371 .. 8403.396277405653 -2.0 .. 34.5    20\n",
       "8181.0384070823475 .. 8844.080872837525 23.0 .. 99.5    19\n",
       "  8635.205604260556 .. 9333.17220849937   1.0 .. 6.0    18\n",
       " 9142.978320925036 .. 9879.749089336497  14.5 .. 1.0    17\n",
       "  9713.602041220303 .. 10471.6861827777   3.5 .. 0.0    16"
      ]
     },
     "execution_count": 17,
     "metadata": {},
     "output_type": "execute_result"
    }
   ],
   "source": [
    "tmpl_tbl"
   ]
  },
  {
   "cell_type": "markdown",
   "id": "e7c08a2f-3e4a-4cfc-bea9-1b40a9dcc5aa",
   "metadata": {},
   "source": [
    "----"
   ]
  },
  {
   "cell_type": "markdown",
   "id": "64901469-411e-4272-8d6b-cf78421043dc",
   "metadata": {},
   "source": [
    "# UVB : Build an order"
   ]
  },
  {
   "cell_type": "markdown",
   "id": "39d2a309-7a9c-4fcf-8c68-e90e876f9362",
   "metadata": {},
   "source": [
    "----"
   ]
  },
  {
   "cell_type": "code",
   "execution_count": 21,
   "id": "5fc1e624-9f6e-4023-9615-10c4d070bc5d",
   "metadata": {},
   "outputs": [
    {
     "data": {
      "text/plain": [
       "array([24, 23, 22, 21, 20, 19, 18, 17, 16, 15, 14])"
      ]
     },
     "execution_count": 21,
     "metadata": {},
     "output_type": "execute_result"
    }
   ],
   "source": [
    "np.arange(24, 13, -1, dtype=int)"
   ]
  },
  {
   "cell_type": "markdown",
   "id": "209ed1a6-1bc9-488c-9c55-bf3f2c3106c0",
   "metadata": {},
   "source": [
    "## arccen"
   ]
  },
  {
   "cell_type": "code",
   "execution_count": 22,
   "id": "d988adc9-2455-42c1-a70f-e5ac89394cb6",
   "metadata": {},
   "outputs": [
    {
     "data": {
      "text/plain": [
       "(3000, 11)"
      ]
     },
     "execution_count": 22,
     "metadata": {},
     "output_type": "execute_result"
    }
   ],
   "source": [
    "arccen = np.load('vlt_xshooter_uvb_arccen.npy')\n",
    "arccen.shape"
   ]
  },
  {
   "cell_type": "code",
   "execution_count": 62,
   "id": "4a3937c7-0149-43e4-a622-447b43b84432",
   "metadata": {},
   "outputs": [
    {
     "data": {
      "image/png": "[encoded data removed]",
      "text/plain": [
       "<Figure size 432x288 with 1 Axes>"
      ]
     },
     "metadata": {
      "needs_background": "light"
     },
     "output_type": "display_data"
    }
   ],
   "source": [
    "plt.clf()\n",
    "ax = plt.gca()\n",
    "ax.plot(arccen[:,0][1500:2000])\n",
    "#\n",
    "plt.show()"
   ]
  },
  {
   "cell_type": "code",
   "execution_count": 39,
   "id": "c7e1be18-2ad2-4eb1-b130-75882bea7b48",
   "metadata": {},
   "outputs": [],
   "source": [
    "idx_o = 30 # Order 23"
   ]
  },
  {
   "cell_type": "code",
   "execution_count": 61,
   "id": "6c636aae-82a7-457e-9b3e-d6cbd7cd9bf7",
   "metadata": {},
   "outputs": [
    {
     "data": {
      "image/png": "[encoded data removed]",
      "text/plain": [
       "<Figure size 432x288 with 1 Axes>"
      ]
     },
     "metadata": {
      "needs_background": "light"
     },
     "output_type": "display_data"
    }
   ],
   "source": [
    "plt.clf()\n",
    "ax = plt.gca()\n",
    "ax.plot(hdul_o1D[idx_o].data[400:600])\n",
    "#\n",
    "plt.show()\n"
   ]
  },
  {
   "cell_type": "markdown",
   "id": "e594408d-401c-4a9a-9752-acf0da18b0f6",
   "metadata": {},
   "source": [
    "## Red"
   ]
  },
  {
   "cell_type": "code",
   "execution_count": 51,
   "id": "098599c1-0c2b-4e2e-9cd4-efa313371b11",
   "metadata": {},
   "outputs": [
    {
     "data": {
      "image/png": "[encoded data removed]",
      "text/plain": [
       "<Figure size 432x288 with 1 Axes>"
      ]
     },
     "metadata": {
      "needs_background": "light"
     },
     "output_type": "display_data"
    }
   ],
   "source": [
    "plt.clf()\n",
    "ax = plt.gca()\n",
    "ax.plot(arccen[:,-2])\n",
    "#\n",
    "plt.show()\n"
   ]
  },
  {
   "cell_type": "code",
   "execution_count": 50,
   "id": "62a75092-e938-4241-8c95-9d8c1d87f41d",
   "metadata": {},
   "outputs": [
    {
     "data": {
      "image/png": "[encoded data removed]",
      "text/plain": [
       "<Figure size 432x288 with 1 Axes>"
      ]
     },
     "metadata": {
      "needs_background": "light"
     },
     "output_type": "display_data"
    }
   ],
   "source": [
    "plt.clf()\n",
    "ax = plt.gca()\n",
    "ax.plot(hdul_o1D[3].data)\n",
    "plt.show()\n"
   ]
  },
  {
   "cell_type": "code",
   "execution_count": 58,
   "id": "b9cba715-bc2c-4680-9a5b-e926347d071a",
   "metadata": {},
   "outputs": [
    {
     "data": {
      "text/plain": [
       "array([23, 22, 21, 20, 19, 18, 17, 16, 15, 14, 13])"
      ]
     },
     "execution_count": 58,
     "metadata": {},
     "output_type": "execute_result"
    }
   ],
   "source": [
    "orders = np.arange(23, 12, -1, dtype=int)\n",
    "orders"
   ]
  },
  {
   "cell_type": "code",
   "execution_count": 59,
   "id": "fc03e3ab-7f8f-4bfa-bc7e-5107a06dc457",
   "metadata": {},
   "outputs": [
    {
     "data": {
      "text/plain": [
       "11"
      ]
     },
     "execution_count": 59,
     "metadata": {},
     "output_type": "execute_result"
    }
   ],
   "source": [
    "orders.size"
   ]
  },
  {
   "cell_type": "code",
   "execution_count": 56,
   "id": "bafaeb30-7a9b-46b9-9c6d-613f4225ea3b",
   "metadata": {},
   "outputs": [],
   "source": [
    "forders = np.array([0.32671887, 0.39553878, 0.45989826, 0.52009878, 0.5764598,\n",
    "            0.62917188, 0.67859507, 0.72482729, 0.76815531, 0.80879042,\n",
    "            0.84700373])"
   ]
  },
  {
   "cell_type": "code",
   "execution_count": 57,
   "id": "7230a8ab-d7a5-4bca-8f72-9bc0a3fee465",
   "metadata": {},
   "outputs": [
    {
     "data": {
      "text/plain": [
       "11"
      ]
     },
     "execution_count": 57,
     "metadata": {},
     "output_type": "execute_result"
    }
   ],
   "source": [
    "forders.size"
   ]
  },
  {
   "cell_type": "code",
   "execution_count": null,
   "id": "f9498c8d-b3b7-4328-9a22-f418301bb224",
   "metadata": {},
   "outputs": [],
   "source": []
  }
 ],
 "metadata": {
  "kernelspec": {
   "display_name": "Python 3 (ipykernel)",
   "language": "python",
   "name": "python3"
  },
  "language_info": {
   "codemirror_mode": {
    "name": "ipython",
    "version": 3
   },
   "file_extension": ".py",
   "mimetype": "text/x-python",
   "name": "python",
   "nbconvert_exporter": "python",
   "pygments_lexer": "ipython3",
   "version": "3.9.7"
  }
 },
 "nbformat": 4,
 "nbformat_minor": 5
}
