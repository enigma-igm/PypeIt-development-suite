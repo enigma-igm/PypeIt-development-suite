{
 "cells": [
  {
   "cell_type": "markdown",
   "id": "40957f75-2e9e-470a-b25b-8e19717827f7",
   "metadata": {},
   "source": [
    "# Explore the IRAF solution"
   ]
  },
  {
   "cell_type": "code",
   "execution_count": 1,
   "id": "c4bbb79d-8220-4b50-9798-20b0b45ee78f",
   "metadata": {},
   "outputs": [],
   "source": [
    "import os\n",
    "import numpy as np\n",
    "from importlib.resources import files\n",
    "\n",
    "from matplotlib import pyplot as plt\n",
    "\n",
    "from astropy.table import Table\n",
    "from astropy.io import fits\n",
    "from astropy import units\n",
    "\n",
    "from pypeit.core.wavecal import templates\n",
    "from pypeit.core.fitting import robust_fit\n",
    "from pypeit.core import wave as core_wave \n",
    "\n",
    "import readmultispec\n",
    "\n",
    "from IPython import embed"
   ]
  },
  {
   "cell_type": "markdown",
   "id": "ccc25b93-c7a3-49a5-926e-e4667190b6e2",
   "metadata": {},
   "source": [
    "# Load up"
   ]
  },
  {
   "cell_type": "code",
   "execution_count": 2,
   "id": "c66ea012-f7bf-432a-b1a4-9969b6e70b2c",
   "metadata": {},
   "outputs": [
    {
     "name": "stdout",
     "output_type": "stream",
     "text": [
      "Filename: IRAF/THAR20240125.wrsfbo_1.fits\n",
      "No.    Name      Ver    Type      Cards   Dimensions   Format\n",
      "  0  PRIMARY       1 PrimaryHDU     431   (4096, 103)   float32   \n"
     ]
    }
   ],
   "source": [
    "wrs_file = 'IRAF/THAR20240125.wrsfbo_1.fits'\n",
    "wrs_hdu = fits.open(wrs_file)\n",
    "wrs_hdu.info()"
   ]
  },
  {
   "cell_type": "markdown",
   "id": "f2a524aa-65b8-4d17-8a23-67474122ad51",
   "metadata": {},
   "source": [
    "# Multispec"
   ]
  },
  {
   "cell_type": "code",
   "execution_count": 3,
   "id": "7575ba64-1a37-4b40-81b2-ae3dc67a34a3",
   "metadata": {},
   "outputs": [
    {
     "name": "stdout",
     "output_type": "stream",
     "text": [
      "Dispersion is order-%d Chebyshev polynomial 5\n",
      "Correcting for redshift: z=%f 0.0\n"
     ]
    },
    {
     "data": {
      "text/plain": [
       "(103, 4096)"
      ]
     },
     "execution_count": 3,
     "metadata": {},
     "output_type": "execute_result"
    }
   ],
   "source": [
    "multi = readmultispec.readmultispec(wrs_file)\n",
    "multi['wavelen'].shape"
   ]
  },
  {
   "cell_type": "code",
   "execution_count": 5,
   "id": "dab11fd1-affd-4a77-8ebf-13ec6f14a84f",
   "metadata": {},
   "outputs": [
    {
     "data": {
      "text/plain": [
       "(103, 4096)"
      ]
     },
     "execution_count": 5,
     "metadata": {},
     "output_type": "execute_result"
    }
   ],
   "source": [
    "wave, flux = multi['wavelen'], multi['flux']\n",
    "wave.shape"
   ]
  },
  {
   "cell_type": "markdown",
   "id": "7a937951-5e59-41c1-9a7e-0eccd0725a01",
   "metadata": {},
   "source": [
    "# Plot a few"
   ]
  },
  {
   "cell_type": "code",
   "execution_count": 24,
   "id": "af0b018a-0675-4bcb-8fca-bf8e0f0d1be4",
   "metadata": {},
   "outputs": [
    {
     "data": {
      "image/png": "[encoded data removed]",
      "text/plain": [
       "<Figure size 500x500 with 1 Axes>"
      ]
     },
     "metadata": {},
     "output_type": "display_data"
    }
   ],
   "source": [
    "idx = 38\n",
    "\n",
    "fig = plt.figure(figsize=(5,5))\n",
    "ax= plt.gca()\n",
    "\n",
    "ax.plot(multi['wavelen'][idx], multi['flux'][idx], 'k-')\n",
    "#ax.plot(np.flip(multi['flux'][idx]), 'k-')\n",
    "#ax.plot(np.flip(multi['flux'][idx]), 'k-')\n",
    "#ax.set_ylim(0., 500)\n",
    "#ax.set_xlim(1500., 3000)\n",
    "#\n",
    "plt.show()"
   ]
  },
  {
   "cell_type": "markdown",
   "id": "cfddf040-8de9-4bca-8435-a8a758690622",
   "metadata": {},
   "source": [
    "# idx = 20 is Order 77"
   ]
  },
  {
   "cell_type": "code",
   "execution_count": 25,
   "id": "ee56ef58-4d5c-4c9e-84fe-cf379d3575bd",
   "metadata": {},
   "outputs": [
    {
     "data": {
      "text/plain": [
       "(77, 95)"
      ]
     },
     "execution_count": 25,
     "metadata": {},
     "output_type": "execute_result"
    }
   ],
   "source": [
    "order_vec = (77-20) + np.arange(wave.shape[0]) \n",
    "order_vec[20], order_vec[38]"
   ]
  },
  {
   "cell_type": "markdown",
   "id": "0ff4df99-86e0-4a09-9bb4-5dc82ce996b0",
   "metadata": {},
   "source": [
    "# Header"
   ]
  },
  {
   "cell_type": "code",
   "execution_count": null,
   "id": "acdea41a-ae08-4a68-bb74-7149f79f2782",
   "metadata": {},
   "outputs": [],
   "source": []
  }
 ],
 "metadata": {
  "kernelspec": {
   "display_name": "Python 3 (ipykernel)",
   "language": "python",
   "name": "python3"
  },
  "language_info": {
   "codemirror_mode": {
    "name": "ipython",
    "version": 3
   },
   "file_extension": ".py",
   "mimetype": "text/x-python",
   "name": "python",
   "nbconvert_exporter": "python",
   "pygments_lexer": "ipython3",
   "version": "3.12.7"
  }
 },
 "nbformat": 4,
 "nbformat_minor": 5
}
