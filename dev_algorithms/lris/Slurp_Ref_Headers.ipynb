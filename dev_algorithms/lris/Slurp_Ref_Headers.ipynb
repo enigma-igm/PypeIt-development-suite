{
 "cells": [
  {
   "cell_type": "markdown",
   "id": "1ff31d39",
   "metadata": {},
   "source": [
    "# Slurp in Reference Headers"
   ]
  },
  {
   "cell_type": "code",
   "execution_count": 19,
   "id": "5cc42e20",
   "metadata": {},
   "outputs": [],
   "source": [
    "# imports\n",
    "import os\n",
    "from pkg_resources import resource_filename\n",
    "import glob\n",
    "\n",
    "from astropy.io import fits\n",
    "from astropy.table import Table\n",
    "\n",
    "from linetools import utils as ltu"
   ]
  },
  {
   "cell_type": "code",
   "execution_count": 21,
   "id": "d3d2f7aa",
   "metadata": {},
   "outputs": [],
   "source": [
    "out_path = os.path.join(resource_filename('pypeit', 'data'), 'spectrographs', 'keck_lris_red_mark4')"
   ]
  },
  {
   "cell_type": "markdown",
   "id": "a26f6d4e",
   "metadata": {},
   "source": [
    "# Files"
   ]
  },
  {
   "cell_type": "code",
   "execution_count": 3,
   "id": "c36dcca0",
   "metadata": {},
   "outputs": [],
   "source": [
    "ref_path = '/scratch/REDUX/Keck/LRIS/new_LRISr/Reference_headers'"
   ]
  },
  {
   "cell_type": "code",
   "execution_count": 5,
   "id": "00bd8446",
   "metadata": {},
   "outputs": [
    {
     "data": {
      "text/plain": [
       "['/scratch/REDUX/Keck/LRIS/new_LRISr/Reference_headers/pixelsU2_2_2.fits',\n",
       " '/scratch/REDUX/Keck/LRIS/new_LRISr/Reference_headers/pixelsL2U2L1U1_2_2.fits',\n",
       " '/scratch/REDUX/Keck/LRIS/new_LRISr/Reference_headers/pixelsU1_1_1.fits',\n",
       " '/scratch/REDUX/Keck/LRIS/new_LRISr/Reference_headers/pixelsL2U2_2_1.fits',\n",
       " '/scratch/REDUX/Keck/LRIS/new_LRISr/Reference_headers/pixelsL1U1_1_1.fits',\n",
       " '/scratch/REDUX/Keck/LRIS/new_LRISr/Reference_headers/pixelsL2U2_1_2.fits',\n",
       " '/scratch/REDUX/Keck/LRIS/new_LRISr/Reference_headers/pixelsU1_2_1.fits',\n",
       " '/scratch/REDUX/Keck/LRIS/new_LRISr/Reference_headers/pixelsL1_2_1.fits',\n",
       " '/scratch/REDUX/Keck/LRIS/new_LRISr/Reference_headers/pixelsU2U1_2_2.fits',\n",
       " '/scratch/REDUX/Keck/LRIS/new_LRISr/Reference_headers/pixelsL2L1_1_1.fits',\n",
       " '/scratch/REDUX/Keck/LRIS/new_LRISr/Reference_headers/pixelsL1U1_2_1.fits',\n",
       " '/scratch/REDUX/Keck/LRIS/new_LRISr/Reference_headers/pixelsU2U1_2_1.fits',\n",
       " '/scratch/REDUX/Keck/LRIS/new_LRISr/Reference_headers/pixelsU1_1_2.fits',\n",
       " '/scratch/REDUX/Keck/LRIS/new_LRISr/Reference_headers/pixelsU1_2_2.fits',\n",
       " '/scratch/REDUX/Keck/LRIS/new_LRISr/Reference_headers/pixelsL2_2_1.fits',\n",
       " '/scratch/REDUX/Keck/LRIS/new_LRISr/Reference_headers/pixelsL2_2_2.fits',\n",
       " '/scratch/REDUX/Keck/LRIS/new_LRISr/Reference_headers/pixelsL1_1_2.fits',\n",
       " '/scratch/REDUX/Keck/LRIS/new_LRISr/Reference_headers/pixelsL2_1_2.fits',\n",
       " '/scratch/REDUX/Keck/LRIS/new_LRISr/Reference_headers/pixelsL2L1_1_2.fits',\n",
       " '/scratch/REDUX/Keck/LRIS/new_LRISr/Reference_headers/pixelsL2U2_1_1.fits',\n",
       " '/scratch/REDUX/Keck/LRIS/new_LRISr/Reference_headers/pixelsL2U2_2_2.fits',\n",
       " '/scratch/REDUX/Keck/LRIS/new_LRISr/Reference_headers/pixelsL2L1_2_2.fits',\n",
       " '/scratch/REDUX/Keck/LRIS/new_LRISr/Reference_headers/pixelsL1U1_1_2.fits',\n",
       " '/scratch/REDUX/Keck/LRIS/new_LRISr/Reference_headers/pixelsU2U1_1_1.fits',\n",
       " '/scratch/REDUX/Keck/LRIS/new_LRISr/Reference_headers/pixelsL1_2_2.fits',\n",
       " '/scratch/REDUX/Keck/LRIS/new_LRISr/Reference_headers/pixelsL2U2L1U1_1_2.fits',\n",
       " '/scratch/REDUX/Keck/LRIS/new_LRISr/Reference_headers/pixelsU2_1_2.fits',\n",
       " '/scratch/REDUX/Keck/LRIS/new_LRISr/Reference_headers/pixelsU2_1_1.fits',\n",
       " '/scratch/REDUX/Keck/LRIS/new_LRISr/Reference_headers/pixelsL1_1_1.fits',\n",
       " '/scratch/REDUX/Keck/LRIS/new_LRISr/Reference_headers/pixelsL2U2L1U1_1_1.fits',\n",
       " '/scratch/REDUX/Keck/LRIS/new_LRISr/Reference_headers/pixelsU2U1_1_2.fits',\n",
       " '/scratch/REDUX/Keck/LRIS/new_LRISr/Reference_headers/pixelsL2U2L1U1_2_1.fits',\n",
       " '/scratch/REDUX/Keck/LRIS/new_LRISr/Reference_headers/pixelsL2_1_1.fits',\n",
       " '/scratch/REDUX/Keck/LRIS/new_LRISr/Reference_headers/pixelsL2L1_2_1.fits',\n",
       " '/scratch/REDUX/Keck/LRIS/new_LRISr/Reference_headers/pixelsL1U1_2_2.fits',\n",
       " '/scratch/REDUX/Keck/LRIS/new_LRISr/Reference_headers/pixelsU2_2_1.fits']"
      ]
     },
     "execution_count": 5,
     "metadata": {},
     "output_type": "execute_result"
    }
   ],
   "source": [
    "pixel_files = glob.glob(ref_path+'/pixels*')\n",
    "pixel_files"
   ]
  },
  {
   "cell_type": "markdown",
   "id": "cebb52bc",
   "metadata": {},
   "source": [
    "# Dict for names"
   ]
  },
  {
   "cell_type": "code",
   "execution_count": 16,
   "id": "4569b9d8",
   "metadata": {},
   "outputs": [
    {
     "data": {
      "text/html": [
       "<i>Table length=9</i>\n",
       "<table id=\"table139934533016016\" class=\"table-striped table-bordered table-condensed\">\n",
       "<thead><tr><th>AMPMODE</th><th>REF</th></tr></thead>\n",
       "<thead><tr><th>str13</th><th>str8</th></tr></thead>\n",
       "<tr><td>HSPLIT,VSPLIT</td><td>L2U2L1U1</td></tr>\n",
       "<tr><td>HSPLIT,VUP</td><td>L2U2</td></tr>\n",
       "<tr><td>HSPLIT,VDOWN</td><td>L1U1</td></tr>\n",
       "<tr><td>HLEFT,VSPLIT</td><td>L2L1</td></tr>\n",
       "<tr><td>HLEFT,VUP</td><td>L2</td></tr>\n",
       "<tr><td>HLEFT,VDOWN</td><td>L1</td></tr>\n",
       "<tr><td>HRIGHT,VSPLIT</td><td>U2U1</td></tr>\n",
       "<tr><td>HRIGHT,VUP</td><td>U2</td></tr>\n",
       "<tr><td>HRIGHT,VDOWN</td><td>U1</td></tr>\n",
       "</table>"
      ],
      "text/plain": [
       "<Table length=9>\n",
       "   AMPMODE      REF   \n",
       "    str13       str8  \n",
       "------------- --------\n",
       "HSPLIT,VSPLIT L2U2L1U1\n",
       "   HSPLIT,VUP     L2U2\n",
       " HSPLIT,VDOWN     L1U1\n",
       " HLEFT,VSPLIT     L2L1\n",
       "    HLEFT,VUP       L2\n",
       "  HLEFT,VDOWN       L1\n",
       "HRIGHT,VSPLIT     U2U1\n",
       "   HRIGHT,VUP       U2\n",
       " HRIGHT,VDOWN       U1"
      ]
     },
     "execution_count": 16,
     "metadata": {},
     "output_type": "execute_result"
    }
   ],
   "source": [
    "ampmodes = Table.read('translate_ampmode.ascii', format='ascii')\n",
    "ampmodes"
   ]
  },
  {
   "cell_type": "markdown",
   "id": "21d6c0de",
   "metadata": {},
   "source": [
    "## dict me"
   ]
  },
  {
   "cell_type": "code",
   "execution_count": 18,
   "id": "6ea1c26d",
   "metadata": {},
   "outputs": [
    {
     "data": {
      "text/plain": [
       "{'HSPLIT,VSPLIT': 'L2U2L1U1',\n",
       " 'HSPLIT,VUP': 'L2U2',\n",
       " 'HSPLIT,VDOWN': 'L1U1',\n",
       " 'HLEFT,VSPLIT': 'L2L1',\n",
       " 'HLEFT,VUP': 'L2',\n",
       " 'HLEFT,VDOWN': 'L1',\n",
       " 'HRIGHT,VSPLIT': 'U2U1',\n",
       " 'HRIGHT,VUP': 'U2',\n",
       " 'HRIGHT,VDOWN': 'U1'}"
      ]
     },
     "execution_count": 18,
     "metadata": {},
     "output_type": "execute_result"
    }
   ],
   "source": [
    "ref_dict = {}\n",
    "for row in ampmodes:\n",
    "    ref_dict[row['AMPMODE']] = row['REF']\n",
    "ref_dict"
   ]
  },
  {
   "cell_type": "code",
   "execution_count": 20,
   "id": "3373cde1",
   "metadata": {},
   "outputs": [],
   "source": [
    "jdict = ltu.jsonify(ref_dict)"
   ]
  },
  {
   "cell_type": "markdown",
   "id": "e0a61dd7",
   "metadata": {},
   "source": [
    "## Write"
   ]
  },
  {
   "cell_type": "code",
   "execution_count": 23,
   "id": "6ff54e8b",
   "metadata": {},
   "outputs": [],
   "source": [
    "json_file = os.path.join(out_path, 'dict_for_ampmode.json')\n",
    "ltu.savejson(json_file, jdict, overwrite=True, easy_to_read=True)"
   ]
  },
  {
   "cell_type": "markdown",
   "id": "dd6c6056",
   "metadata": {},
   "source": [
    "# Grab and save the Headers"
   ]
  },
  {
   "cell_type": "code",
   "execution_count": 25,
   "id": "d23dccfc",
   "metadata": {},
   "outputs": [],
   "source": [
    "for ifile in pixel_files:\n",
    "    hdul = fits.open(ifile)\n",
    "    head0 = hdul[0].header\n",
    "    # New hdul\n",
    "    new_hdul = fits.PrimaryHDU()\n",
    "    new_hdul.header = head0\n",
    "    # Outfile\n",
    "    outfile = os.path.join(out_path, os.path.basename(ifile).replace('pixels', 'header'))\n",
    "    new_hdul.writeto(outfile)"
   ]
  },
  {
   "cell_type": "markdown",
   "id": "d21c0d35",
   "metadata": {},
   "source": [
    "# Test"
   ]
  },
  {
   "cell_type": "code",
   "execution_count": 6,
   "id": "6f8ced2f",
   "metadata": {},
   "outputs": [],
   "source": [
    "hdul = fits.open(pixel_files[0])"
   ]
  },
  {
   "cell_type": "code",
   "execution_count": 8,
   "id": "f76e5158",
   "metadata": {},
   "outputs": [
    {
     "data": {
      "text/plain": [
       "SIMPLE  =                    T / file does conform to FITS standard             \n",
       "BITPIX  =                   16 / number of bits per data pixel                  \n",
       "NAXIS   =                    2 / number of data axes                            \n",
       "NAXIS1  =                 2117 / length of data axis 1                          \n",
       "NAXIS2  =                 2124 / length of data axis 2                          \n",
       "EXTEND  =                    T / FITS dataset may contain extensions            \n",
       "COMMENT   FITS (Flexible Image Transport System) format is defined in 'Astronomy\n",
       "COMMENT   and Astrophysics', volume 376, page 359; bibcode: 2001A&A...376..359H \n",
       "PSCPIX1 =                    7 / [CCDpix] detector prescan pixels               \n",
       "IMCPIX1 =                 4114 / [CCDpix] detector image pixels                 "
      ]
     },
     "execution_count": 8,
     "metadata": {},
     "output_type": "execute_result"
    }
   ],
   "source": [
    "hdul[0].header[0:10]"
   ]
  },
  {
   "cell_type": "code",
   "execution_count": 9,
   "id": "0ef0f4ba",
   "metadata": {},
   "outputs": [],
   "source": [
    "img = fits.PrimaryHDU()"
   ]
  },
  {
   "cell_type": "code",
   "execution_count": 10,
   "id": "f597a87b",
   "metadata": {},
   "outputs": [],
   "source": [
    "img.header = hdul[0].header"
   ]
  },
  {
   "cell_type": "code",
   "execution_count": 11,
   "id": "87809495",
   "metadata": {},
   "outputs": [],
   "source": [
    "img.writeto('tmp.fits')"
   ]
  },
  {
   "cell_type": "code",
   "execution_count": null,
   "id": "9c2480c6",
   "metadata": {},
   "outputs": [],
   "source": []
  }
 ],
 "metadata": {
  "kernelspec": {
   "display_name": "Python 3 (ipykernel)",
   "language": "python",
   "name": "python3"
  },
  "language_info": {
   "codemirror_mode": {
    "name": "ipython",
    "version": 3
   },
   "file_extension": ".py",
   "mimetype": "text/x-python",
   "name": "python",
   "nbconvert_exporter": "python",
   "pygments_lexer": "ipython3",
   "version": "3.8.5"
  }
 },
 "nbformat": 4,
 "nbformat_minor": 5
}
