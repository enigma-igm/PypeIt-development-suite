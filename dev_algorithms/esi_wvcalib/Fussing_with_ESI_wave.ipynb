{
 "cells": [
  {
   "cell_type": "markdown",
   "id": "56294049-e8e9-4f02-8def-c82c195e3d3f",
   "metadata": {},
   "source": [
    "# Fussing with ESI wavelengths"
   ]
  },
  {
   "cell_type": "code",
   "execution_count": 9,
   "id": "e3d1a7e0-eae1-4a5e-abf2-0b1f5c228a4e",
   "metadata": {},
   "outputs": [],
   "source": [
    "# imports\n",
    "from scipy.io import readsav\n",
    "\n",
    "from astropy.io import fits\n",
    "from astropy.table import Table\n",
    "\n",
    "from pypeit.core.wavecal import templates"
   ]
  },
  {
   "cell_type": "markdown",
   "id": "4ef8547a-d88e-4ff7-8c33-94a05abe6a57",
   "metadata": {},
   "source": [
    "# Load me"
   ]
  },
  {
   "cell_type": "code",
   "execution_count": 2,
   "id": "5a07a2ac-45fc-48d4-ad90-654ada171a2c",
   "metadata": {},
   "outputs": [
    {
     "name": "stdout",
     "output_type": "stream",
     "text": [
      "Filename: esi_archive_orders.fits\n",
      "No.    Name      Ver    Type      Cards   Dimensions   Format\n",
      "  0  PRIMARY       1 PrimaryHDU       4   ()      \n",
      "  1                1 BinTableHDU     31   2R x 5C   [8A, E, E, 50D, 2J]   \n"
     ]
    }
   ],
   "source": [
    "hdul = fits.open('esi_archive_orders.fits')\n",
    "hdul.info()"
   ]
  },
  {
   "cell_type": "code",
   "execution_count": 4,
   "id": "4256778b-7a54-4de4-8d05-acd208e363c9",
   "metadata": {},
   "outputs": [],
   "source": [
    "esi_wv = Table.read('esi_archive_orders.fits')"
   ]
  },
  {
   "cell_type": "code",
   "execution_count": 5,
   "id": "31f5af86-6b01-4ccd-a4f8-83ad0baf87e0",
   "metadata": {},
   "outputs": [
    {
     "data": {
      "text/html": [
       "<div><i>Table length=2</i>\n",
       "<table id=\"table140126731646816\" class=\"table-striped table-bordered table-condensed\">\n",
       "<thead><tr><th>FUNC</th><th>XMIN</th><th>XMAX</th><th>COEFF [10,5]</th><th>DIMS [2]</th></tr></thead>\n",
       "<thead><tr><th>bytes8</th><th>float32</th><th>float32</th><th>float64</th><th>int32</th></tr></thead>\n",
       "<tr><td>legendre</td><td>0.0</td><td>4095.0</td><td>46.95963668823242 .. -0.023959092795848846</td><td>2048 .. 4096</td></tr>\n",
       "<tr><td>legendre</td><td>0.0</td><td>4095.0</td><td>227.11875915527344 .. 0.07658693939447403</td><td>2048 .. 4096</td></tr>\n",
       "</table></div>"
      ],
      "text/plain": [
       "<Table length=2>\n",
       "  FUNC     XMIN  ...                COEFF [10,5]                  DIMS [2]  \n",
       " bytes8  float32 ...                  float64                      int32    \n",
       "-------- ------- ... ------------------------------------------ ------------\n",
       "legendre     0.0 ... 46.95963668823242 .. -0.023959092795848846 2048 .. 4096\n",
       "legendre     0.0 ...  227.11875915527344 .. 0.07658693939447403 2048 .. 4096"
      ]
     },
     "execution_count": 5,
     "metadata": {},
     "output_type": "execute_result"
    }
   ],
   "source": [
    "esi_wv"
   ]
  },
  {
   "cell_type": "markdown",
   "id": "858b49a2-3074-403d-8d95-9a7cd6a5801e",
   "metadata": {},
   "source": [
    "# Build a solution"
   ]
  },
  {
   "cell_type": "code",
   "execution_count": 8,
   "id": "4401eff2-760d-4d29-b035-f9b1117c0b64",
   "metadata": {},
   "outputs": [
    {
     "data": {
      "text/plain": [
       "array([[2048, 4096],\n",
       "       [2048, 4096]], dtype=int32)"
      ]
     },
     "execution_count": 8,
     "metadata": {},
     "output_type": "execute_result"
    }
   ],
   "source": [
    "esi_wv['DIMS'].data"
   ]
  },
  {
   "cell_type": "markdown",
   "id": "26aca266-3192-472c-bfee-5d015a236cfb",
   "metadata": {},
   "source": [
    "# Load up SAV file"
   ]
  },
  {
   "cell_type": "code",
   "execution_count": 10,
   "id": "7304f17e-d041-41d1-9b4d-b7d69bcaf397",
   "metadata": {},
   "outputs": [],
   "source": [
    "xidl_dict = readsav('CALIBS/ECH_arcfit.idl')"
   ]
  },
  {
   "cell_type": "code",
   "execution_count": 11,
   "id": "0ce45b63-7a0d-493f-b06c-6d00b133ab46",
   "metadata": {},
   "outputs": [
    {
     "data": {
      "text/plain": [
       "{'sv_aspec': array([[ 0.       ,  0.       ,  0.       , ...,  0.       ,  0.       ,\n",
       "          0.       ],\n",
       "        [ 1.94367  ,  3.216728 , -2.9078033, ...,  6.5559406,  7.548607 ,\n",
       "          3.7446446],\n",
       "        [-1.8310112,  2.1814654,  1.2672484, ...,  6.516901 ,  9.35752  ,\n",
       "          6.8981643],\n",
       "        ...,\n",
       "        [-1.3281636, -0.8675512,  0.       , ...,  5.2908974,  7.067314 ,\n",
       "          6.305023 ],\n",
       "        [ 2.5735373,  2.692598 ,  4.004029 , ..., 11.169551 , 10.779904 ,\n",
       "         17.751234 ],\n",
       "        [ 0.       ,  1.726737 ,  0.7557046, ...,  4.9678345,  3.8640766,\n",
       "          2.5907555]], dtype=float32),\n",
       " 'all_arcfit': rec.array([(b'POLY', 4, array([2584.87939453, 2356.37280273]), 3., 3., 2, 15, 5, 1, 0.03218681, array([[ 4.16155574e+03],\n",
       "                   [ 1.80236307e+02],\n",
       "                   [-2.06972436e+00],\n",
       "                   [-2.93378926e-01],\n",
       "                   [-1.45708457e-01]]))                                                                                   ,\n",
       "            (b'POLY', 5, array([2028.37011719, 3776.87353516]), 3., 3., 2, 15, 5, 1, 0.03517221, array([[ 4.36405438e+03],\n",
       "                   [ 3.13560925e+02],\n",
       "                   [-5.20334245e+00],\n",
       "                   [-6.55776352e-01],\n",
       "                   [ 5.49933846e-02],\n",
       "                   [-5.60660238e-01]]))                                                                                   ,\n",
       "            (b'POLY', 9, array([2009.32800293, 3686.17114258]), 3., 3., 2, 15, 5, 1, 0.01915676, array([[ 4.69340727e+03],\n",
       "                   [ 3.30470572e+02],\n",
       "                   [-5.78463104e+00],\n",
       "                   [-9.68002060e-01],\n",
       "                   [ 1.05055539e+00],\n",
       "                   [-2.52100824e-01],\n",
       "                   [-3.16106179e+00],\n",
       "                   [ 2.43382155e+00],\n",
       "                   [ 2.23700068e+00],\n",
       "                   [-2.26527607e+00]]))                                                                                   ,\n",
       "            (b'POLY', 8, array([2106.70410156, 3792.60839844]), 3., 3., 2, 15, 5, 1, 0.03372049, array([[ 5.10057955e+03],\n",
       "                   [ 3.68445018e+02],\n",
       "                   [-6.27902273e+00],\n",
       "                   [-3.67163818e+00],\n",
       "                   [-6.45509501e+00],\n",
       "                   [ 8.59310592e+00],\n",
       "                   [ 1.56582053e+01],\n",
       "                   [-6.42595102e+00],\n",
       "                   [-9.69809087e+00]]))                                                                                   ,\n",
       "            (b'POLY', 7, array([2210.09057617, 3487.04931641]), 3., 3., 2, 15, 5, 1, 0.06701159, array([[ 5.58346788e+03],\n",
       "                   [ 3.69716846e+02],\n",
       "                   [-1.00350262e+01],\n",
       "                   [-5.34179712e+00],\n",
       "                   [ 2.72304091e+01],\n",
       "                   [-1.48053238e+01],\n",
       "                   [-2.41932789e+01],\n",
       "                   [ 1.88290562e+01]]))                                                                                   ,\n",
       "            (b'POLY', 5, array([2304.11132812, 3310.39428711]), 3., 3., 2, 15, 5, 1, 0.03714196, array([[ 6.16086980e+03],\n",
       "                   [ 3.84902781e+02],\n",
       "                   [-6.69088427e+00],\n",
       "                   [-2.09793334e-01],\n",
       "                   [-3.35636771e-01],\n",
       "                   [-4.34041953e-01]]))                                                                                   ,\n",
       "            (b'POLY', 5, array([2062.23681641, 3882.89404297]), 3., 3., 2, 15, 5, 1, 0.04189704, array([[ 6.77991515e+03],\n",
       "                   [ 5.04584713e+02],\n",
       "                   [-1.02172319e+01],\n",
       "                   [-2.84309211e-01],\n",
       "                   [ 2.51697171e-02],\n",
       "                   [-1.07473636e+00]]))                                                                                   ,\n",
       "            (b'POLY', 5, array([2009.92102051, 3926.93920898]), 3., 3., 2, 15, 5, 1, 0.06781684, array([[ 7.60911664e+03],\n",
       "                   [ 5.75165407e+02],\n",
       "                   [-1.18799691e+01],\n",
       "                   [-6.47976317e-01],\n",
       "                   [ 3.05103926e-01],\n",
       "                   [-1.05427772e+00]]))                                                                                   ,\n",
       "            (b'POLY', 6, array([1982.88061523, 3926.22021484]), 3., 3., 2, 15, 5, 1, 0.05611989, array([[ 8.68370694e+03],\n",
       "                   [ 6.58023504e+02],\n",
       "                   [-1.34887989e+01],\n",
       "                   [-5.58705914e-01],\n",
       "                   [ 5.10496944e-01],\n",
       "                   [-1.56582847e+00],\n",
       "                   [-1.18794552e-01]]))                                                                                   ,\n",
       "            (b'POLY', 3, array([1053.59643555, 1923.86315918]), 3., 3., 2, 15, 5, 1, 0.02750223, array([[ 9.75988142e+03],\n",
       "                   [ 3.83232858e+02],\n",
       "                   [-2.63769677e+00],\n",
       "                   [-7.33191601e-01]]))                                                                                   ],\n",
       "           dtype=[(('func', 'FUNC'), 'O'), (('nord', 'NORD'), '>i4'), (('nrm', 'NRM'), 'O'), (('lsig', 'LSIG'), '>f4'), (('hsig', 'HSIG'), '>f4'), (('niter', 'NITER'), '>i4'), (('minpt', 'MINPT'), '>i4'), (('maxrej', 'MAXREJ'), '>i4'), (('flg_rej', 'FLG_REJ'), '>i2'), (('rms', 'RMS'), '>f8'), (('ffit', 'FFIT'), 'O')])}"
      ]
     },
     "execution_count": 11,
     "metadata": {},
     "output_type": "execute_result"
    }
   ],
   "source": [
    "xidl_dict"
   ]
  },
  {
   "cell_type": "code",
   "execution_count": 13,
   "id": "d6f40d8c-e418-4b72-93ce-84821c67f1fc",
   "metadata": {},
   "outputs": [
    {
     "data": {
      "text/html": [
       "<div><i>Table length=10</i>\n",
       "<table id=\"table140125587738880\" class=\"table-striped table-bordered table-condensed\">\n",
       "<thead><tr><th>FUNC</th><th>NORD</th><th>NRM</th><th>LSIG</th><th>HSIG</th><th>NITER</th><th>MINPT</th><th>MAXREJ</th><th>FLG_REJ</th><th>RMS</th><th>FFIT</th></tr></thead>\n",
       "<thead><tr><th>object</th><th>int32</th><th>object</th><th>float32</th><th>float32</th><th>int32</th><th>int32</th><th>int32</th><th>int16</th><th>float64</th><th>object</th></tr></thead>\n",
       "<tr><td>POLY</td><td>4</td><td>[2584.87939453 2356.37280273]</td><td>3.0</td><td>3.0</td><td>2</td><td>15</td><td>5</td><td>1</td><td>0.032186811405457996</td><td>[[ 4.16155574e+03]\n",
       " [ 1.80236307e+02]\n",
       " [-2.06972436e+00]\n",
       " [-2.93378926e-01]\n",
       " [-1.45708457e-01]]</td></tr>\n",
       "<tr><td>POLY</td><td>5</td><td>[2028.37011719 3776.87353516]</td><td>3.0</td><td>3.0</td><td>2</td><td>15</td><td>5</td><td>1</td><td>0.03517221126119543</td><td>[[ 4.36405438e+03]\n",
       " [ 3.13560925e+02]\n",
       " [-5.20334245e+00]\n",
       " [-6.55776352e-01]\n",
       " [ 5.49933846e-02]\n",
       " [-5.60660238e-01]]</td></tr>\n",
       "<tr><td>POLY</td><td>9</td><td>[2009.32800293 3686.17114258]</td><td>3.0</td><td>3.0</td><td>2</td><td>15</td><td>5</td><td>1</td><td>0.019156762280929704</td><td>[[ 4.69340727e+03]\n",
       " [ 3.30470572e+02]\n",
       " [-5.78463104e+00]\n",
       " [-9.68002060e-01]\n",
       " [ 1.05055539e+00]\n",
       " [-2.52100824e-01]\n",
       " [-3.16106179e+00]\n",
       " [ 2.43382155e+00]\n",
       " [ 2.23700068e+00]\n",
       " [-2.26527607e+00]]</td></tr>\n",
       "<tr><td>POLY</td><td>8</td><td>[2106.70410156 3792.60839844]</td><td>3.0</td><td>3.0</td><td>2</td><td>15</td><td>5</td><td>1</td><td>0.03372049146286759</td><td>[[ 5.10057955e+03]\n",
       " [ 3.68445018e+02]\n",
       " [-6.27902273e+00]\n",
       " [-3.67163818e+00]\n",
       " [-6.45509501e+00]\n",
       " [ 8.59310592e+00]\n",
       " [ 1.56582053e+01]\n",
       " [-6.42595102e+00]\n",
       " [-9.69809087e+00]]</td></tr>\n",
       "<tr><td>POLY</td><td>7</td><td>[2210.09057617 3487.04931641]</td><td>3.0</td><td>3.0</td><td>2</td><td>15</td><td>5</td><td>1</td><td>0.06701158554667178</td><td>[[ 5.58346788e+03]\n",
       " [ 3.69716846e+02]\n",
       " [-1.00350262e+01]\n",
       " [-5.34179712e+00]\n",
       " [ 2.72304091e+01]\n",
       " [-1.48053238e+01]\n",
       " [-2.41932789e+01]\n",
       " [ 1.88290562e+01]]</td></tr>\n",
       "<tr><td>POLY</td><td>5</td><td>[2304.11132812 3310.39428711]</td><td>3.0</td><td>3.0</td><td>2</td><td>15</td><td>5</td><td>1</td><td>0.03714195530443899</td><td>[[ 6.16086980e+03]\n",
       " [ 3.84902781e+02]\n",
       " [-6.69088427e+00]\n",
       " [-2.09793334e-01]\n",
       " [-3.35636771e-01]\n",
       " [-4.34041953e-01]]</td></tr>\n",
       "<tr><td>POLY</td><td>5</td><td>[2062.23681641 3882.89404297]</td><td>3.0</td><td>3.0</td><td>2</td><td>15</td><td>5</td><td>1</td><td>0.04189703662544273</td><td>[[ 6.77991515e+03]\n",
       " [ 5.04584713e+02]\n",
       " [-1.02172319e+01]\n",
       " [-2.84309211e-01]\n",
       " [ 2.51697171e-02]\n",
       " [-1.07473636e+00]]</td></tr>\n",
       "<tr><td>POLY</td><td>5</td><td>[2009.92102051 3926.93920898]</td><td>3.0</td><td>3.0</td><td>2</td><td>15</td><td>5</td><td>1</td><td>0.06781684405473476</td><td>[[ 7.60911664e+03]\n",
       " [ 5.75165407e+02]\n",
       " [-1.18799691e+01]\n",
       " [-6.47976317e-01]\n",
       " [ 3.05103926e-01]\n",
       " [-1.05427772e+00]]</td></tr>\n",
       "<tr><td>POLY</td><td>6</td><td>[1982.88061523 3926.22021484]</td><td>3.0</td><td>3.0</td><td>2</td><td>15</td><td>5</td><td>1</td><td>0.05611989248418115</td><td>[[ 8.68370694e+03]\n",
       " [ 6.58023504e+02]\n",
       " [-1.34887989e+01]\n",
       " [-5.58705914e-01]\n",
       " [ 5.10496944e-01]\n",
       " [-1.56582847e+00]\n",
       " [-1.18794552e-01]]</td></tr>\n",
       "<tr><td>POLY</td><td>3</td><td>[1053.59643555 1923.86315918]</td><td>3.0</td><td>3.0</td><td>2</td><td>15</td><td>5</td><td>1</td><td>0.02750223079109666</td><td>[[ 9.75988142e+03]\n",
       " [ 3.83232858e+02]\n",
       " [-2.63769677e+00]\n",
       " [-7.33191601e-01]]</td></tr>\n",
       "</table></div>"
      ],
      "text/plain": [
       "<Table length=10>\n",
       " FUNC  ...\n",
       "object ...\n",
       "------ ...\n",
       "  POLY ...\n",
       "  POLY ...\n",
       "  POLY ...\n",
       "  POLY ...\n",
       "  POLY ...\n",
       "  POLY ...\n",
       "  POLY ...\n",
       "  POLY ...\n",
       "  POLY ...\n",
       "  POLY ..."
      ]
     },
     "execution_count": 13,
     "metadata": {},
     "output_type": "execute_result"
    }
   ],
   "source": [
    "arc_fits = Table(xidl_dict['all_arcfit'])\n",
    "arc_fits"
   ]
  },
  {
   "cell_type": "code",
   "execution_count": 15,
   "id": "608c3cd9-8ea2-4958-85a5-94895dcbeaae",
   "metadata": {},
   "outputs": [
    {
     "data": {
      "text/html": [
       "<i>Row index=0</i>\n",
       "<table id=\"table140125587738880\">\n",
       "<thead><tr><th>FUNC</th><th>NORD</th><th>NRM</th><th>LSIG</th><th>HSIG</th><th>NITER</th><th>MINPT</th><th>MAXREJ</th><th>FLG_REJ</th><th>RMS</th><th>FFIT</th></tr></thead>\n",
       "<thead><tr><th>object</th><th>int32</th><th>object</th><th>float32</th><th>float32</th><th>int32</th><th>int32</th><th>int32</th><th>int16</th><th>float64</th><th>object</th></tr></thead>\n",
       "<tr><td>POLY</td><td>4</td><td>[2584.87939453 2356.37280273]</td><td>3.0</td><td>3.0</td><td>2</td><td>15</td><td>5</td><td>1</td><td>0.032186811405457996</td><td>[[ 4.16155574e+03]\n",
       " [ 1.80236307e+02]\n",
       " [-2.06972436e+00]\n",
       " [-2.93378926e-01]\n",
       " [-1.45708457e-01]]</td></tr>\n",
       "</table>"
      ],
      "text/plain": [
       "<Row index=0>\n",
       " FUNC   NORD              NRM                LSIG    HSIG  NITER MINPT MAXREJ FLG_REJ         RMS                                                        FFIT                                             \n",
       "object int32             object            float32 float32 int32 int32 int32   int16        float64                                                     object                                            \n",
       "------ ----- ----------------------------- ------- ------- ----- ----- ------ ------- -------------------- -----------------------------------------------------------------------------------------------\n",
       "  POLY     4 [2584.87939453 2356.37280273]     3.0     3.0     2    15      5       1 0.032186811405457996 [[ 4.16155574e+03]\n",
       " [ 1.80236307e+02]\n",
       " [-2.06972436e+00]\n",
       " [-2.93378926e-01]\n",
       " [-1.45708457e-01]]"
      ]
     },
     "execution_count": 15,
     "metadata": {},
     "output_type": "execute_result"
    }
   ],
   "source": [
    "arc_fits[0]"
   ]
  },
  {
   "cell_type": "markdown",
   "id": "8d144ff8-bc86-433c-9f80-c9c6bbd3827f",
   "metadata": {},
   "source": [
    "----"
   ]
  },
  {
   "cell_type": "markdown",
   "id": "946958b8-bf3f-47c0-b54c-b7957104657f",
   "metadata": {},
   "source": [
    "# Check format"
   ]
  },
  {
   "cell_type": "code",
   "execution_count": 16,
   "id": "41e8f27c-d707-4cd0-9db8-59b9b7ef3a5d",
   "metadata": {},
   "outputs": [],
   "source": [
    "uvb = Table.read('/home/xavier/Projects/PypeIt-codes/PypeIt/pypeit/data/arc_lines/reid_arxiv/vlt_xshooter_uvb1x1.fits')"
   ]
  },
  {
   "cell_type": "code",
   "execution_count": 18,
   "id": "59609291-6623-4417-8678-17bcf4705aea",
   "metadata": {},
   "outputs": [
    {
     "data": {
      "text/html": [
       "<div><i>Table length=12</i>\n",
       "<table id=\"table140125577237840\" class=\"table-striped table-bordered table-condensed\">\n",
       "<thead><tr><th>order</th><th>wave [3000]</th><th>flux [3000]</th></tr></thead>\n",
       "<thead><tr><th>int64</th><th>float64</th><th>float64</th></tr></thead>\n",
       "<tr><td>23</td><td>3061.200843546625 .. 3361.827013896483</td><td>0.0 .. 206.8142003874092</td></tr>\n",
       "<tr><td>22</td><td>3199.6138269644266 .. 3513.4185849070277</td><td>0.0 .. 22.115689105889828</td></tr>\n",
       "<tr><td>21</td><td>3350.615107752292 .. 3679.534668836916</td><td>0.0 .. 325.5441223868319</td></tr>\n",
       "<tr><td>20</td><td>3516.9640810871806 .. 3862.2427047382084</td><td>0.0 .. 115.49568910588994</td></tr>\n",
       "<tr><td>19</td><td>3700.898236868418 .. 4064.210359588411</td><td>0.0 .. 191.1656891058899</td></tr>\n",
       "<tr><td>18</td><td>3905.219391102456 .. 4288.594224382277</td><td>0.0 .. 74.79420038740932</td></tr>\n",
       "<tr><td>17</td><td>4133.676405642467 .. 4539.512298088612</td><td>0.0 .. 74.83561110531252</td></tr>\n",
       "<tr><td>16</td><td>4390.715557532662 .. 4821.678855526024</td><td>0.0 .. 653.6457671064674</td></tr>\n",
       "<tr><td>15</td><td>4682.136595629809 .. 5141.642635635653</td><td>0.0 .. 149.30568910588988</td></tr>\n",
       "<tr><td>14</td><td>5015.282485233975 .. 5507.300822302153</td><td>0.0 .. 488.5076336683512</td></tr>\n",
       "<tr><td>13</td><td>5399.7267736395925 .. 5929.31606532771</td><td>0.0 .. 29.714200387409278</td></tr>\n",
       "<tr><td>12</td><td>5848.360328234146 .. 6422.221724890194</td><td>0.0 .. 5.605611105312505</td></tr>\n",
       "</table></div>"
      ],
      "text/plain": [
       "<Table length=12>\n",
       "order               wave [3000]                       flux [3000]       \n",
       "int64                 float64                           float64         \n",
       "----- ---------------------------------------- -------------------------\n",
       "   23   3061.200843546625 .. 3361.827013896483  0.0 .. 206.8142003874092\n",
       "   22 3199.6138269644266 .. 3513.4185849070277 0.0 .. 22.115689105889828\n",
       "   21   3350.615107752292 .. 3679.534668836916  0.0 .. 325.5441223868319\n",
       "   20 3516.9640810871806 .. 3862.2427047382084 0.0 .. 115.49568910588994\n",
       "   19   3700.898236868418 .. 4064.210359588411  0.0 .. 191.1656891058899\n",
       "   18   3905.219391102456 .. 4288.594224382277  0.0 .. 74.79420038740932\n",
       "   17   4133.676405642467 .. 4539.512298088612  0.0 .. 74.83561110531252\n",
       "   16   4390.715557532662 .. 4821.678855526024  0.0 .. 653.6457671064674\n",
       "   15   4682.136595629809 .. 5141.642635635653 0.0 .. 149.30568910588988\n",
       "   14   5015.282485233975 .. 5507.300822302153  0.0 .. 488.5076336683512\n",
       "   13   5399.7267736395925 .. 5929.31606532771 0.0 .. 29.714200387409278\n",
       "   12   5848.360328234146 .. 6422.221724890194  0.0 .. 5.605611105312505"
      ]
     },
     "execution_count": 18,
     "metadata": {},
     "output_type": "execute_result"
    }
   ],
   "source": [
    "uvb"
   ]
  },
  {
   "cell_type": "code",
   "execution_count": null,
   "id": "797c9a2c-602e-4577-bd96-cf0f1f055cce",
   "metadata": {},
   "outputs": [],
   "source": []
  }
 ],
 "metadata": {
  "kernelspec": {
   "display_name": "Python 3 (ipykernel)",
   "language": "python",
   "name": "python3"
  },
  "language_info": {
   "codemirror_mode": {
    "name": "ipython",
    "version": 3
   },
   "file_extension": ".py",
   "mimetype": "text/x-python",
   "name": "python",
   "nbconvert_exporter": "python",
   "pygments_lexer": "ipython3",
   "version": "3.9.7"
  }
 },
 "nbformat": 4,
 "nbformat_minor": 5
}
