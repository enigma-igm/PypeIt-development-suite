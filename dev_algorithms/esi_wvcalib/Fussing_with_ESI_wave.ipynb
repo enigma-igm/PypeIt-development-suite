{
 "cells": [
  {
   "cell_type": "markdown",
   "id": "56294049-e8e9-4f02-8def-c82c195e3d3f",
   "metadata": {},
   "source": [
    "# Fussing with ESI wavelengths"
   ]
  },
  {
   "cell_type": "code",
   "execution_count": 3,
   "id": "e3d1a7e0-eae1-4a5e-abf2-0b1f5c228a4e",
   "metadata": {},
   "outputs": [],
   "source": [
    "# imports\n",
    "from astropy.io import fits\n",
    "from astropy.table import Table"
   ]
  },
  {
   "cell_type": "markdown",
   "id": "4ef8547a-d88e-4ff7-8c33-94a05abe6a57",
   "metadata": {},
   "source": [
    "# Load me"
   ]
  },
  {
   "cell_type": "code",
   "execution_count": 2,
   "id": "5a07a2ac-45fc-48d4-ad90-654ada171a2c",
   "metadata": {},
   "outputs": [
    {
     "name": "stdout",
     "output_type": "stream",
     "text": [
      "Filename: esi_archive_orders.fits\n",
      "No.    Name      Ver    Type      Cards   Dimensions   Format\n",
      "  0  PRIMARY       1 PrimaryHDU       4   ()      \n",
      "  1                1 BinTableHDU     31   2R x 5C   [8A, E, E, 50D, 2J]   \n"
     ]
    }
   ],
   "source": [
    "hdul = fits.open('esi_archive_orders.fits')\n",
    "hdul.info()"
   ]
  },
  {
   "cell_type": "code",
   "execution_count": 4,
   "id": "4256778b-7a54-4de4-8d05-acd208e363c9",
   "metadata": {},
   "outputs": [],
   "source": [
    "esi_wv = Table.read('esi_archive_orders.fits')"
   ]
  },
  {
   "cell_type": "code",
   "execution_count": 5,
   "id": "31f5af86-6b01-4ccd-a4f8-83ad0baf87e0",
   "metadata": {},
   "outputs": [
    {
     "data": {
      "text/html": [
       "<div><i>Table length=2</i>\n",
       "<table id=\"table140126731646816\" class=\"table-striped table-bordered table-condensed\">\n",
       "<thead><tr><th>FUNC</th><th>XMIN</th><th>XMAX</th><th>COEFF [10,5]</th><th>DIMS [2]</th></tr></thead>\n",
       "<thead><tr><th>bytes8</th><th>float32</th><th>float32</th><th>float64</th><th>int32</th></tr></thead>\n",
       "<tr><td>legendre</td><td>0.0</td><td>4095.0</td><td>46.95963668823242 .. -0.023959092795848846</td><td>2048 .. 4096</td></tr>\n",
       "<tr><td>legendre</td><td>0.0</td><td>4095.0</td><td>227.11875915527344 .. 0.07658693939447403</td><td>2048 .. 4096</td></tr>\n",
       "</table></div>"
      ],
      "text/plain": [
       "<Table length=2>\n",
       "  FUNC     XMIN  ...                COEFF [10,5]                  DIMS [2]  \n",
       " bytes8  float32 ...                  float64                      int32    \n",
       "-------- ------- ... ------------------------------------------ ------------\n",
       "legendre     0.0 ... 46.95963668823242 .. -0.023959092795848846 2048 .. 4096\n",
       "legendre     0.0 ...  227.11875915527344 .. 0.07658693939447403 2048 .. 4096"
      ]
     },
     "execution_count": 5,
     "metadata": {},
     "output_type": "execute_result"
    }
   ],
   "source": [
    "esi_wv"
   ]
  },
  {
   "cell_type": "code",
   "execution_count": null,
   "id": "c25b7063-94d2-4b23-826c-82bd9401e54c",
   "metadata": {},
   "outputs": [],
   "source": []
  }
 ],
 "metadata": {
  "kernelspec": {
   "display_name": "Python 3 (ipykernel)",
   "language": "python",
   "name": "python3"
  },
  "language_info": {
   "codemirror_mode": {
    "name": "ipython",
    "version": 3
   },
   "file_extension": ".py",
   "mimetype": "text/x-python",
   "name": "python",
   "nbconvert_exporter": "python",
   "pygments_lexer": "ipython3",
   "version": "3.9.7"
  }
 },
 "nbformat": 4,
 "nbformat_minor": 5
}
