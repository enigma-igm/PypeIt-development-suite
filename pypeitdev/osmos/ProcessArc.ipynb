{
 "cells": [
  {
   "cell_type": "markdown",
   "id": "c3d9b321-0de8-4cc5-a488-198288017192",
   "metadata": {},
   "source": [
    "# Process Arc"
   ]
  },
  {
   "cell_type": "code",
   "execution_count": 18,
   "id": "d7ecb20c-1dd7-47f4-b5a1-d9ac5a90ee75",
   "metadata": {},
   "outputs": [],
   "source": [
    "# imports\n",
    "from matplotlib import pyplot as plt\n",
    "from astropy.io import fits\n",
    "from astropy.table import Table\n",
    "from astropy import units\n",
    "\n",
    "from pypeit.core.wave import airtovac"
   ]
  },
  {
   "cell_type": "markdown",
   "id": "e4e68e28-82fe-4ff5-b0f3-d1ff982fcfb1",
   "metadata": {},
   "source": [
    "# Load up"
   ]
  },
  {
   "cell_type": "code",
   "execution_count": 3,
   "id": "155180f3-25bd-4f3b-aded-2f003e6ffceb",
   "metadata": {},
   "outputs": [
    {
     "name": "stderr",
     "output_type": "stream",
     "text": [
      "WARNING: The following header keyword is invalid or follows an unrecognized non-standard convention:\n",
      "MISFILT                        / MIS Filter Number                               [astropy.io.fits.card]\n",
      "WARNING: The following header keyword is invalid or follows an unrecognized non-standard convention:\n",
      "MISFLTID                       / MIS Filter ID                                   [astropy.io.fits.card]\n"
     ]
    },
    {
     "data": {
      "text/plain": [
       "SIMPLE  =                    T / Fits standard                                  \n",
       "BITPIX  =                  -32 / Bits per pixel                                 \n",
       "NAXIS   =                    1 / Number of axes                                 \n",
       "NAXIS1  =                 4094 / Axis length                                    \n",
       "EXTEND  =                    T / File may contain extensions                    \n",
       "ORIGIN  = 'NOAO-IRAF FITS Image Kernel July 2003' / FITS file originator        \n",
       "DATE    = '2023-05-16T15:50:32' / Date FITS file was generated                  \n",
       "IRAF-TLM= '2023-05-16T15:50:32' / Time of last modification                     \n",
       "OBJECT  = 'NeHgNe  '           / Name of the object observed                    \n",
       "GROUP   =                    0 /                                                \n",
       "DETECTOR= 'R4K     '              / Detector name                               \n",
       "GAINDL  =                   10 / Pixel integration time, in sequencer clocks    \n",
       "PIXITIME=            3.3000E-6 / Pixel integration time, in seconds             \n",
       "CCDXBIN =                    1 / CCD X-axis Binning Factor                      \n",
       "CCDYBIN =                    1 / CCD Y-axis Binning Factor                      \n",
       "OVERSCNX=                   32 /                                                \n",
       "OVERSCNY=                    0 /                                                \n",
       "READOUT = 'ARLBRL  '           / Amplifiers used in readout                     \n",
       "OBSERVAT= 'MDM     '           / Observatory name                               \n",
       "TELESCOP= '2.4m Hiltner'       / Telescope name                                 \n",
       "INSTRUME= 'Red4K   '           / Instrument name                                \n",
       "OBSLONG =           111.615556 / Site Longitude [deg W]                         \n",
       "OBSLAT  =            31.951389 / Site Latitude [deg N]                          \n",
       "OBSELEV =               1938.5 / Site Elevation [meters]                        \n",
       "OBSERVER= 'Halpern '           / Observer Name(s)                               \n",
       "IMAGETYP= 'COMP    '           / Type of observation                            \n",
       "EXPTIME =                  1.0 / Exposure time [seconds]                        \n",
       "DARKTIME=                 4.28 / Cumulative Dark Time [seconds]                 \n",
       "LEDFLASH=            0.0000E+0 / Time to flash lab LEDs [seconds]               \n",
       "FILENAME= 'cscu.0041'          / filename to be written to                      \n",
       "UNIQNAME= '171106R4.01r'       / Unique filename; if filename is invalid        \n",
       "ACQTAG  = 'OSMOS.20171107010227' / Unique Acquisition ID Tag                    \n",
       "DATE-OBS= '2017-11-07T01:02:59.769Z' / UTC Date at start of obs                 \n",
       "TIME-OBS= '01:02:59.769'       / UTC Time at start of obs                       \n",
       "TIMESYS = 'UTC     '           / Time System                                    \n",
       "JD      =       2458064.543747 / Julian Date at start of obs                    \n",
       "MJD     =         58064.043747 / Modified JD=JD-2400000.5                       \n",
       "TCSLINK = 'Active  '           / TCS Communications Link Status                 \n",
       "RA      = '20:42:14'           / Telescope RA                                   \n",
       "DEC     = '+31:48:14'          / Telescope DEC                                  \n",
       "HA      = '-00:00:43'          / HA at start of obs                             \n",
       "LST     = '20:42:15'           / LST at start of obs                            \n",
       "ZD      =                 0.21 / Zenith Distance at start of obs                \n",
       "SECZ    =                 1.00 / Secant of ZD at start of obs                   \n",
       "MISFILT                        / MIS Filter Number                              \n",
       "MISFLTID                       / MIS Filter ID                                  \n",
       "GPROBEX =                 1170 / MIS Guide Probe X                              \n",
       "GPROBEY =                 8765 / MIS Guide Probe Y                              \n",
       "MIRROR  = 'IN      '           / MIS Pickoff Mirror Position                    \n",
       "LAMPS   = 'Ne Hg   '           / MIS Calibration Lamps                          \n",
       "AMBTEMP =                 16.0 /                                                \n",
       "AIRTEMP =                 21.6 /                                                \n",
       "OBTEMP  =                 17.0 /                                                \n",
       "IEBTEMP =                 20.3 /                                                \n",
       "CAMFOC  =               5800.0 /                                                \n",
       "FILTID2 = 'Open    '           /                                                \n",
       "FILTER2 =                    6 /                                                \n",
       "FILTID1 = 'OG530   '           /                                                \n",
       "FILTER1 =                    5 /                                                \n",
       "DISPID  = 'Red Grism'          /                                                \n",
       "DISPPOS =                    6 /                                                \n",
       "COLFOC  =               2300.0 /                                                \n",
       "SLITID  = '3.0 center'         /                                                \n",
       "SLIT    =                    3 /                                                \n",
       "ROTANGLE=                 0.00 /                                                \n",
       "TELFOCUS=                 6209 /                                                \n",
       "EQUINOX =               2000.0 /                                                \n",
       "COMMENT  Detector Information                                                   \n",
       "COMMENT  Observatory Information                                                \n",
       "COMMENT  Exposure Information                                                   \n",
       "COMMENT  TCS Information                                                        \n",
       "COMMENT  MIS Information                                                        \n",
       "COMMENT                                                                         \n",
       "COMMENT Divided by flatfield normflat_3.0_center_Red_Grism4k.fits               \n",
       "BANDID1 = 'spectrum: background none, weights variance, clean yes'              \n",
       "WCSDIM  =                    2                                                  \n",
       "CTYPE1  = 'MULTISPE'                                                            \n",
       "CDELT1  =                   1.                                                  \n",
       "CD1_1   =                   1.                                                  \n",
       "LTM1_1  =                   1.                                                  \n",
       "WAT0_001= 'system=multispec'                                                    \n",
       "WAT1_001= 'wtype=multispec label=Wavelength units=angstroms'                    \n",
       "CTYPE2  = 'MULTISPE'                                                            \n",
       "CDELT2  =                   1.                                                  \n",
       "CD2_2   =                   1.                                                  \n",
       "LTM2_2  =                   1.                                                  \n",
       "WAXMAP01= '1 0 0 0 '                                                            \n",
       "WAT2_001= 'wtype=multispec spec1 = \"1 1 2 1. 1.3185093547773 4094 0. 2210.24 22'\n",
       "WAT2_002= '20.24 1. 0. 2 5 572.630249023438 4041.10000000001 7747.41327244689 -'\n",
       "WAT2_003= '2358.96567903428 51.4768498452646 19.3017625916362 1.46087112629865\"'\n",
       "DCLOG1  = 'REFSPEC1 = HgNeAr'                                                   \n",
       "                                                                                \n",
       "                                                                                \n",
       "                                                                                \n",
       "                                                                                \n",
       "                                                                                \n",
       "                                                                                \n",
       "                                                                                \n",
       "                                                                                \n",
       "                                                                                \n",
       "                                                                                \n",
       "                                                                                \n",
       "                                                                                \n",
       "                                                                                \n",
       "                                                                                \n",
       "                                                                                \n",
       "                                                                                "
      ]
     },
     "execution_count": 3,
     "metadata": {},
     "output_type": "execute_result"
    }
   ],
   "source": [
    "hdul = fits.open('HgNeAr_calibrated.fits')\n",
    "hdul[0].header"
   ]
  },
  {
   "cell_type": "markdown",
   "id": "ddd31ce3-8c35-4d5b-9141-037c78ded37e",
   "metadata": {},
   "source": [
    "# Read ASCII"
   ]
  },
  {
   "cell_type": "code",
   "execution_count": 4,
   "id": "2d900f79-797d-41ba-ac1e-6e17f05db9ff",
   "metadata": {},
   "outputs": [],
   "source": [
    "arc = Table.read('calibrated_ascii.txt', format='ascii')\n",
    "arc.rename_column('col1', 'wave')\n",
    "arc.rename_column('col2', 'flux')"
   ]
  },
  {
   "cell_type": "code",
   "execution_count": 5,
   "id": "63f66e06-dfac-40ba-a1ac-343320e21934",
   "metadata": {},
   "outputs": [
    {
     "data": {
      "image/png": "[encoded data removed]",
      "text/plain": [
       "<Figure size 640x480 with 1 Axes>"
      ]
     },
     "metadata": {},
     "output_type": "display_data"
    }
   ],
   "source": [
    "plt.clf()\n",
    "ax = plt.gca()\n",
    "\n",
    "ax.plot(arc['wave'], arc['flux'])\n",
    "\n",
    "plt.show()"
   ]
  },
  {
   "cell_type": "markdown",
   "id": "c0109d82-0384-4043-af57-38a20cda1741",
   "metadata": {},
   "source": [
    "# Check ours"
   ]
  },
  {
   "cell_type": "code",
   "execution_count": 6,
   "id": "e91ae462-1ded-4a2f-a26d-0f8ea503ce97",
   "metadata": {},
   "outputs": [],
   "source": [
    "arc_file = 'mdm_osmos_r4k_A/Calibrations/Arc_A_0_DET01.fits'"
   ]
  },
  {
   "cell_type": "code",
   "execution_count": 7,
   "id": "601af5fa-7b84-43ae-a786-11c141185d09",
   "metadata": {},
   "outputs": [
    {
     "name": "stdout",
     "output_type": "stream",
     "text": [
      "Filename: mdm_osmos_r4k_A/Calibrations/Arc_A_0_DET01.fits\n",
      "No.    Name      Ver    Type      Cards   Dimensions   Format\n",
      "  0  PRIMARY       1 PrimaryHDU      13   ()      \n",
      "  1  ARC_IMAGE     1 ImageHDU        30   (1048, 4060)   float64   \n",
      "  2  ARC_FULLMASK    1 ImageHDU        31   (1048, 4060)   int16   \n",
      "  3  ARC_DETECTOR    1 BinTableHDU     63   1R x 19C   [K, K, L, L, D, D, D, D, D, D, D, D, K, 4D, 4D, 64A, 52A, K, 3A]   \n"
     ]
    }
   ],
   "source": [
    "hdul = fits.open(arc_file)\n",
    "hdul.info()"
   ]
  },
  {
   "cell_type": "code",
   "execution_count": 8,
   "id": "26048da5-1253-4e85-bf77-02cccd54c565",
   "metadata": {},
   "outputs": [
    {
     "data": {
      "text/plain": [
       "(4060, 1048)"
      ]
     },
     "execution_count": 8,
     "metadata": {},
     "output_type": "execute_result"
    }
   ],
   "source": [
    "img = hdul[1].data\n",
    "img.shape"
   ]
  },
  {
   "cell_type": "code",
   "execution_count": 9,
   "id": "656c64b2-ffbb-45b4-af38-0716005d3bd5",
   "metadata": {},
   "outputs": [
    {
     "data": {
      "image/png": "[encoded data removed]",
      "text/plain": [
       "<Figure size 640x480 with 1 Axes>"
      ]
     },
     "metadata": {},
     "output_type": "display_data"
    }
   ],
   "source": [
    "plt.clf()\n",
    "ax = plt.gca()\n",
    "\n",
    "ax.plot(img[:, 500])\n",
    "ax.plot(arc['flux'][::-1]/3)\n",
    "\n",
    "plt.show()"
   ]
  },
  {
   "cell_type": "markdown",
   "id": "3f33a9b3-65ab-41ef-86f8-57f4626101f8",
   "metadata": {},
   "source": [
    "----"
   ]
  },
  {
   "cell_type": "markdown",
   "id": "058c487d-56e7-4c76-a0e4-cd34ff4202c1",
   "metadata": {},
   "source": [
    "# Generate arxiv"
   ]
  },
  {
   "cell_type": "code",
   "execution_count": 11,
   "id": "d88733ed-90cd-4ad5-b254-54ae3fdf8653",
   "metadata": {},
   "outputs": [
    {
     "data": {
      "text/plain": [
       "4094"
      ]
     },
     "execution_count": 11,
     "metadata": {},
     "output_type": "execute_result"
    }
   ],
   "source": [
    "len(arc)"
   ]
  },
  {
   "cell_type": "code",
   "execution_count": 13,
   "id": "94210034-674d-40e1-9740-6750cfc957b5",
   "metadata": {},
   "outputs": [
    {
     "data": {
      "text/html": [
       "<div><i>Table length=4060</i>\n",
       "<table id=\"table140659639681904\" class=\"table-striped table-bordered table-condensed\">\n",
       "<thead><tr><th>wave</th><th>flux</th></tr></thead>\n",
       "<thead><tr><th>float64</th><th>float64</th></tr></thead>\n",
       "<tr><td>5397.65878910331</td><td>68.52063</td></tr>\n",
       "<tr><td>5398.8457750657</td><td>296.9929</td></tr>\n",
       "<tr><td>5400.03293492922</td><td>-341.947</td></tr>\n",
       "<tr><td>5401.22026860811</td><td>266.1352</td></tr>\n",
       "<tr><td>5402.40777601658</td><td>-318.547</td></tr>\n",
       "<tr><td>5403.59545706887</td><td>255.3544</td></tr>\n",
       "<tr><td>5404.78331167926</td><td>-355.797</td></tr>\n",
       "<tr><td>5405.97133976201</td><td>250.4979</td></tr>\n",
       "<tr><td>5407.15954123143</td><td>-357.3912</td></tr>\n",
       "<tr><td>5408.34791600182</td><td>220.0012</td></tr>\n",
       "<tr><td>5409.53646398751</td><td>-335.2263</td></tr>\n",
       "<tr><td>5410.72518510285</td><td>199.5483</td></tr>\n",
       "<tr><td>5411.9140792622</td><td>-361.7102</td></tr>\n",
       "<tr><td>...</td><td>...</td></tr>\n",
       "<tr><td>10865.9891757465</td><td>698.1747</td></tr>\n",
       "<tr><td>10867.3648035614</td><td>-325.6859</td></tr>\n",
       "<tr><td>10868.7403969391</td><td>693.9734</td></tr>\n",
       "<tr><td>10870.1159558625</td><td>-349.4839</td></tr>\n",
       "<tr><td>10871.4914803142</td><td>696.9375</td></tr>\n",
       "<tr><td>10872.8669702773</td><td>-327.648</td></tr>\n",
       "<tr><td>10874.2424257346</td><td>686.219</td></tr>\n",
       "<tr><td>10875.6178466689</td><td>-338.5041</td></tr>\n",
       "<tr><td>10876.9932330632</td><td>678.1461</td></tr>\n",
       "<tr><td>10878.3685849004</td><td>-343.3042</td></tr>\n",
       "<tr><td>10879.7439021634</td><td>680.0391</td></tr>\n",
       "<tr><td>10881.1191848352</td><td>-333.2581</td></tr>\n",
       "<tr><td>10882.4944328988</td><td>685.1272</td></tr>\n",
       "<tr><td>10883.8696463371</td><td>-330.0337</td></tr>\n",
       "</table></div>"
      ],
      "text/plain": [
       "<Table length=4060>\n",
       "      wave          flux  \n",
       "    float64       float64 \n",
       "---------------- ---------\n",
       "5397.65878910331  68.52063\n",
       " 5398.8457750657  296.9929\n",
       "5400.03293492922  -341.947\n",
       "5401.22026860811  266.1352\n",
       "5402.40777601658  -318.547\n",
       "5403.59545706887  255.3544\n",
       "5404.78331167926  -355.797\n",
       "5405.97133976201  250.4979\n",
       "5407.15954123143 -357.3912\n",
       "5408.34791600182  220.0012\n",
       "5409.53646398751 -335.2263\n",
       "5410.72518510285  199.5483\n",
       " 5411.9140792622 -361.7102\n",
       "             ...       ...\n",
       "10865.9891757465  698.1747\n",
       "10867.3648035614 -325.6859\n",
       "10868.7403969391  693.9734\n",
       "10870.1159558625 -349.4839\n",
       "10871.4914803142  696.9375\n",
       "10872.8669702773  -327.648\n",
       "10874.2424257346   686.219\n",
       "10875.6178466689 -338.5041\n",
       "10876.9932330632  678.1461\n",
       "10878.3685849004 -343.3042\n",
       "10879.7439021634  680.0391\n",
       "10881.1191848352 -333.2581\n",
       "10882.4944328988  685.1272\n",
       "10883.8696463371 -330.0337"
      ]
     },
     "execution_count": 13,
     "metadata": {},
     "output_type": "execute_result"
    }
   ],
   "source": [
    "new_tbl = arc.copy()\n",
    "new_tbl.sort('wave')\n",
    "new_tbl = new_tbl[0:4060]\n",
    "new_tbl"
   ]
  },
  {
   "cell_type": "markdown",
   "id": "c975c210-fdc4-4912-804f-9aff5e7c0f1b",
   "metadata": {},
   "source": [
    "## Add meta"
   ]
  },
  {
   "cell_type": "code",
   "execution_count": 15,
   "id": "a8b585b3-49cc-47e4-baa5-db69de84ce4c",
   "metadata": {},
   "outputs": [],
   "source": [
    "new_tbl.meta['BINSPEC'] = 1."
   ]
  },
  {
   "cell_type": "markdown",
   "id": "187c2089-4ec9-4541-a440-2d5d4c3a0dda",
   "metadata": {},
   "source": [
    "## Convert to Vacuum"
   ]
  },
  {
   "cell_type": "code",
   "execution_count": 19,
   "id": "98406044-3249-4c48-bb37-69a2249e37ab",
   "metadata": {},
   "outputs": [],
   "source": [
    "new_tbl['wave'] = airtovac(new_tbl['wave'] * units.AA)"
   ]
  },
  {
   "cell_type": "markdown",
   "id": "f70a4f47-e72b-414b-ab72-95c388fa468d",
   "metadata": {},
   "source": [
    "## Write"
   ]
  },
  {
   "cell_type": "code",
   "execution_count": 20,
   "id": "16a6beb1-a0c6-4b02-bd9b-189919ab4789",
   "metadata": {},
   "outputs": [],
   "source": [
    "new_tbl.write('mdm_osmos_r4k.fits')"
   ]
  },
  {
   "cell_type": "code",
   "execution_count": null,
   "id": "3d4dba64-9ea9-4b5d-9c43-a38f159a6a14",
   "metadata": {},
   "outputs": [],
   "source": []
  }
 ],
 "metadata": {
  "kernelspec": {
   "display_name": "Python 3 (ipykernel)",
   "language": "python",
   "name": "python3"
  },
  "language_info": {
   "codemirror_mode": {
    "name": "ipython",
    "version": 3
   },
   "file_extension": ".py",
   "mimetype": "text/x-python",
   "name": "python",
   "nbconvert_exporter": "python",
   "pygments_lexer": "ipython3",
   "version": "3.9.15"
  }
 },
 "nbformat": 4,
 "nbformat_minor": 5
}
