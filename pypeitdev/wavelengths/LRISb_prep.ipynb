{
 "cells": [
  {
   "cell_type": "markdown",
   "metadata": {},
   "source": [
    "# Prep for fitting LRISb"
   ]
  },
  {
   "cell_type": "code",
   "execution_count": 47,
   "metadata": {},
   "outputs": [],
   "source": [
    "# imports\n",
    "from importlib import reload\n",
    "import numpy as np\n",
    "\n",
    "from pypeit.core.wavecal import wvutils\n",
    "from pypeit.core.wavecal import waveio\n",
    "\n",
    "import lrisb_tinkering as lbt"
   ]
  },
  {
   "cell_type": "markdown",
   "metadata": {},
   "source": [
    "## Init"
   ]
  },
  {
   "cell_type": "code",
   "execution_count": 26,
   "metadata": {},
   "outputs": [
    {
     "data": {
      "text/html": [
       "<i>Table length=4</i>\n",
       "<table id=\"table140699118121648\" class=\"table-striped table-bordered table-condensed\">\n",
       "<thead><tr><th>ion</th><th>wave</th><th>NIST</th><th>Instr</th><th>amplitude</th><th>Source</th></tr></thead>\n",
       "<thead><tr><th>str3</th><th>float64</th><th>int64</th><th>int64</th><th>float64</th><th>str26</th></tr></thead>\n",
       "<tr><td>NeI</td><td>5854.1101</td><td>1</td><td>9</td><td>7489.0</td><td>lrisr_600_7500_PYPIT.json</td></tr>\n",
       "<tr><td>NeI</td><td>5883.5252</td><td>1</td><td>1</td><td>5962.0</td><td>lrisr_600_7500_PYPIT.json</td></tr>\n",
       "<tr><td>NeI</td><td>5946.481</td><td>1</td><td>9</td><td>10105.0</td><td>lrisr_600_7500_PYPIT.json</td></tr>\n",
       "<tr><td>NeI</td><td>5977.1895</td><td>1</td><td>9</td><td>2204.0</td><td>lrisr_600_7500_PYPIT.json</td></tr>\n",
       "</table>"
      ],
      "text/plain": [
       "<Table length=4>\n",
       "ion     wave    NIST Instr amplitude           Source         \n",
       "str3  float64  int64 int64  float64            str26          \n",
       "---- --------- ----- ----- --------- -------------------------\n",
       " NeI 5854.1101     1     9    7489.0 lrisr_600_7500_PYPIT.json\n",
       " NeI 5883.5252     1     1    5962.0 lrisr_600_7500_PYPIT.json\n",
       " NeI  5946.481     1     9   10105.0 lrisr_600_7500_PYPIT.json\n",
       " NeI 5977.1895     1     9    2204.0 lrisr_600_7500_PYPIT.json"
      ]
     },
     "execution_count": 26,
     "metadata": {},
     "output_type": "execute_result"
    }
   ],
   "source": [
    "lamps = ['NeI', 'ArI', 'CdI', 'KrI', 'XeI', 'ZnI', 'HgI']\n",
    "llist = waveio.load_line_lists(lamps)\n",
    "llist[0:4]"
   ]
  },
  {
   "cell_type": "markdown",
   "metadata": {},
   "source": [
    "## Try a slit"
   ]
  },
  {
   "cell_type": "markdown",
   "metadata": {},
   "source": [
    "### Get shift"
   ]
  },
  {
   "cell_type": "code",
   "execution_count": 9,
   "metadata": {},
   "outputs": [],
   "source": [
    "slit = 2\n",
    "tspec = lbt.wv_dict[str(slit)]['spec'] \n",
    "nspec = len(tspec)"
   ]
  },
  {
   "cell_type": "code",
   "execution_count": 6,
   "metadata": {},
   "outputs": [
    {
     "data": {
      "text/plain": [
       "(619, 213.70346729488756)"
      ]
     },
     "execution_count": 6,
     "metadata": {},
     "output_type": "execute_result"
    }
   ],
   "source": [
    "reload(lbt)\n",
    "npad, shift_cc = lbt.get_shift(slit)\n",
    "npad, shift_cc"
   ]
  },
  {
   "cell_type": "code",
   "execution_count": 7,
   "metadata": {},
   "outputs": [],
   "source": [
    "i0 = npad//2 + int(shift_cc)"
   ]
  },
  {
   "cell_type": "markdown",
   "metadata": {},
   "source": [
    "### Pull spec from master and find its lines"
   ]
  },
  {
   "cell_type": "code",
   "execution_count": 19,
   "metadata": {},
   "outputs": [],
   "source": [
    "mspec = lbt.nwspec[i0:i0+nspec]\n",
    "mwv = lbt.nwwv[i0:i0+nspec]"
   ]
  },
  {
   "cell_type": "code",
   "execution_count": 12,
   "metadata": {},
   "outputs": [],
   "source": [
    "all_tcent, all_ecent, cut_tcent, icut, arc_cont_sub = wvutils.arc_lines_from_spec(mspec)"
   ]
  },
  {
   "cell_type": "markdown",
   "metadata": {},
   "source": [
    "### Wavelengths"
   ]
  },
  {
   "cell_type": "code",
   "execution_count": 21,
   "metadata": {},
   "outputs": [
    {
     "data": {
      "text/plain": [
       "array([3611.69631063, 3651.11454808, 3664.28820811, 4048.28700969,\n",
       "       4079.00672906, 4138.08378363, 4275.09322457, 4320.85884216,\n",
       "       4359.23115343, 4503.20452969, 4664.3663348 , 4679.74272335,\n",
       "       4723.32893932, 4801.58700243, 4811.8547367 , 4917.13351956,\n",
       "       5087.89190634, 5155.88600034, 5462.83996364, 5572.26092695,\n",
       "       5770.90958433, 5792.31955426, 5882.75227647, 5930.3111524 ,\n",
       "       5946.5528839 , 5991.45148923, 6005.14690804, 6031.26115194,\n",
       "       6075.92935017, 6098.21508359])"
      ]
     },
     "execution_count": 21,
     "metadata": {},
     "output_type": "execute_result"
    }
   ],
   "source": [
    "gdwv = mwv[np.round(all_tcent).astype(int)]\n",
    "gdwv"
   ]
  },
  {
   "cell_type": "markdown",
   "metadata": {},
   "source": [
    "### Match to linelist"
   ]
  },
  {
   "cell_type": "code",
   "execution_count": 27,
   "metadata": {},
   "outputs": [
    {
     "data": {
      "text/plain": [
       "1.182677735611378"
      ]
     },
     "execution_count": 27,
     "metadata": {},
     "output_type": "execute_result"
    }
   ],
   "source": [
    "dwv = mwv[1]-mwv[0]\n",
    "dwv"
   ]
  },
  {
   "cell_type": "code",
   "execution_count": 34,
   "metadata": {},
   "outputs": [
    {
     "data": {
      "text/plain": [
       "array([ True,  True,  True,  True,  True, False, False, False,  True,\n",
       "       False, False,  True,  True,  True,  True, False,  True, False,\n",
       "        True, False,  True,  True,  True,  True,  True, False, False,\n",
       "        True,  True,  True])"
      ]
     },
     "execution_count": 34,
     "metadata": {},
     "output_type": "execute_result"
    }
   ],
   "source": [
    "lmask = np.zeros(gdwv.size, dtype=bool)\n",
    "for kk,iwv in enumerate(gdwv):\n",
    "    if np.min(np.abs(iwv-llist['wave'])) < dwv:\n",
    "        lmask[kk] = True\n",
    "lmask"
   ]
  },
  {
   "cell_type": "code",
   "execution_count": 35,
   "metadata": {},
   "outputs": [
    {
     "data": {
      "text/plain": [
       "array([4138.08378363, 4275.09322457, 4320.85884216, 4503.20452969,\n",
       "       4664.3663348 , 4917.13351956, 5155.88600034, 5572.26092695,\n",
       "       5991.45148923, 6005.14690804])"
      ]
     },
     "execution_count": 35,
     "metadata": {},
     "output_type": "execute_result"
    }
   ],
   "source": [
    "gdwv[~lmask]"
   ]
  },
  {
   "cell_type": "markdown",
   "metadata": {},
   "source": [
    "### Trim off 10%"
   ]
  },
  {
   "cell_type": "code",
   "execution_count": 41,
   "metadata": {},
   "outputs": [],
   "source": [
    "trim = 0.05"
   ]
  },
  {
   "cell_type": "code",
   "execution_count": 42,
   "metadata": {},
   "outputs": [],
   "source": [
    "tmask = (all_tcent/mspec.size > trim) & (all_tcent/mspec.size < (1-trim))"
   ]
  },
  {
   "cell_type": "markdown",
   "metadata": {},
   "source": [
    "### Targets identified"
   ]
  },
  {
   "cell_type": "code",
   "execution_count": 43,
   "metadata": {},
   "outputs": [],
   "source": [
    "mask = tmask & lmask"
   ]
  },
  {
   "cell_type": "code",
   "execution_count": 44,
   "metadata": {},
   "outputs": [],
   "source": [
    "targ_wv = gdwv[mask]\n",
    "targ_y = mspec[np.round(all_tcent).astype(int)][mask]"
   ]
  },
  {
   "cell_type": "code",
   "execution_count": 45,
   "metadata": {},
   "outputs": [
    {
     "data": {
      "text/plain": [
       "array([3664.28820811, 4048.28700969, 4079.00672906, 4359.23115343,\n",
       "       4679.74272335, 4723.32893932, 4801.58700243, 4811.8547367 ,\n",
       "       5087.89190634, 5462.83996364, 5770.90958433, 5792.31955426,\n",
       "       5882.75227647, 5930.3111524 , 5946.5528839 ])"
      ]
     },
     "execution_count": 45,
     "metadata": {},
     "output_type": "execute_result"
    }
   ],
   "source": [
    "targ_wv"
   ]
  },
  {
   "cell_type": "code",
   "execution_count": null,
   "metadata": {},
   "outputs": [],
   "source": []
  }
 ],
 "metadata": {
  "kernelspec": {
   "display_name": "Python 3",
   "language": "python",
   "name": "python3"
  },
  "language_info": {
   "codemirror_mode": {
    "name": "ipython",
    "version": 3
   },
   "file_extension": ".py",
   "mimetype": "text/x-python",
   "name": "python",
   "nbconvert_exporter": "python",
   "pygments_lexer": "ipython3",
   "version": "3.6.3"
  }
 },
 "nbformat": 4,
 "nbformat_minor": 2
}
