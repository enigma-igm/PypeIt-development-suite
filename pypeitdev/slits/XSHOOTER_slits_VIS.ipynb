{
 "cells": [
  {
   "cell_type": "markdown",
   "metadata": {},
   "source": [
    "# CHECK XSHOOTER TRACE"
   ]
  },
  {
   "cell_type": "code",
   "execution_count": 1,
   "metadata": {
    "collapsed": true
   },
   "outputs": [],
   "source": [
    "from __future__ import (print_function, absolute_import)\n",
    "from __future__ import (division, unicode_literals)\n",
    "\n",
    "# importing\n",
    "\n",
    "import numpy as np\n",
    "from astropy.io import fits\n",
    "from astropy import units\n",
    "from glob import glob\n",
    "import os\n",
    "import argparse\n",
    "\n",
    "from pypeit import ginga\n",
    "from pypeit.core import pixels\n",
    "from pypeit import traceslits\n",
    "from pypeit import processimages\n",
    "from pypeit import scienceimage\n",
    "from pypeit import arcimage\n",
    "from pypeit.core import arc\n",
    "from pypeit import wavecalib\n",
    "from pypeit import wavetilts\n",
    "from pypeit import waveimage\n",
    "from pypeit import flatfield\n",
    "from pypeit import traceimage\n",
    "from pypeit import specobjs\n",
    "from pypeit import utils\n",
    "from pypeit import biasframe\n",
    "\n",
    "# Spectrgraph and Settings\n",
    "from pypeit.spectrographs.util import load_spectrograph\n",
    "from pypeit.par import pypeitpar\n",
    "from pypeit import ginga\n",
    "from pypeit.core.skysub import global_skysub\n",
    "from pypeit.core import skysub\n",
    "from pypeit.core import extract\n",
    "from pypeit.core.flux import generate_sensfunc\n",
    "#from pypeit.core.flux import generate_sensfunc\n",
    "from linetools import utils as ltu\n",
    "\n",
    "from IPython import embed\n",
    "from matplotlib import pyplot as plt"
   ]
  },
  {
   "cell_type": "code",
   "execution_count": 2,
   "metadata": {
    "collapsed": true
   },
   "outputs": [],
   "source": [
    "# import os\n",
    "# os.system('ginga --modules=RC&')"
   ]
  },
  {
   "cell_type": "code",
   "execution_count": 3,
   "metadata": {
    "collapsed": false
   },
   "outputs": [
    {
     "data": {
      "text/plain": [
       "Parameter       Value       Default     Type        Callable\n",
       "------------------------------------------------------------\n",
       "function        legendre    legendre    str         False   \n",
       "polyorder       6           3           int         False   \n",
       "medrep          0           0           int         False   \n",
       "number          -1          -1          int         False   \n",
       "trim            3, 3        3, 3        tuple       False   \n",
       "maxgap          None        None        int         False   \n",
       "maxshift        0.5         0.15        int, float  False   \n",
       "pad             0           0           int         False   \n",
       "sigdetect       8.0         20.0        int, float  False   \n",
       "fracignore      0.01        0.01        float       False   \n",
       "min_slit_width  6.0         6.0         float       False   \n",
       "diffpolyorder   2           2           int         False   \n",
       "single          []          []          list        False   \n",
       "sobel_mode      nearest     nearest     str         False   \n",
       "pcatype         pixel       pixel       str         False   \n",
       "pcapar          3, 2, 1, 0  3, 2, 1, 0  list        False   \n",
       "pcaextrap       0, 0        0, 0        list        False   "
      ]
     },
     "execution_count": 3,
     "metadata": {},
     "output_type": "execute_result"
    }
   ],
   "source": [
    "spectro_name = 'vlt_xshooter_vis'\n",
    "spectrograph = load_spectrograph(spectrograph=spectro_name)\n",
    "\n",
    "### Load settings\n",
    "\n",
    "## Detector settings\n",
    "par = spectrograph.default_pypeit_par()\n",
    "\n",
    "## Trace settings\n",
    "par['calibrations']['traceframe']['process']['overscan'] = 'median'\n",
    "\n",
    "# Arc settings\n",
    "par['calibrations']['arcframe']['process']['overscan'] = 'median'\n",
    "\n",
    "# Flat settings\n",
    "par['calibrations']['pixelflatframe']['process']['overscan'] = 'median'\n",
    "\n",
    "# Slits settings\n",
    "par['calibrations']['slits']['polyorder'] = 6\n",
    "par['calibrations']['slits']['number'] = -1\n",
    "par['calibrations']['slits']['maxshift'] = 0.5\n",
    "par['calibrations']['slits']['sigdetect'] = 8.0\n",
    "par['calibrations']['slits']['fracignore'] = 0.01\n",
    "par['calibrations']['slits']['pcatype'] = 'pixel'\n",
    "\n",
    "\n",
    "par['calibrations']['slits']"
   ]
  },
  {
   "cell_type": "code",
   "execution_count": 4,
   "metadata": {
    "collapsed": false
   },
   "outputs": [
    {
     "name": "stdout",
     "output_type": "stream",
     "text": [
      "[Parameter      Value         Default  Type              Callable\n",
      "----------------------------------------------------------------\n",
      "dataext        0             0        int               False   \n",
      "dispaxis       0             0        int               False   \n",
      "dispflip       False         False    bool              False   \n",
      "xgap           0.0           0.0      int, float        False   \n",
      "ygap           0.0           0.0      int, float        False   \n",
      "ysize          1.0           1.0      int, float        False   \n",
      "platescale     0.16          0.135    int, float        False   \n",
      "darkcurr       0.0           0.0      int, float        False   \n",
      "saturation     65535.0       65535.0  int, float        False   \n",
      "mincounts      -1000.0       -1000.0  int, float        False   \n",
      "nonlinear      0.86          0.86     int, float        False   \n",
      "numamplifiers  1             1        int               False   \n",
      "gain           0.595         4.0      int, float, list  False   \n",
      "ronoise        3.1           None     int, float, list  False   \n",
      "datasec        [29:1970,1:]  DATASEC  str, list         False   \n",
      "oscansec       [2:7,1:]      BIASSEC  str, list         False   \n",
      "suffix         _VIS                   str               False   \n",
      "]\n"
     ]
    }
   ],
   "source": [
    "spectrograph.detector[0]['datasec'] = '[29:1970,1:]'\n",
    "spectrograph.detector[0]['oscansec'] = '[2:7,1:]'\n",
    "print(spectrograph.detector)"
   ]
  },
  {
   "cell_type": "markdown",
   "metadata": {},
   "source": [
    "# Testing Binning"
   ]
  },
  {
   "cell_type": "code",
   "execution_count": 5,
   "metadata": {
    "collapsed": true
   },
   "outputs": [],
   "source": [
    "xs_dir = '/home/ema/Dropbox/XshooterTestBed/VLT_XSHOOTER/'\n",
    "\n",
    "# binning = '1x1'\n",
    "binning = '1x2'\n",
    "# binning = '2x2'"
   ]
  },
  {
   "cell_type": "markdown",
   "metadata": {},
   "source": [
    "# Testing 1x1 binning"
   ]
  },
  {
   "cell_type": "code",
   "execution_count": 6,
   "metadata": {
    "collapsed": true
   },
   "outputs": [],
   "source": [
    "if binning is '1x1':\n",
    "    print('1x1 binning')\n",
    "    xsvis1x1_dir = xs_dir+'VIS_1x1/'\n",
    "\n",
    "    bias_files = [xsvis1x1_dir+'XSHOO.2010-04-28T10:23:42.901.fits.gz',\n",
    "                  xsvis1x1_dir+'XSHOO.2010-04-28T10:26:26.465.fits.gz',\n",
    "                  xsvis1x1_dir+'XSHOO.2010-04-28T10:29:10.029.fits.gz']\n",
    "    flat_files = [xsvis1x1_dir+'XSHOO.2010-04-28T12:24:28.466.fits.gz',\n",
    "                  xsvis1x1_dir+'XSHOO.2010-04-28T12:25:39.192.fits.gz',\n",
    "                  xsvis1x1_dir+'XSHOO.2010-04-28T12:26:49.168.fits.gz']"
   ]
  },
  {
   "cell_type": "markdown",
   "metadata": {},
   "source": [
    "# Testing 1x2 binning"
   ]
  },
  {
   "cell_type": "code",
   "execution_count": 7,
   "metadata": {
    "collapsed": false
   },
   "outputs": [
    {
     "name": "stdout",
     "output_type": "stream",
     "text": [
      "1x2 binning\n"
     ]
    }
   ],
   "source": [
    "if binning is '1x2':\n",
    "    print('1x2 binning')\n",
    "    xsvis1x2_dir = xs_dir+'VIS_1x2/'\n",
    "\n",
    "    bias_files = [xsvis1x2_dir+'XSHOO.2016-08-02T10:45:45.410.fits.gz',\n",
    "                  xsvis1x2_dir+'XSHOO.2016-08-02T10:47:16.857.fits.gz',\n",
    "                  xsvis1x2_dir+'XSHOO.2016-08-02T10:48:48.184.fits.gz']\n",
    "\n",
    "    flat_files = [xsvis1x2_dir+'XSHOO.2016-08-02T13:36:24.258.fits.gz',\n",
    "                  xsvis1x2_dir+'XSHOO.2016-08-02T13:37:24.132.fits.gz',\n",
    "                  xsvis1x2_dir+'XSHOO.2016-08-02T13:38:24.917.fits.gz']"
   ]
  },
  {
   "cell_type": "markdown",
   "metadata": {},
   "source": [
    "# Testing 2x2 binning"
   ]
  },
  {
   "cell_type": "code",
   "execution_count": 8,
   "metadata": {
    "collapsed": true
   },
   "outputs": [],
   "source": [
    "if binning is '2x2':\n",
    "    print('2x2 binning')\n",
    "    xsvis2x2_dir = xs_dir+'VIS_2x2/'\n",
    "\n",
    "    bias_files = [xsvis2x2_dir+'XSHOO.2016-10-08T10:07:38.147.fits.gz',\n",
    "                  xsvis2x2_dir+'XSHOO.2016-10-08T10:08:35.051.fits.gz',\n",
    "                  xsvis2x2_dir+'XSHOO.2016-10-08T10:09:30.026.fits.gz']\n",
    "\n",
    "    flat_files = [xsvis2x2_dir+'XSHOO.2016-10-08T13:03:20.598.fits.gz',\n",
    "                  xsvis2x2_dir+'XSHOO.2016-10-08T13:03:57.921.fits.gz',\n",
    "                  xsvis2x2_dir+'XSHOO.2016-10-08T13:04:35.024.fits.gz']"
   ]
  },
  {
   "cell_type": "code",
   "execution_count": 9,
   "metadata": {
    "collapsed": false
   },
   "outputs": [
    {
     "name": "stderr",
     "output_type": "stream",
     "text": [
      "\u001b[1;31m[WARNING] ::\u001b[0m \u001b[1;34mprocessimages.py 448 process()\u001b[0m - Your images have not been bias subtracted!\n",
      "\u001b[1;32m[INFO]    ::\u001b[0m \u001b[1;34mcombine.py 62 comb_frames()\u001b[0m - Combining 3 bias frames\n",
      "\u001b[1;30m[WORK IN ]::\u001b[0m\n",
      "\u001b[1;33m[PROGRESS]::\u001b[0m \u001b[1;34mcombine.py 66 comb_frames()\u001b[0m - lscomb feature has not been included here yet...\n",
      "\u001b[1;32m[INFO]    ::\u001b[0m \u001b[1;34mcombine.py 95 comb_frames()\u001b[0m - Finding saturated and non-linear pixels\n",
      "\u001b[1;32m[INFO]    ::\u001b[0m \u001b[1;34mcombine.py 119 comb_frames()\u001b[0m - Rejecting cosmic rays\n",
      "\u001b[1;32m[INFO]    ::\u001b[0m \u001b[1;34mcombine.py 163 comb_frames()\u001b[0m - Not rejecting any low/high pixels\n",
      "\u001b[1;32m[INFO]    ::\u001b[0m \u001b[1;34mcombine.py 171 comb_frames()\u001b[0m - Rejecting deviant pixels\n",
      "\u001b[1;32m[INFO]    ::\u001b[0m \u001b[1;34mcombine.py 188 comb_frames()\u001b[0m - Combining frames with a weightmean operation\n",
      "\u001b[1;32m[INFO]    ::\u001b[0m \u001b[1;34mcombine.py 201 comb_frames()\u001b[0m - Replacing completely masked pixels with the maxnonsat value of the input frames\n",
      "\u001b[1;32m[INFO]    ::\u001b[0m \u001b[1;34mcombine.py 215 comb_frames()\u001b[0m - 3 bias frames combined successfully!\n"
     ]
    }
   ],
   "source": [
    "par['calibrations']['biasframe']['number'] = 3\n",
    "\n",
    "bImage = biasframe.BiasFrame(spectrograph,\n",
    "                             file_list=bias_files,\n",
    "                             par=par['calibrations']['biasframe'])\n",
    "\n",
    "bimage = bImage.process()"
   ]
  },
  {
   "cell_type": "code",
   "execution_count": 10,
   "metadata": {
    "collapsed": false
   },
   "outputs": [
    {
     "name": "stderr",
     "output_type": "stream",
     "text": [
      "\u001b[1;32m[INFO]    ::\u001b[0m \u001b[1;34mprocessimages.py 281 bias_subtract()\u001b[0m - Bias subtracting your image(s)\n",
      "\u001b[1;32m[INFO]    ::\u001b[0m \u001b[1;34mprocessimages.py 288 bias_subtract()\u001b[0m - Subtracting bias image from raw frame\n",
      "\u001b[1;32m[INFO]    ::\u001b[0m \u001b[1;34mprocessimages.py 288 bias_subtract()\u001b[0m - Subtracting bias image from raw frame\n",
      "\u001b[1;32m[INFO]    ::\u001b[0m \u001b[1;34mprocessimages.py 288 bias_subtract()\u001b[0m - Subtracting bias image from raw frame\n",
      "\u001b[1;32m[INFO]    ::\u001b[0m \u001b[1;34mcombine.py 62 comb_frames()\u001b[0m - Combining 3 trace_image frames\n",
      "\u001b[1;30m[WORK IN ]::\u001b[0m\n",
      "\u001b[1;33m[PROGRESS]::\u001b[0m \u001b[1;34mcombine.py 66 comb_frames()\u001b[0m - lscomb feature has not been included here yet...\n",
      "\u001b[1;32m[INFO]    ::\u001b[0m \u001b[1;34mcombine.py 95 comb_frames()\u001b[0m - Finding saturated and non-linear pixels\n",
      "\u001b[1;32m[INFO]    ::\u001b[0m \u001b[1;34mcombine.py 119 comb_frames()\u001b[0m - Rejecting cosmic rays\n",
      "\u001b[1;32m[INFO]    ::\u001b[0m \u001b[1;34mcombine.py 163 comb_frames()\u001b[0m - Not rejecting any low/high pixels\n",
      "\u001b[1;32m[INFO]    ::\u001b[0m \u001b[1;34mcombine.py 171 comb_frames()\u001b[0m - Rejecting deviant pixels\n",
      "\u001b[1;32m[INFO]    ::\u001b[0m \u001b[1;34mcombine.py 188 comb_frames()\u001b[0m - Combining frames with a weightmean operation\n",
      "\u001b[1;32m[INFO]    ::\u001b[0m \u001b[1;34mcombine.py 201 comb_frames()\u001b[0m - Replacing completely masked pixels with the maxnonsat value of the input frames\n",
      "\u001b[1;32m[INFO]    ::\u001b[0m \u001b[1;34mcombine.py 215 comb_frames()\u001b[0m - 3 trace_image frames combined successfully!\n"
     ]
    }
   ],
   "source": [
    "tImage = traceimage.TraceImage(spectrograph,\n",
    "                               file_list=flat_files,\n",
    "                               par=par['calibrations']['traceframe'])\n",
    "\n",
    "tflat = tImage.process(bias_subtract=bimage,\n",
    "                       trim=True)\n",
    "mstrace = tflat.copy()"
   ]
  },
  {
   "cell_type": "code",
   "execution_count": 11,
   "metadata": {
    "collapsed": false
   },
   "outputs": [
    {
     "name": "stderr",
     "output_type": "stream",
     "text": [
      "\u001b[1;32m[INFO]    ::\u001b[0m \u001b[1;34mpixels.py 37 gen_pixloc()\u001b[0m - Deriving physical pixel locations on the detector\n",
      "\u001b[1;32m[INFO]    ::\u001b[0m \u001b[1;34mpixels.py 40 gen_pixloc()\u001b[0m - Pixel gap in the dispersion direction = 0.000\n",
      "\u001b[1;32m[INFO]    ::\u001b[0m \u001b[1;34mpixels.py 41 gen_pixloc()\u001b[0m - Pixel size in the dispersion direction = 1.000\n",
      "\u001b[1;32m[INFO]    ::\u001b[0m \u001b[1;34mpixels.py 44 gen_pixloc()\u001b[0m - Pixel gap in the spatial direction = 0.000\n",
      "\u001b[1;32m[INFO]    ::\u001b[0m \u001b[1;34mpixels.py 45 gen_pixloc()\u001b[0m - Pixel size in the spatial direction = 1.000\n",
      "\u001b[1;32m[INFO]    ::\u001b[0m \u001b[1;34mpixels.py 50 gen_pixloc()\u001b[0m - Saving pixel locations\n"
     ]
    }
   ],
   "source": [
    "pixlocn = pixels.gen_pixloc(tImage.stack.shape)\n",
    "bpm = spectrograph.bpm(shape=tflat.shape, det=1)"
   ]
  },
  {
   "cell_type": "code",
   "execution_count": 12,
   "metadata": {
    "collapsed": true
   },
   "outputs": [],
   "source": [
    "ginga.show_image(bpm)\n",
    "_, _ = ginga.show_image(tflat*(1.-bpm))"
   ]
  },
  {
   "cell_type": "code",
   "execution_count": 13,
   "metadata": {
    "collapsed": false
   },
   "outputs": [
    {
     "name": "stderr",
     "output_type": "stream",
     "text": [
      "\u001b[1;32m[INFO]    ::\u001b[0m \u001b[1;34mtrace_slits.py 813 edgearr_from_binarr()\u001b[0m - Detecting slit edges in the mstrace image\n",
      "\u001b[1;32m[INFO]    ::\u001b[0m \u001b[1;34mtrace_slits.py 874 edgearr_from_binarr()\u001b[0m - Applying bad pixel mask\n",
      "\u001b[1;32m[INFO]    ::\u001b[0m \u001b[1;34mtrace_slits.py 933 edgearr_add_left_right()\u001b[0m - 17 left edges and 18 right edges were found in the trace\n",
      "\u001b[1;32m[INFO]    ::\u001b[0m \u001b[1;34mtrace_slits.py 960 edgearr_add_left_right()\u001b[0m - Assigning slit edge traces\n",
      "\u001b[1;32m[INFO]    ::\u001b[0m \u001b[1;34mtraceslits.py 361 _assign_edges()\u001b[0m - Assigning left slit edges\n",
      "             \u001b[1;34mtrace_slits.py 160 assign_slits()\u001b[0m - Outer left edge loop, Iteration 1\n",
      "             \u001b[1;34mtrace_slits.py 298 assign_slits()\u001b[0m -   Inner loop, Iteration 1, 25 left edges assigned (25 total)\n",
      "             \u001b[1;34mtrace_slits.py 298 assign_slits()\u001b[0m -   Inner loop, Iteration 2, 4 left edges assigned (29 total)\n",
      "             \u001b[1;34mtrace_slits.py 298 assign_slits()\u001b[0m -   Inner loop, Iteration 3, 2 left edges assigned (31 total)\n",
      "             \u001b[1;34mtrace_slits.py 298 assign_slits()\u001b[0m -   Inner loop, Iteration 4, 4 left edges assigned (35 total)\n",
      "             \u001b[1;34mtrace_slits.py 160 assign_slits()\u001b[0m - Outer left edge loop, Iteration 2\n",
      "             \u001b[1;34mtrace_slits.py 298 assign_slits()\u001b[0m -   Inner loop, Iteration 1, 7 left edges assigned (7 total)\n",
      "             \u001b[1;34mtrace_slits.py 298 assign_slits()\u001b[0m -   Inner loop, Iteration 2, 5 left edges assigned (12 total)\n",
      "             \u001b[1;34mtrace_slits.py 298 assign_slits()\u001b[0m -   Inner loop, Iteration 3, 2 left edges assigned (14 total)\n",
      "             \u001b[1;34mtrace_slits.py 298 assign_slits()\u001b[0m -   Inner loop, Iteration 4, 4 left edges assigned (18 total)\n",
      "\u001b[1;32m[INFO]    ::\u001b[0m \u001b[1;34mtraceslits.py 369 _assign_edges()\u001b[0m - Assigning right slit edges\n",
      "             \u001b[1;34mtrace_slits.py 160 assign_slits()\u001b[0m - Outer right edge loop, Iteration 1\n",
      "             \u001b[1;34mtrace_slits.py 298 assign_slits()\u001b[0m -   Inner loop, Iteration 1, 3 right edges assigned (3 total)\n",
      "             \u001b[1;34mtrace_slits.py 298 assign_slits()\u001b[0m -   Inner loop, Iteration 2, 3 right edges assigned (6 total)\n",
      "             \u001b[1;34mtrace_slits.py 298 assign_slits()\u001b[0m -   Inner loop, Iteration 3, 5 right edges assigned (11 total)\n",
      "             \u001b[1;34mtrace_slits.py 298 assign_slits()\u001b[0m -   Inner loop, Iteration 4, 4 right edges assigned (15 total)\n",
      "             \u001b[1;34mtrace_slits.py 298 assign_slits()\u001b[0m -   Inner loop, Iteration 5, 2 right edges assigned (17 total)\n",
      "             \u001b[1;34mtrace_slits.py 160 assign_slits()\u001b[0m - Outer right edge loop, Iteration 2\n",
      "             \u001b[1;34mtrace_slits.py 298 assign_slits()\u001b[0m -   Inner loop, Iteration 1, 7 right edges assigned (7 total)\n",
      "             \u001b[1;34mtrace_slits.py 298 assign_slits()\u001b[0m -   Inner loop, Iteration 2, 3 right edges assigned (10 total)\n",
      "             \u001b[1;34mtrace_slits.py 298 assign_slits()\u001b[0m -   Inner loop, Iteration 3, 2 right edges assigned (12 total)\n",
      "             \u001b[1;34mtrace_slits.py 298 assign_slits()\u001b[0m -   Inner loop, Iteration 4, 4 right edges assigned (16 total)\n",
      "             \u001b[1;34mtrace_slits.py 298 assign_slits()\u001b[0m -   Inner loop, Iteration 5, 3 right edges assigned (19 total)\n",
      "             \u001b[1;34mtrace_slits.py 298 assign_slits()\u001b[0m -   Inner loop, Iteration 6, 2 right edges assigned (21 total)\n",
      "             \u001b[1;34mtrace_slits.py 160 assign_slits()\u001b[0m - Outer right edge loop, Iteration 3\n",
      "             \u001b[1;34mtrace_slits.py 298 assign_slits()\u001b[0m -   Inner loop, Iteration 1, 7 right edges assigned (7 total)\n",
      "             \u001b[1;34mtrace_slits.py 298 assign_slits()\u001b[0m -   Inner loop, Iteration 2, 3 right edges assigned (10 total)\n",
      "             \u001b[1;34mtrace_slits.py 298 assign_slits()\u001b[0m -   Inner loop, Iteration 3, 2 right edges assigned (12 total)\n",
      "             \u001b[1;34mtrace_slits.py 298 assign_slits()\u001b[0m -   Inner loop, Iteration 4, 4 right edges assigned (16 total)\n",
      "             \u001b[1;34mtrace_slits.py 298 assign_slits()\u001b[0m -   Inner loop, Iteration 5, 3 right edges assigned (19 total)\n",
      "             \u001b[1;34mtrace_slits.py 298 assign_slits()\u001b[0m -   Inner loop, Iteration 6, 2 right edges assigned (21 total)\n",
      "\u001b[1;32m[INFO]    ::\u001b[0m \u001b[1;34mtrace_slits.py 1157 edgearr_final_left_right()\u001b[0m - 11 left edges and 15 right edges were found in the trace\n",
      "\u001b[1;32m[INFO]    ::\u001b[0m \u001b[1;34mtrace_slits.py 560 edgearr_tcrude()\u001b[0m - Crude tracing the edges\n",
      "\u001b[1;31m[WARNING] ::\u001b[0m \u001b[1;34mtrace_slits.py 488 edgearr_mslit_sync()\u001b[0m - Missing a left edge for slit with right edge(s) at [1518 1608 1695 1778]\n",
      "\u001b[1;31m[WARNING] ::\u001b[0m \u001b[1;34mtrace_slits.py 489 edgearr_mslit_sync()\u001b[0m - Adding one (and only one) in unless you turn off the setting [blah]\n",
      "\u001b[1;32m[INFO]    ::\u001b[0m \u001b[1;34mtrace_slits.py 1309 fit_edges()\u001b[0m - Fitting left slit traces\n",
      "\u001b[1;32m[INFO]    ::\u001b[0m \u001b[1;34mtrace_slits.py 1311 fit_edges()\u001b[0m - Fitting right slit traces\n",
      "\u001b[1;32m[INFO]    ::\u001b[0m \u001b[1;34mtraceslits.py 797 _synchronize()\u001b[0m - Synchronizing left and right slit traces\n",
      "\u001b[1;32m[INFO]    ::\u001b[0m \u001b[1;34mtrace_slits.py 2437 synchronize_edges()\u001b[0m - Relabelling slit edges\n",
      "\u001b[1;30m[WORK IN ]::\u001b[0m\n",
      "\u001b[1;33m[PROGRESS]::\u001b[0m \u001b[1;34mtrace_slits.py 2080 pca_pixel_slit_edges()\u001b[0m - May need to do a check here to make sure ofit is reasonable\n",
      "\u001b[1;32m[INFO]    ::\u001b[0m \u001b[1;34mtrace_slits.py 2086 pca_pixel_slit_edges()\u001b[0m - Performing a PCA on the slit traces\n",
      "             \u001b[1;34mpca.py 98 basis()\u001b[0m -   Reduced chi-squared = 3.935974E-02\n",
      "\u001b[1;32m[INFO]    ::\u001b[0m \u001b[1;34mtraceslits.py 535 _make_pixel_arrays()\u001b[0m - Converting physical trace locations to nearest pixel\n",
      "\u001b[1;32m[INFO]    ::\u001b[0m \u001b[1;34mtraceslits.py 542 _make_pixel_arrays()\u001b[0m - Identifying the pixels belonging to each slit\n"
     ]
    }
   ],
   "source": [
    "tSlits = traceslits.TraceSlits(mstrace,\n",
    "                               pixlocn,\n",
    "                               par=par['calibrations']['slits'],\n",
    "                               binbpx=bpm)\n",
    "tslits_dict = tSlits.run(plate_scale=spectrograph.detector[0]['platescale'])"
   ]
  },
  {
   "cell_type": "code",
   "execution_count": 14,
   "metadata": {
    "collapsed": true
   },
   "outputs": [],
   "source": [
    "# Look at what TraceSlits was actually trying to trace\n",
    "viewer, ch = ginga.show_image(tSlits.edgearr)\n",
    "# Look at the sawtooth convolved image\n",
    "viewer, ch = ginga.show_image(tSlits.siglev)\n",
    "\n",
    "tmp = tSlits.edgearr * 100.\n",
    "tmp[np.where(tmp == 0.)] = 1.\n",
    "ginga.show_image(tSlits.mstrace * tmp)\n",
    "ginga.show_slits(viewer, ch, tSlits.lcen, tSlits.rcen, slit_ids = np.arange(tSlits.lcen.shape[1]) + 1, pstep=50)"
   ]
  },
  {
   "cell_type": "code",
   "execution_count": null,
   "metadata": {
    "collapsed": true
   },
   "outputs": [],
   "source": []
  },
  {
   "cell_type": "code",
   "execution_count": null,
   "metadata": {
    "collapsed": true
   },
   "outputs": [],
   "source": []
  },
  {
   "cell_type": "code",
   "execution_count": null,
   "metadata": {
    "collapsed": true
   },
   "outputs": [],
   "source": []
  },
  {
   "cell_type": "code",
   "execution_count": null,
   "metadata": {
    "collapsed": true
   },
   "outputs": [],
   "source": []
  },
  {
   "cell_type": "code",
   "execution_count": null,
   "metadata": {
    "collapsed": true
   },
   "outputs": [],
   "source": []
  },
  {
   "cell_type": "code",
   "execution_count": null,
   "metadata": {
    "collapsed": true
   },
   "outputs": [],
   "source": []
  },
  {
   "cell_type": "code",
   "execution_count": null,
   "metadata": {
    "collapsed": true
   },
   "outputs": [],
   "source": []
  }
 ],
 "metadata": {
  "anaconda-cloud": {},
  "kernelspec": {
   "display_name": "Python [default]",
   "language": "python",
   "name": "python3"
  },
  "language_info": {
   "codemirror_mode": {
    "name": "ipython",
    "version": 3
   },
   "file_extension": ".py",
   "mimetype": "text/x-python",
   "name": "python",
   "nbconvert_exporter": "python",
   "pygments_lexer": "ipython3",
   "version": "3.5.2"
  }
 },
 "nbformat": 4,
 "nbformat_minor": 2
}
