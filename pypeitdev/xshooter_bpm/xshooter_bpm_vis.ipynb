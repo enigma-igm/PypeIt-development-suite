{
 "cells": [
  {
   "cell_type": "markdown",
   "metadata": {},
   "source": [
    "# Checking XSHOOTER-VIS BPM"
   ]
  },
  {
   "cell_type": "code",
   "execution_count": 1,
   "metadata": {},
   "outputs": [],
   "source": [
    "from __future__ import (print_function, absolute_import)\n",
    "from __future__ import (division, unicode_literals)\n",
    "\n",
    "# importing\n",
    "\n",
    "import numpy as np\n",
    "from astropy.io import fits\n",
    "from astropy import units\n",
    "from glob import glob\n",
    "import os\n",
    "import argparse\n",
    "\n",
    "from pypeit import ginga\n",
    "from pypeit.core import pixels\n",
    "from pypeit import traceslits\n",
    "from pypeit import processimages\n",
    "from pypeit import scienceimage\n",
    "from pypeit import arcimage\n",
    "from pypeit.core import arc\n",
    "from pypeit import wavecalib\n",
    "from pypeit import wavetilts\n",
    "from pypeit import waveimage\n",
    "from pypeit import flatfield\n",
    "from pypeit import traceimage\n",
    "from pypeit import specobjs\n",
    "from pypeit import utils\n",
    "from pypeit import biasframe\n",
    "\n",
    "# Spectrgraph and Settings\n",
    "from pypeit.spectrographs.util import load_spectrograph\n",
    "from pypeit.par import pypeitpar\n",
    "from pypeit import ginga\n",
    "from pypeit.core.skysub import global_skysub\n",
    "from pypeit.core import skysub\n",
    "from pypeit.core import extract\n",
    "from pypeit.core.flux import generate_sensfunc\n",
    "#from pypeit.core.flux import generate_sensfunc\n",
    "from linetools import utils as ltu\n",
    "\n",
    "from IPython import embed\n",
    "from matplotlib import pyplot as plt"
   ]
  },
  {
   "cell_type": "code",
   "execution_count": 2,
   "metadata": {},
   "outputs": [],
   "source": [
    "import os\n",
    "# os.system('ginga --modules=RC&')"
   ]
  },
  {
   "cell_type": "markdown",
   "metadata": {},
   "source": [
    "## Load Spectrograph"
   ]
  },
  {
   "cell_type": "code",
   "execution_count": 3,
   "metadata": {
    "scrolled": true
   },
   "outputs": [
    {
     "name": "stdout",
     "output_type": "stream",
     "text": [
      "[Parameter      Value           Default  Type              Callable\n",
      "------------------------------------------------------------------\n",
      "dataext        0               0        int               False   \n",
      "specaxis       0               0        int               False   \n",
      "specflip       False           False    bool              False   \n",
      "spatflip       False           False    bool              False   \n",
      "xgap           0.0             0.0      int, float        False   \n",
      "ygap           0.0             0.0      int, float        False   \n",
      "ysize          1.0             1.0      int, float        False   \n",
      "platescale     0.16            0.135    int, float        False   \n",
      "darkcurr       0.0             0.0      int, float        False   \n",
      "saturation     65535.0         65535.0  int, float        False   \n",
      "mincounts      -1000.0         -1000.0  int, float        False   \n",
      "nonlinear      0.86            0.86     int, float        False   \n",
      "numamplifiers  1               1        int               False   \n",
      "gain           0.595           4.0      int, float, list  False   \n",
      "ronoise        3.1             None     int, float, list  False   \n",
      "datasec        [11:2058,1:]    DATASEC  str, list         False   \n",
      "oscansec       [2059:2106,1:]  BIASSEC  str, list         False   \n",
      "suffix         _VIS                     str               False   \n",
      "]\n"
     ]
    }
   ],
   "source": [
    "spectro_name = 'vlt_xshooter_vis'\n",
    "spectrograph = load_spectrograph(spectrograph=spectro_name)\n",
    "\n",
    "# Detector settings\n",
    "par = spectrograph.default_pypeit_par()\n",
    "\n",
    "print(spectrograph.detector)"
   ]
  },
  {
   "cell_type": "markdown",
   "metadata": {},
   "source": [
    "## Load Relevant Files"
   ]
  },
  {
   "cell_type": "code",
   "execution_count": 4,
   "metadata": {},
   "outputs": [
    {
     "name": "stdout",
     "output_type": "stream",
     "text": [
      "2x2 binning\n"
     ]
    }
   ],
   "source": [
    "xs_dir = '/home/ema/Dropbox/XshooterTestBed/VLT_XSHOOTER/'\n",
    "\n",
    "# binning = '1x1'\n",
    "# binning = '1x2'\n",
    "binning = '2x2'\n",
    "\n",
    "if binning is '1x1':\n",
    "    print('1x1 binning')\n",
    "    xsvis1x1_dir = xs_dir+'VIS_1x1/'\n",
    "\n",
    "    bias_files = [xsvis1x1_dir+'XSHOO.2010-04-28T10:23:42.901.fits.gz',\n",
    "                  xsvis1x1_dir+'XSHOO.2010-04-28T10:26:26.465.fits.gz',\n",
    "                  xsvis1x1_dir+'XSHOO.2010-04-28T10:29:10.029.fits.gz']\n",
    "    flat_files = [xsvis1x1_dir+'XSHOO.2010-04-28T12:24:28.466.fits.gz',\n",
    "                  xsvis1x1_dir+'XSHOO.2010-04-28T12:25:39.192.fits.gz',\n",
    "                  xsvis1x1_dir+'XSHOO.2010-04-28T12:26:49.168.fits.gz']\n",
    "\n",
    "if binning is '1x2':\n",
    "    print('1x2 binning')\n",
    "    xsvis1x2_dir = xs_dir+'VIS_1x2/'\n",
    "\n",
    "    bias_files = [xsvis1x2_dir+'XSHOO.2016-08-02T10:45:45.410.fits.gz',\n",
    "                  xsvis1x2_dir+'XSHOO.2016-08-02T10:47:16.857.fits.gz',\n",
    "                  xsvis1x2_dir+'XSHOO.2016-08-02T10:48:48.184.fits.gz']\n",
    "\n",
    "    flat_files = [xsvis1x2_dir+'XSHOO.2016-08-02T13:36:24.258.fits.gz',\n",
    "                  xsvis1x2_dir+'XSHOO.2016-08-02T13:37:24.132.fits.gz',\n",
    "                  xsvis1x2_dir+'XSHOO.2016-08-02T13:38:24.917.fits.gz']\n",
    "\n",
    "if binning is '2x2':\n",
    "    print('2x2 binning')\n",
    "    xsvis2x2_dir = xs_dir+'VIS_2x2/'\n",
    "\n",
    "    bias_files = [xsvis2x2_dir+'XSHOO.2016-10-08T10:07:38.147.fits.gz',\n",
    "                  xsvis2x2_dir+'XSHOO.2016-10-08T10:08:35.051.fits.gz',\n",
    "                  xsvis2x2_dir+'XSHOO.2016-10-08T10:09:30.026.fits.gz']\n",
    "\n",
    "    flat_files = [xsvis2x2_dir+'XSHOO.2016-10-08T13:03:20.598.fits.gz',\n",
    "                  xsvis2x2_dir+'XSHOO.2016-10-08T13:03:57.921.fits.gz',\n",
    "                  xsvis2x2_dir+'XSHOO.2016-10-08T13:04:35.024.fits.gz']"
   ]
  },
  {
   "cell_type": "markdown",
   "metadata": {},
   "source": [
    "## Bias"
   ]
  },
  {
   "cell_type": "code",
   "execution_count": 5,
   "metadata": {},
   "outputs": [
    {
     "name": "stderr",
     "output_type": "stream",
     "text": [
      "\u001b[1;31m[WARNING] ::\u001b[0m \u001b[1;34mprocessimages.py 541 process()\u001b[0m - Your images have not been bias subtracted!\n",
      "\u001b[1;32m[INFO]    ::\u001b[0m \u001b[1;34mcombine.py 62 comb_frames()\u001b[0m - Combining 3 bias frames\n",
      "\u001b[1;30m[WORK IN ]::\u001b[0m\n",
      "\u001b[1;33m[PROGRESS]::\u001b[0m \u001b[1;34mcombine.py 66 comb_frames()\u001b[0m - lscomb feature has not been included here yet...\n",
      "\u001b[1;32m[INFO]    ::\u001b[0m \u001b[1;34mcombine.py 95 comb_frames()\u001b[0m - Finding saturated and non-linear pixels\n",
      "\u001b[1;32m[INFO]    ::\u001b[0m \u001b[1;34mcombine.py 119 comb_frames()\u001b[0m - Rejecting cosmic rays\n",
      "\u001b[1;32m[INFO]    ::\u001b[0m \u001b[1;34mcombine.py 163 comb_frames()\u001b[0m - Not rejecting any low/high pixels\n",
      "\u001b[1;32m[INFO]    ::\u001b[0m \u001b[1;34mcombine.py 171 comb_frames()\u001b[0m - Rejecting deviant pixels\n",
      "\u001b[1;32m[INFO]    ::\u001b[0m \u001b[1;34mcombine.py 188 comb_frames()\u001b[0m - Combining frames with a weightmean operation\n",
      "\u001b[1;32m[INFO]    ::\u001b[0m \u001b[1;34mcombine.py 201 comb_frames()\u001b[0m - Replacing completely masked pixels with the maxnonsat value of the input frames\n",
      "\u001b[1;32m[INFO]    ::\u001b[0m \u001b[1;34mcombine.py 215 comb_frames()\u001b[0m - 3 bias frames combined successfully!\n"
     ]
    }
   ],
   "source": [
    "par['calibrations']['biasframe']['number'] = 3\n",
    "\n",
    "bImage = biasframe.BiasFrame(spectrograph, files=bias_files)\n",
    "\n",
    "bimage = bImage.process()"
   ]
  },
  {
   "cell_type": "markdown",
   "metadata": {},
   "source": [
    "# Flat"
   ]
  },
  {
   "cell_type": "code",
   "execution_count": 6,
   "metadata": {},
   "outputs": [
    {
     "name": "stderr",
     "output_type": "stream",
     "text": [
      "\u001b[1;32m[INFO]    ::\u001b[0m \u001b[1;34mprocessimages.py 412 bias_subtract()\u001b[0m - Bias subtracting your image(s)\n",
      "\u001b[1;32m[INFO]    ::\u001b[0m \u001b[1;34mprocessimages.py 418 bias_subtract()\u001b[0m - Subtracting bias image from raw frame\n",
      "\u001b[1;32m[INFO]    ::\u001b[0m \u001b[1;34mprocessimages.py 418 bias_subtract()\u001b[0m - Subtracting bias image from raw frame\n",
      "\u001b[1;32m[INFO]    ::\u001b[0m \u001b[1;34mprocessimages.py 418 bias_subtract()\u001b[0m - Subtracting bias image from raw frame\n",
      "\u001b[1;32m[INFO]    ::\u001b[0m \u001b[1;34mcombine.py 62 comb_frames()\u001b[0m - Combining 3 trace_image frames\n",
      "\u001b[1;30m[WORK IN ]::\u001b[0m\n",
      "\u001b[1;33m[PROGRESS]::\u001b[0m \u001b[1;34mcombine.py 66 comb_frames()\u001b[0m - lscomb feature has not been included here yet...\n",
      "\u001b[1;32m[INFO]    ::\u001b[0m \u001b[1;34mcombine.py 95 comb_frames()\u001b[0m - Finding saturated and non-linear pixels\n",
      "\u001b[1;32m[INFO]    ::\u001b[0m \u001b[1;34mcombine.py 119 comb_frames()\u001b[0m - Rejecting cosmic rays\n",
      "\u001b[1;32m[INFO]    ::\u001b[0m \u001b[1;34mcombine.py 163 comb_frames()\u001b[0m - Not rejecting any low/high pixels\n",
      "\u001b[1;32m[INFO]    ::\u001b[0m \u001b[1;34mcombine.py 171 comb_frames()\u001b[0m - Rejecting deviant pixels\n",
      "\u001b[1;32m[INFO]    ::\u001b[0m \u001b[1;34mcombine.py 188 comb_frames()\u001b[0m - Combining frames with a weightmean operation\n",
      "\u001b[1;32m[INFO]    ::\u001b[0m \u001b[1;34mcombine.py 201 comb_frames()\u001b[0m - Replacing completely masked pixels with the maxnonsat value of the input frames\n",
      "\u001b[1;32m[INFO]    ::\u001b[0m \u001b[1;34mcombine.py 215 comb_frames()\u001b[0m - 3 trace_image frames combined successfully!\n"
     ]
    }
   ],
   "source": [
    "tImage = traceimage.TraceImage(spectrograph, files=flat_files)\n",
    "\n",
    "tflat = tImage.process(bias_subtract=bimage, trim=True)"
   ]
  },
  {
   "cell_type": "markdown",
   "metadata": {},
   "source": [
    "# Show images on GINGA"
   ]
  },
  {
   "cell_type": "code",
   "execution_count": 7,
   "metadata": {},
   "outputs": [
    {
     "name": "stdout",
     "output_type": "stream",
     "text": [
      "1456\n",
      "421\n"
     ]
    },
    {
     "data": {
      "text/plain": [
       "(<ginga.util.grc.RemoteClient at 0x7fc965f4aac8>,\n",
       " <ginga.util.grc._channel_proxy at 0x7fc965f4aa90>)"
      ]
     },
     "execution_count": 7,
     "metadata": {},
     "output_type": "execute_result"
    }
   ],
   "source": [
    "bpm = spectrograph.bpm(shape=tflat.shape, det=1)\n",
    "ginga.show_image(tflat, chname='Flat')\n",
    "ginga.show_image(bpm, chname='BPM')"
   ]
  },
  {
   "cell_type": "code",
   "execution_count": 8,
   "metadata": {
    "collapsed": true
   },
   "outputs": [],
   "source": [
    "_, _ = ginga.show_image(tflat*(1.-bpm))"
   ]
  }
 ],
 "metadata": {
  "kernelspec": {
   "display_name": "Python 3",
   "language": "python",
   "name": "python3"
  },
  "language_info": {
   "codemirror_mode": {
    "name": "ipython",
    "version": 3
   },
   "file_extension": ".py",
   "mimetype": "text/x-python",
   "name": "python",
   "nbconvert_exporter": "python",
   "pygments_lexer": "ipython3",
   "version": "3.6.6"
  }
 },
 "nbformat": 4,
 "nbformat_minor": 2
}
