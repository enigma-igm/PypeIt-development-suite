{
 "cells": [
  {
   "cell_type": "code",
   "execution_count": 1,
   "metadata": {},
   "outputs": [],
   "source": [
    "from __future__ import (print_function, absolute_import)\n",
    "from __future__ import (division, unicode_literals)\n",
    "\n",
    "# importing\n",
    "\n",
    "import numpy as np\n",
    "from astropy.io import fits\n",
    "from astropy import units\n",
    "from glob import glob\n",
    "import os\n",
    "import argparse\n",
    "\n",
    "from pypeit import ginga\n",
    "from pypeit.core import pixels\n",
    "from pypeit import traceslits\n",
    "from pypeit import processimages\n",
    "from pypeit import scienceimage\n",
    "from pypeit import arcimage\n",
    "from pypeit.core import arc\n",
    "from pypeit import wavecalib\n",
    "# from pypit import wavecalib\n",
    "from pypeit import wavetilts\n",
    "from pypeit import waveimage\n",
    "from pypeit import flatfield\n",
    "from pypeit import traceimage\n",
    "from pypeit import specobjs\n",
    "from pypeit import utils\n",
    "\n",
    "# Spectrgraph and Settings\n",
    "from pypeit.spectrographs.util import load_spectrograph\n",
    "from pypeit.par import pypeitpar\n",
    "from pypeit import ginga\n",
    "from pypeit.core.skysub import global_skysub\n",
    "from pypeit.core import skysub\n",
    "from pypeit.core import extract\n",
    "from pypeit.core.flux_feige import generate_sensfunc\n",
    "#from pypeit.core.flux import generate_sensfunc\n",
    "from linetools import utils as ltu\n",
    "\n",
    "from IPython import embed\n",
    "from matplotlib import pyplot as plt"
   ]
  },
  {
   "cell_type": "code",
   "execution_count": 2,
   "metadata": {},
   "outputs": [
    {
     "data": {
      "text/plain": [
       "Parameter       Value       Default     Type        Callable\n",
       "------------------------------------------------------------\n",
       "function        legendre    legendre    str         False   \n",
       "polyorder       5           3           int         False   \n",
       "medrep          0           0           int         False   \n",
       "number          -1          -1          int         False   \n",
       "trim            3, 3        3, 3        tuple       False   \n",
       "maxgap          None        None        int         False   \n",
       "maxshift        0.5         0.15        int, float  False   \n",
       "pad             0           0           int         False   \n",
       "sigdetect       50          20.0        int, float  False   \n",
       "fracignore      0.01        0.01        float       False   \n",
       "min_slit_width  6.0         6.0         float       False   \n",
       "diffpolyorder   2           2           int         False   \n",
       "single          []          []          list        False   \n",
       "sobel_mode      nearest     nearest     str         False   \n",
       "pcatype         pixel       pixel       str         False   \n",
       "pcapar          3, 2, 1, 0  3, 2, 1, 0  list        False   \n",
       "pcaextrap       0, 0        0, 0        list        False   "
      ]
     },
     "execution_count": 2,
     "metadata": {},
     "output_type": "execute_result"
    }
   ],
   "source": [
    "spectro_name = 'magellan_fire'\n",
    "spectrograph = load_spectrograph(spectrograph=spectro_name)\n",
    "\n",
    "### Load settings\n",
    "\n",
    "## Detector settings\n",
    "par = spectrograph.default_pypeit_par()\n",
    "\n",
    "## Trace settings\n",
    "par['calibrations']['traceframe']['process']['overscan'] = 'median'\n",
    "\n",
    "# Arc settings\n",
    "par['calibrations']['arcframe']['process']['overscan'] = 'median'\n",
    "\n",
    "# Flat settings\n",
    "par['calibrations']['pixelflatframe']['process']['overscan'] = 'median'\n",
    "\n",
    "\n",
    "# Science settings\n",
    "par['scienceframe']['process']['overscan'] = 'median'\n",
    "par['calibrations']['slits']"
   ]
  },
  {
   "cell_type": "code",
   "execution_count": 3,
   "metadata": {},
   "outputs": [],
   "source": [
    "flat_files = ['/Users/feige/Desktop/FIRE/fire_0038.fits.gz',\\\n",
    "              '/Users/feige/Desktop/FIRE/fire_0039.fits.gz',\\\n",
    "              '/Users/feige/Desktop/FIRE/fire_0040.fits.gz',\\\n",
    "              '/Users/feige/Desktop/FIRE/fire_0041.fits.gz',\\\n",
    "              '/Users/feige/Desktop/FIRE/fire_0042.fits.gz']\n",
    "\n",
    "sciAfiles = ['/Users/feige/Desktop/FIRE/fire_0029.fits.gz']\n",
    "sciBfiles = ['/Users/feige/Desktop/FIRE/fire_0030.fits.gz']"
   ]
  },
  {
   "cell_type": "code",
   "execution_count": 4,
   "metadata": {},
   "outputs": [],
   "source": [
    "tImage = traceimage.TraceImage(spectrograph,\n",
    "                               file_list=flat_files,\n",
    "                               par=par['calibrations']['traceframe'])"
   ]
  },
  {
   "cell_type": "code",
   "execution_count": 5,
   "metadata": {},
   "outputs": [
    {
     "name": "stderr",
     "output_type": "stream",
     "text": [
      "\u001b[1;32m[INFO]    ::\u001b[0m Bias subtracting your image(s)\n",
      "\u001b[1;32m[INFO]    ::\u001b[0m Using overscan to subtact\n",
      "\u001b[1;32m[INFO]    ::\u001b[0m Using overscan to subtact\n",
      "\u001b[1;32m[INFO]    ::\u001b[0m Using overscan to subtact\n",
      "\u001b[1;32m[INFO]    ::\u001b[0m Using overscan to subtact\n",
      "\u001b[1;32m[INFO]    ::\u001b[0m Using overscan to subtact\n",
      "\u001b[1;32m[INFO]    ::\u001b[0m Combining 5 trace_image frames\n",
      "\u001b[1;32m[INFO]    ::\u001b[0m Finding saturated and non-linear pixels\n",
      "\u001b[1;32m[INFO]    ::\u001b[0m Rejecting cosmic rays\n",
      "\u001b[1;32m[INFO]    ::\u001b[0m Not rejecting any low/high pixels\n",
      "\u001b[1;32m[INFO]    ::\u001b[0m Rejecting deviant pixels\n",
      "\u001b[1;32m[INFO]    ::\u001b[0m Combining frames with a weightmean operation\n",
      "\u001b[1;32m[INFO]    ::\u001b[0m Replacing completely masked pixels with the maxnonsat value of the input frames\n",
      "\u001b[1;32m[INFO]    ::\u001b[0m 5 trace_image frames combined successfully!\n",
      "\u001b[1;31m[WARNING] ::\u001b[0m Should probably be measuring the gain across the amplifier boundary\n"
     ]
    }
   ],
   "source": [
    "tflat = tImage.process(bias_subtract='overscan',\n",
    "                           trim=False, apply_gain=True)\n",
    "mstrace = tflat.copy()"
   ]
  },
  {
   "cell_type": "code",
   "execution_count": 6,
   "metadata": {},
   "outputs": [
    {
     "name": "stderr",
     "output_type": "stream",
     "text": [
      "\u001b[1;32m[INFO]    ::\u001b[0m Deriving physical pixel locations on the detector\n",
      "\u001b[1;32m[INFO]    ::\u001b[0m Pixel gap in the dispersion direction = 0.000\n",
      "\u001b[1;32m[INFO]    ::\u001b[0m Pixel size in the dispersion direction = 1.000\n",
      "\u001b[1;32m[INFO]    ::\u001b[0m Pixel gap in the spatial direction = 0.000\n",
      "\u001b[1;32m[INFO]    ::\u001b[0m Pixel size in the spatial direction = 1.000\n",
      "\u001b[1;32m[INFO]    ::\u001b[0m Saving pixel locations\n",
      "\u001b[1;32m[INFO]    ::\u001b[0m Custom bad pixel mask for FIRE\n"
     ]
    }
   ],
   "source": [
    "    pixlocn = pixels.gen_pixloc(tImage.stack.shape)\n",
    "    bpm = spectrograph.bpm(shape=tflat.shape, det=1)"
   ]
  },
  {
   "cell_type": "code",
   "execution_count": 7,
   "metadata": {},
   "outputs": [],
   "source": [
    "ginga.show_image(bpm)\n",
    "_, _ = ginga.show_image(tflat*(1.-bpm))"
   ]
  },
  {
   "cell_type": "code",
   "execution_count": 8,
   "metadata": {},
   "outputs": [],
   "source": [
    "par['calibrations']['slits']['polyorder'] = 5\n",
    "par['calibrations']['slits']['pcatype'] = 'pixel'\n",
    "par['calibrations']['slits']['pcapar'] = [4,3,2,1,0]\n",
    "par['calibrations']['slits']['sigdetect'] = 50\n",
    "par['calibrations']['slits']['maxshift'] = 0.5\n",
    "\n",
    "#par['calibrations']['slits']"
   ]
  },
  {
   "cell_type": "code",
   "execution_count": 9,
   "metadata": {},
   "outputs": [
    {
     "name": "stderr",
     "output_type": "stream",
     "text": [
      "\u001b[1;32m[INFO]    ::\u001b[0m Detecting slit edges in the mstrace image\n",
      "\u001b[1;32m[INFO]    ::\u001b[0m Applying bad pixel mask\n",
      "\u001b[1;32m[INFO]    ::\u001b[0m 30 left edges and 26 right edges were found in the trace\n",
      "\u001b[1;32m[INFO]    ::\u001b[0m Assigning slit edge traces\n",
      "\u001b[1;32m[INFO]    ::\u001b[0m Assigning left slit edges\n",
      "             Outer left edge loop, Iteration 1\n",
      "               Inner loop, Iteration 1, 11 left edges assigned (11 total)\n",
      "               Inner loop, Iteration 2, 3 left edges assigned (14 total)\n",
      "               Inner loop, Iteration 3, 8 left edges assigned (22 total)\n",
      "               Inner loop, Iteration 4, 2 left edges assigned (24 total)\n",
      "               Inner loop, Iteration 5, 1 left edges assigned (25 total)\n",
      "             Outer left edge loop, Iteration 2\n",
      "               Inner loop, Iteration 1, 11 left edges assigned (11 total)\n",
      "               Inner loop, Iteration 2, 3 left edges assigned (14 total)\n",
      "               Inner loop, Iteration 3, 3 left edges assigned (17 total)\n",
      "               Inner loop, Iteration 4, 3 left edges assigned (20 total)\n",
      "               Inner loop, Iteration 5, 2 left edges assigned (22 total)\n",
      "             Outer left edge loop, Iteration 3\n",
      "               Inner loop, Iteration 1, 11 left edges assigned (11 total)\n",
      "               Inner loop, Iteration 2, 3 left edges assigned (14 total)\n",
      "               Inner loop, Iteration 3, 3 left edges assigned (17 total)\n",
      "               Inner loop, Iteration 4, 3 left edges assigned (20 total)\n",
      "               Inner loop, Iteration 5, 2 left edges assigned (22 total)\n",
      "\u001b[1;32m[INFO]    ::\u001b[0m Assigning right slit edges\n",
      "             Outer right edge loop, Iteration 1\n",
      "               Inner loop, Iteration 1, 11 right edges assigned (11 total)\n",
      "               Inner loop, Iteration 2, 4 right edges assigned (15 total)\n",
      "               Inner loop, Iteration 3, 3 right edges assigned (18 total)\n",
      "               Inner loop, Iteration 4, 3 right edges assigned (21 total)\n",
      "               Inner loop, Iteration 5, 2 right edges assigned (23 total)\n",
      "               Inner loop, Iteration 6, 1 right edges assigned (24 total)\n",
      "             Outer right edge loop, Iteration 2\n",
      "               Inner loop, Iteration 1, 11 right edges assigned (11 total)\n",
      "               Inner loop, Iteration 2, 4 right edges assigned (15 total)\n",
      "               Inner loop, Iteration 3, 3 right edges assigned (18 total)\n",
      "               Inner loop, Iteration 4, 3 right edges assigned (21 total)\n",
      "               Inner loop, Iteration 5, 2 right edges assigned (23 total)\n",
      "               Inner loop, Iteration 6, 1 right edges assigned (24 total)\n",
      "\u001b[1;32m[INFO]    ::\u001b[0m 22 left edges and 24 right edges were found in the trace\n",
      "\u001b[1;32m[INFO]    ::\u001b[0m Crude tracing the edges\n",
      "\u001b[1;31m[WARNING] ::\u001b[0m Edge at x=1814, y=4 traced less than 0.33 of the detector.  Removing\n",
      "\u001b[1;31m[WARNING] ::\u001b[0m Edge at x=6, y=919 traced less than 0.33 of the detector.  Removing\n",
      "\u001b[1;31m[WARNING] ::\u001b[0m Edge at x=1869, y=2 traced less than 0.33 of the detector.  Removing\n",
      "\u001b[1;31m[WARNING] ::\u001b[0m Duplicate right edge at x=592 and y=207.  Clipping..\n",
      "\u001b[1;32m[INFO]    ::\u001b[0m Fitting left slit traces\n",
      "\u001b[1;32m[INFO]    ::\u001b[0m Fitting right slit traces\n",
      "\u001b[1;32m[INFO]    ::\u001b[0m Synchronizing left and right slit traces\n",
      "\u001b[1;32m[INFO]    ::\u001b[0m Relabelling slit edges\n",
      "\u001b[1;32m[INFO]    ::\u001b[0m Performing a PCA on the slit traces\n",
      "               Reduced chi-squared = 6.269015E-02\n",
      "\u001b[1;32m[INFO]    ::\u001b[0m Converting physical trace locations to nearest pixel\n"
     ]
    }
   ],
   "source": [
    "    tSlits = traceslits.TraceSlits(mstrace,\n",
    "                                   pixlocn,\n",
    "                                   par=par['calibrations']['slits'],\n",
    "                                   binbpx=bpm)\n",
    "    tslits_dict = tSlits.run(plate_scale=spectrograph.detector[0]['platescale'])"
   ]
  },
  {
   "cell_type": "code",
   "execution_count": 10,
   "metadata": {},
   "outputs": [],
   "source": [
    "# Look at what TraceSlits was actually trying to trace\n",
    "viewer, ch = ginga.show_image(tSlits.edgearr)\n",
    "# Look at the sawtooth convolved image\n",
    "viewer, ch = ginga.show_image(tSlits.siglev)\n",
    "\n",
    "tmp = tSlits.edgearr * 100.\n",
    "tmp[np.where(tmp == 0.)] = 1.\n",
    "ginga.show_image(tSlits.mstrace * tmp)\n",
    "ginga.show_slits(viewer, ch, tSlits.lcen, tSlits.rcen, slit_ids = np.arange(tSlits.lcen.shape[1]) + 1, pstep=50)"
   ]
  }
 ],
 "metadata": {
  "kernelspec": {
   "display_name": "Python 3",
   "language": "python",
   "name": "python3"
  },
  "language_info": {
   "codemirror_mode": {
    "name": "ipython",
    "version": 3
   },
   "file_extension": ".py",
   "mimetype": "text/x-python",
   "name": "python",
   "nbconvert_exporter": "python",
   "pygments_lexer": "ipython3",
   "version": "3.7.0"
  }
 },
 "nbformat": 4,
 "nbformat_minor": 2
}
