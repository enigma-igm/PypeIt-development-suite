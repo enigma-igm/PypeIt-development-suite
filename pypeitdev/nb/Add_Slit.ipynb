{
 "cells": [
  {
   "cell_type": "markdown",
   "metadata": {},
   "source": [
    "# Add a slit"
   ]
  },
  {
   "cell_type": "code",
   "execution_count": 10,
   "metadata": {
    "collapsed": true
   },
   "outputs": [],
   "source": [
    "# import\n",
    "import numpy as np\n",
    "from pypit.traceslits import TraceSlits"
   ]
  },
  {
   "cell_type": "markdown",
   "metadata": {},
   "source": [
    "## Load"
   ]
  },
  {
   "cell_type": "code",
   "execution_count": 11,
   "metadata": {},
   "outputs": [
    {
     "name": "stderr",
     "output_type": "stream",
     "text": [
      "\u001b[1;32m[INFO]    ::\u001b[0m \u001b[1;34mtraceslits.py 152 from_files()\u001b[0m - Loading BPM from ../ts_lrisr.fits\n",
      "\u001b[1;32m[INFO]    ::\u001b[0m \u001b[1;34mtraceslits.py 166 from_files()\u001b[0m - Loading LCEN, RCEN from ../ts_lrisr.fits\n",
      "\u001b[1;32m[INFO]    ::\u001b[0m \u001b[1;34mtraceslits.py 169 from_files()\u001b[0m - Loading EDGEARR from ../ts_lrisr.fits\n",
      "\u001b[1;32m[INFO]    ::\u001b[0m \u001b[1;34mtraceslits.py 172 from_files()\u001b[0m - Loading SIGLEV from ../ts_lrisr.fits\n"
     ]
    }
   ],
   "source": [
    "tslits = TraceSlits.from_files('../ts_lrisr')"
   ]
  },
  {
   "cell_type": "markdown",
   "metadata": {},
   "source": [
    "## Show"
   ]
  },
  {
   "cell_type": "code",
   "execution_count": 3,
   "metadata": {
    "collapsed": true
   },
   "outputs": [],
   "source": [
    "tslits.show('edges')"
   ]
  },
  {
   "cell_type": "code",
   "execution_count": 4,
   "metadata": {},
   "outputs": [
    {
     "data": {
      "text/plain": [
       "{'left': {'flags': [1, 1, 1, 1, 1, 1, 1, 1, 1, 1],\n",
       "  'xval': {'-100000': 281,\n",
       "   '-100001': 381,\n",
       "   '-100002': 467,\n",
       "   '-100003': 566,\n",
       "   '-100004': 583,\n",
       "   '-100005': 695,\n",
       "   '-100006': 740,\n",
       "   '-100007': 816,\n",
       "   '-100008': 896,\n",
       "   '-100009': 936}},\n",
       " 'right': {'flags': [1, 1, 1, 1, 1, 1, 1, 1, 1, 1],\n",
       "  'xval': {'100000': 379,\n",
       "   '100001': 464,\n",
       "   '100002': 483,\n",
       "   '100003': 581,\n",
       "   '100004': 693,\n",
       "   '100005': 736,\n",
       "   '100006': 814,\n",
       "   '100007': 893,\n",
       "   '100008': 934,\n",
       "   '100009': 1021}},\n",
       " 'xval': {}}"
      ]
     },
     "execution_count": 4,
     "metadata": {},
     "output_type": "execute_result"
    }
   ],
   "source": [
    "tslits.tc_dict"
   ]
  },
  {
   "cell_type": "markdown",
   "metadata": {},
   "source": [
    "## Add"
   ]
  },
  {
   "cell_type": "code",
   "execution_count": 4,
   "metadata": {
    "collapsed": true
   },
   "outputs": [],
   "source": [
    "add_user_slits = [[489,563,1024]] "
   ]
  },
  {
   "cell_type": "code",
   "execution_count": 5,
   "metadata": {},
   "outputs": [
    {
     "name": "stderr",
     "output_type": "stream",
     "text": [
      "\u001b[1;32m[INFO]    ::\u001b[0m \u001b[1;34martrace.py 6090 add_user_edges()\u001b[0m - Adding a user-defined slit [x0, x1, yrow]:  [489, 563, 1024]\n",
      "\u001b[1;32m[INFO]    ::\u001b[0m \u001b[1;34martrace.py 2808 fit_edges()\u001b[0m - Fitting left slit traces\n",
      "\u001b[1;32m[INFO]    ::\u001b[0m \u001b[1;34martrace.py 2810 fit_edges()\u001b[0m - Fitting right slit traces\n",
      "\u001b[1;32m[INFO]    ::\u001b[0m \u001b[1;34mtraceslits.py 397 _synchronize()\u001b[0m - Synchronizing left and right slit traces\n",
      "\u001b[1;32m[INFO]    ::\u001b[0m \u001b[1;34martrace.py 2941 synchronize_edges()\u001b[0m - Relabelling slit edges\n",
      "\u001b[1;30m[WORK IN ]::\u001b[0m\n",
      "\u001b[1;33m[PROGRESS]::\u001b[0m \u001b[1;34martrace.py 3167 pca_pixel_slit_edges()\u001b[0m - May need to do a check here to make sure ofit is reasonable\n",
      "\u001b[1;32m[INFO]    ::\u001b[0m \u001b[1;34martrace.py 3173 pca_pixel_slit_edges()\u001b[0m - Performing a PCA on the slit traces\n",
      "               Reduced chi-squared = 2.054164E-03\n",
      "\u001b[1;31m[WARNING] ::\u001b[0m \u001b[1;34martrace.py 3181 pca_pixel_slit_edges()\u001b[0m - NEED TO REMOVE SLF FROM THE NEXT BIT\n"
     ]
    }
   ],
   "source": [
    "tslits.add_user_slits(add_user_slits, run_to_finish=True)"
   ]
  },
  {
   "cell_type": "markdown",
   "metadata": {},
   "source": [
    "## Show again!"
   ]
  },
  {
   "cell_type": "code",
   "execution_count": 6,
   "metadata": {},
   "outputs": [
    {
     "data": {
      "text/plain": [
       "{'left': {'flags': [1, 1, 1, 1, 1, 1, 1, 1, 1, 1],\n",
       "  'xval': {'-100000': 281,\n",
       "   '-100001': 381,\n",
       "   '-100002': 467,\n",
       "   '-100003': 566,\n",
       "   '-100004': 583,\n",
       "   '-100005': 695,\n",
       "   '-100006': 740,\n",
       "   '-100007': 816,\n",
       "   '-100008': 896,\n",
       "   '-100009': 936,\n",
       "   '-100010': 489}},\n",
       " 'right': {'flags': [1, 1, 1, 1, 1, 1, 1, 1, 1, 1],\n",
       "  'xval': {'100000': 379,\n",
       "   '100001': 464,\n",
       "   '100002': 483,\n",
       "   '100003': 581,\n",
       "   '100004': 693,\n",
       "   '100005': 736,\n",
       "   '100006': 814,\n",
       "   '100007': 893,\n",
       "   '100008': 934,\n",
       "   '100009': 1021,\n",
       "   '100010': 563}},\n",
       " 'xval': {}}"
      ]
     },
     "execution_count": 6,
     "metadata": {},
     "output_type": "execute_result"
    }
   ],
   "source": [
    "tslits.tc_dict"
   ]
  },
  {
   "cell_type": "code",
   "execution_count": 7,
   "metadata": {
    "collapsed": true
   },
   "outputs": [],
   "source": [
    "tslits.show('edges')"
   ]
  },
  {
   "cell_type": "markdown",
   "metadata": {},
   "source": [
    "----"
   ]
  },
  {
   "cell_type": "code",
   "execution_count": null,
   "metadata": {
    "collapsed": true
   },
   "outputs": [],
   "source": []
  }
 ],
 "metadata": {
  "kernelspec": {
   "display_name": "Python 3",
   "language": "python",
   "name": "python3"
  },
  "language_info": {
   "codemirror_mode": {
    "name": "ipython",
    "version": 3
   },
   "file_extension": ".py",
   "mimetype": "text/x-python",
   "name": "python",
   "nbconvert_exporter": "python",
   "pygments_lexer": "ipython3",
   "version": "3.6.3"
  }
 },
 "nbformat": 4,
 "nbformat_minor": 2
}
