{
 "cells": [
  {
   "cell_type": "code",
   "execution_count": null,
   "id": "7ccd17e6",
   "metadata": {},
   "outputs": [
    {
     "name": "stdout",
     "output_type": "stream",
     "text": [
      "INFO: 410 of 636 products were duplicates. Only returning 226 unique product(s). [astroquery.mast.utils]\n",
      "INFO: To return all products, use `MastMissions.get_product_list` [astroquery.mast.missions]\n"
     ]
    }
   ],
   "source": [
    "from astroquery.mast import MastMissionsClass\n",
    "\n",
    "# Create object and initialize mission to JWST\n",
    "MastClass = MastMissionsClass(mission='JWST')\n",
    " \n",
    "# Query for datasets\n",
    "datasets = MastClass.query_criteria(program='1222',\n",
    "                            opmode='MSASPEC',  # lamp operating mode\n",
    "                            exp_type='NRS_MSASPEC',  # exposure type\n",
    "                            productLevel='1b')  # product level (uncalibrated)\n",
    " \n",
    "# Fetch products\n",
    "products = MastClass.get_unique_product_list(datasets)\n",
    " \n",
    "# Filter for the desired files\n",
    "# This is how you would limit product files to a certain file type\n",
    "filtered = MastClass.filter_products(products, file_suffix=['_uncal', '_rate', '_msa'], extension='fits')\n",
    " "
   ]
  },
  {
   "cell_type": "code",
   "execution_count": 8,
   "id": "34bb61c5",
   "metadata": {},
   "outputs": [
    {
     "data": {
      "text/html": [
       "<div><i>Table length=50</i>\n",
       "<table id=\"table4667533472\" class=\"table-striped table-bordered table-condensed\">\n",
       "<thead><tr><th>product_key</th><th>access</th><th>dataset</th><th>instrument_name</th><th>filters</th><th>filename</th><th>uri</th><th>authz_primary_identifier</th><th>authz_secondary_identifier</th><th>file_suffix</th><th>category</th><th>size</th><th>type</th></tr></thead>\n",
       "<thead><tr><th>str75</th><th>str6</th><th>str25</th><th>str7</th><th>str12</th><th>str49</th><th>str75</th><th>str49</th><th>str49</th><th>str9</th><th>str11</th><th>int64</th><th>str11</th></tr></thead>\n",
       "<tr><td>jw01222005001_03101_00001_jw01222005001_01_msa.fits</td><td>PUBLIC</td><td>jw01222005001_03101_00001</td><td>NIRSPEC</td><td>NRS_FULL_MSA</td><td>jw01222005001_01_msa.fits</td><td>jw01222005001_03101_00001/jw01222005001_01_msa.fits</td><td>jw01222005001_01_msa.fits</td><td>jw01222005001_01_msa.fits</td><td>_msa</td><td>MSA</td><td>596160</td><td>MSA</td></tr>\n",
       "<tr><td>jw01222005001_07101_00001_jw01222005001_02_msa.fits</td><td>PUBLIC</td><td>jw01222005001_07101_00001</td><td>NIRSPEC</td><td>NRS_FULL_MSA</td><td>jw01222005001_02_msa.fits</td><td>jw01222005001_07101_00001/jw01222005001_02_msa.fits</td><td>jw01222005001_02_msa.fits</td><td>jw01222005001_02_msa.fits</td><td>_msa</td><td>MSA</td><td>596160</td><td>MSA</td></tr>\n",
       "<tr><td>jw01222005001_03101_00001_jw01222005001_03101_00001_nrs1_rate.fits</td><td>PUBLIC</td><td>jw01222005001_03101_00001</td><td>NIRSPEC</td><td>NRS_FULL_MSA</td><td>jw01222005001_03101_00001_nrs1_rate.fits</td><td>jw01222005001_03101_00001/jw01222005001_03101_00001_nrs1_rate.fits</td><td>jw01222005001_03101_00001_nrs1_rate.fits</td><td>jw01222005001_03101_00001_nrs1_rate.fits</td><td>_rate</td><td>2a</td><td>83946240</td><td>science</td></tr>\n",
       "<tr><td>jw01222005001_03101_00001_jw01222005001_03101_00001_nrs1_uncal.fits</td><td>PUBLIC</td><td>jw01222005001_03101_00001</td><td>NIRSPEC</td><td>NRS_FULL_MSA</td><td>jw01222005001_03101_00001_nrs1_uncal.fits</td><td>jw01222005001_03101_00001/jw01222005001_03101_00001_nrs1_uncal.fits</td><td>jw01222005001_03101_00001_nrs1_uncal.fits</td><td>jw01222005001_03101_00001_nrs1_uncal.fits</td><td>_uncal</td><td>1b</td><td>1703998080</td><td>science</td></tr>\n",
       "<tr><td>jw01222005001_03101_00001_jw01222005001_03101_00001_nrs2_rate.fits</td><td>PUBLIC</td><td>jw01222005001_03101_00001</td><td>NIRSPEC</td><td>NRS_FULL_MSA</td><td>jw01222005001_03101_00001_nrs2_rate.fits</td><td>jw01222005001_03101_00001/jw01222005001_03101_00001_nrs2_rate.fits</td><td>jw01222005001_03101_00001_nrs2_rate.fits</td><td>jw01222005001_03101_00001_nrs2_rate.fits</td><td>_rate</td><td>2a</td><td>83946240</td><td>science</td></tr>\n",
       "<tr><td>jw01222005001_03101_00001_jw01222005001_03101_00001_nrs2_uncal.fits</td><td>PUBLIC</td><td>jw01222005001_03101_00001</td><td>NIRSPEC</td><td>NRS_FULL_MSA</td><td>jw01222005001_03101_00001_nrs2_uncal.fits</td><td>jw01222005001_03101_00001/jw01222005001_03101_00001_nrs2_uncal.fits</td><td>jw01222005001_03101_00001_nrs2_uncal.fits</td><td>jw01222005001_03101_00001_nrs2_uncal.fits</td><td>_uncal</td><td>1b</td><td>1703998080</td><td>science</td></tr>\n",
       "<tr><td>jw01222005001_03101_00002_jw01222005001_03101_00002_nrs1_rate.fits</td><td>PUBLIC</td><td>jw01222005001_03101_00002</td><td>NIRSPEC</td><td>NRS_FULL_MSA</td><td>jw01222005001_03101_00002_nrs1_rate.fits</td><td>jw01222005001_03101_00002/jw01222005001_03101_00002_nrs1_rate.fits</td><td>jw01222005001_03101_00002_nrs1_rate.fits</td><td>jw01222005001_03101_00002_nrs1_rate.fits</td><td>_rate</td><td>2a</td><td>83946240</td><td>science</td></tr>\n",
       "<tr><td>jw01222005001_03101_00002_jw01222005001_03101_00002_nrs1_uncal.fits</td><td>PUBLIC</td><td>jw01222005001_03101_00002</td><td>NIRSPEC</td><td>NRS_FULL_MSA</td><td>jw01222005001_03101_00002_nrs1_uncal.fits</td><td>jw01222005001_03101_00002/jw01222005001_03101_00002_nrs1_uncal.fits</td><td>jw01222005001_03101_00002_nrs1_uncal.fits</td><td>jw01222005001_03101_00002_nrs1_uncal.fits</td><td>_uncal</td><td>1b</td><td>1703998080</td><td>science</td></tr>\n",
       "<tr><td>jw01222005001_03101_00002_jw01222005001_03101_00002_nrs2_rate.fits</td><td>PUBLIC</td><td>jw01222005001_03101_00002</td><td>NIRSPEC</td><td>NRS_FULL_MSA</td><td>jw01222005001_03101_00002_nrs2_rate.fits</td><td>jw01222005001_03101_00002/jw01222005001_03101_00002_nrs2_rate.fits</td><td>jw01222005001_03101_00002_nrs2_rate.fits</td><td>jw01222005001_03101_00002_nrs2_rate.fits</td><td>_rate</td><td>2a</td><td>83946240</td><td>science</td></tr>\n",
       "<tr><td>...</td><td>...</td><td>...</td><td>...</td><td>...</td><td>...</td><td>...</td><td>...</td><td>...</td><td>...</td><td>...</td><td>...</td><td>...</td></tr>\n",
       "<tr><td>jw01222005001_09101_00001_jw01222005001_09101_00001_nrs2_rate.fits</td><td>PUBLIC</td><td>jw01222005001_09101_00001</td><td>NIRSPEC</td><td>NRS_FULL_MSA</td><td>jw01222005001_09101_00001_nrs2_rate.fits</td><td>jw01222005001_09101_00001/jw01222005001_09101_00001_nrs2_rate.fits</td><td>jw01222005001_09101_00001_nrs2_rate.fits</td><td>jw01222005001_09101_00001_nrs2_rate.fits</td><td>_rate</td><td>2a</td><td>83946240</td><td>science</td></tr>\n",
       "<tr><td>jw01222005001_09101_00001_jw01222005001_09101_00001_nrs2_uncal.fits</td><td>PUBLIC</td><td>jw01222005001_09101_00001</td><td>NIRSPEC</td><td>NRS_FULL_MSA</td><td>jw01222005001_09101_00001_nrs2_uncal.fits</td><td>jw01222005001_09101_00001/jw01222005001_09101_00001_nrs2_uncal.fits</td><td>jw01222005001_09101_00001_nrs2_uncal.fits</td><td>jw01222005001_09101_00001_nrs2_uncal.fits</td><td>_uncal</td><td>1b</td><td>1703998080</td><td>science</td></tr>\n",
       "<tr><td>jw01222005001_09101_00002_jw01222005001_09101_00002_nrs1_rate.fits</td><td>PUBLIC</td><td>jw01222005001_09101_00002</td><td>NIRSPEC</td><td>NRS_FULL_MSA</td><td>jw01222005001_09101_00002_nrs1_rate.fits</td><td>jw01222005001_09101_00002/jw01222005001_09101_00002_nrs1_rate.fits</td><td>jw01222005001_09101_00002_nrs1_rate.fits</td><td>jw01222005001_09101_00002_nrs1_rate.fits</td><td>_rate</td><td>2a</td><td>83946240</td><td>science</td></tr>\n",
       "<tr><td>jw01222005001_09101_00002_jw01222005001_09101_00002_nrs1_uncal.fits</td><td>PUBLIC</td><td>jw01222005001_09101_00002</td><td>NIRSPEC</td><td>NRS_FULL_MSA</td><td>jw01222005001_09101_00002_nrs1_uncal.fits</td><td>jw01222005001_09101_00002/jw01222005001_09101_00002_nrs1_uncal.fits</td><td>jw01222005001_09101_00002_nrs1_uncal.fits</td><td>jw01222005001_09101_00002_nrs1_uncal.fits</td><td>_uncal</td><td>1b</td><td>1703998080</td><td>science</td></tr>\n",
       "<tr><td>jw01222005001_09101_00002_jw01222005001_09101_00002_nrs2_rate.fits</td><td>PUBLIC</td><td>jw01222005001_09101_00002</td><td>NIRSPEC</td><td>NRS_FULL_MSA</td><td>jw01222005001_09101_00002_nrs2_rate.fits</td><td>jw01222005001_09101_00002/jw01222005001_09101_00002_nrs2_rate.fits</td><td>jw01222005001_09101_00002_nrs2_rate.fits</td><td>jw01222005001_09101_00002_nrs2_rate.fits</td><td>_rate</td><td>2a</td><td>83946240</td><td>science</td></tr>\n",
       "<tr><td>jw01222005001_09101_00002_jw01222005001_09101_00002_nrs2_uncal.fits</td><td>PUBLIC</td><td>jw01222005001_09101_00002</td><td>NIRSPEC</td><td>NRS_FULL_MSA</td><td>jw01222005001_09101_00002_nrs2_uncal.fits</td><td>jw01222005001_09101_00002/jw01222005001_09101_00002_nrs2_uncal.fits</td><td>jw01222005001_09101_00002_nrs2_uncal.fits</td><td>jw01222005001_09101_00002_nrs2_uncal.fits</td><td>_uncal</td><td>1b</td><td>1703998080</td><td>science</td></tr>\n",
       "<tr><td>jw01222005001_09101_00003_jw01222005001_09101_00003_nrs1_rate.fits</td><td>PUBLIC</td><td>jw01222005001_09101_00003</td><td>NIRSPEC</td><td>NRS_FULL_MSA</td><td>jw01222005001_09101_00003_nrs1_rate.fits</td><td>jw01222005001_09101_00003/jw01222005001_09101_00003_nrs1_rate.fits</td><td>jw01222005001_09101_00003_nrs1_rate.fits</td><td>jw01222005001_09101_00003_nrs1_rate.fits</td><td>_rate</td><td>2a</td><td>83946240</td><td>science</td></tr>\n",
       "<tr><td>jw01222005001_09101_00003_jw01222005001_09101_00003_nrs1_uncal.fits</td><td>PUBLIC</td><td>jw01222005001_09101_00003</td><td>NIRSPEC</td><td>NRS_FULL_MSA</td><td>jw01222005001_09101_00003_nrs1_uncal.fits</td><td>jw01222005001_09101_00003/jw01222005001_09101_00003_nrs1_uncal.fits</td><td>jw01222005001_09101_00003_nrs1_uncal.fits</td><td>jw01222005001_09101_00003_nrs1_uncal.fits</td><td>_uncal</td><td>1b</td><td>1703998080</td><td>science</td></tr>\n",
       "<tr><td>jw01222005001_09101_00003_jw01222005001_09101_00003_nrs2_rate.fits</td><td>PUBLIC</td><td>jw01222005001_09101_00003</td><td>NIRSPEC</td><td>NRS_FULL_MSA</td><td>jw01222005001_09101_00003_nrs2_rate.fits</td><td>jw01222005001_09101_00003/jw01222005001_09101_00003_nrs2_rate.fits</td><td>jw01222005001_09101_00003_nrs2_rate.fits</td><td>jw01222005001_09101_00003_nrs2_rate.fits</td><td>_rate</td><td>2a</td><td>83946240</td><td>science</td></tr>\n",
       "<tr><td>jw01222005001_09101_00003_jw01222005001_09101_00003_nrs2_uncal.fits</td><td>PUBLIC</td><td>jw01222005001_09101_00003</td><td>NIRSPEC</td><td>NRS_FULL_MSA</td><td>jw01222005001_09101_00003_nrs2_uncal.fits</td><td>jw01222005001_09101_00003/jw01222005001_09101_00003_nrs2_uncal.fits</td><td>jw01222005001_09101_00003_nrs2_uncal.fits</td><td>jw01222005001_09101_00003_nrs2_uncal.fits</td><td>_uncal</td><td>1b</td><td>1703998080</td><td>science</td></tr>\n",
       "</table></div>"
      ],
      "text/plain": [
       "<Table length=50>\n",
       "                            product_key                             ...   type \n",
       "                               str75                                ...  str11 \n",
       "------------------------------------------------------------------- ... -------\n",
       "                jw01222005001_03101_00001_jw01222005001_01_msa.fits ...     MSA\n",
       "                jw01222005001_07101_00001_jw01222005001_02_msa.fits ...     MSA\n",
       " jw01222005001_03101_00001_jw01222005001_03101_00001_nrs1_rate.fits ... science\n",
       "jw01222005001_03101_00001_jw01222005001_03101_00001_nrs1_uncal.fits ... science\n",
       " jw01222005001_03101_00001_jw01222005001_03101_00001_nrs2_rate.fits ... science\n",
       "jw01222005001_03101_00001_jw01222005001_03101_00001_nrs2_uncal.fits ... science\n",
       " jw01222005001_03101_00002_jw01222005001_03101_00002_nrs1_rate.fits ... science\n",
       "jw01222005001_03101_00002_jw01222005001_03101_00002_nrs1_uncal.fits ... science\n",
       " jw01222005001_03101_00002_jw01222005001_03101_00002_nrs2_rate.fits ... science\n",
       "                                                                ... ...     ...\n",
       " jw01222005001_09101_00001_jw01222005001_09101_00001_nrs2_rate.fits ... science\n",
       "jw01222005001_09101_00001_jw01222005001_09101_00001_nrs2_uncal.fits ... science\n",
       " jw01222005001_09101_00002_jw01222005001_09101_00002_nrs1_rate.fits ... science\n",
       "jw01222005001_09101_00002_jw01222005001_09101_00002_nrs1_uncal.fits ... science\n",
       " jw01222005001_09101_00002_jw01222005001_09101_00002_nrs2_rate.fits ... science\n",
       "jw01222005001_09101_00002_jw01222005001_09101_00002_nrs2_uncal.fits ... science\n",
       " jw01222005001_09101_00003_jw01222005001_09101_00003_nrs1_rate.fits ... science\n",
       "jw01222005001_09101_00003_jw01222005001_09101_00003_nrs1_uncal.fits ... science\n",
       " jw01222005001_09101_00003_jw01222005001_09101_00003_nrs2_rate.fits ... science\n",
       "jw01222005001_09101_00003_jw01222005001_09101_00003_nrs2_uncal.fits ... science"
      ]
     },
     "execution_count": 8,
     "metadata": {},
     "output_type": "execute_result"
    }
   ],
   "source": [
    "# Print the filtered products to the screen\n",
    "filtered"
   ]
  },
  {
   "cell_type": "code",
   "execution_count": 10,
   "id": "68729c77",
   "metadata": {},
   "outputs": [
    {
     "name": "stdout",
     "output_type": "stream",
     "text": [
      "Downloading URL https://mast.stsci.edu/search/jwst/api/v0.1/retrieve_product?product_name=jw01222005001_03101_00001%2Fjw01222005001_01_msa.fits to /Users/joe/jwst_redux/Raw/NIRSPEC_MSA/3543/mastDownload/jwst/jw01222005001_03101_00001/jw01222005001_01_msa.fits ... [Done]\n",
      "Downloading URL https://mast.stsci.edu/search/jwst/api/v0.1/retrieve_product?product_name=jw01222005001_07101_00001%2Fjw01222005001_02_msa.fits to /Users/joe/jwst_redux/Raw/NIRSPEC_MSA/3543/mastDownload/jwst/jw01222005001_07101_00001/jw01222005001_02_msa.fits ... [Done]\n",
      "Downloading URL https://mast.stsci.edu/search/jwst/api/v0.1/retrieve_product?product_name=jw01222005001_03101_00001%2Fjw01222005001_03101_00001_nrs1_rate.fits to /Users/joe/jwst_redux/Raw/NIRSPEC_MSA/3543/mastDownload/jwst/jw01222005001_03101_00001/jw01222005001_03101_00001_nrs1_rate.fits ... [Done]\n",
      "Downloading URL https://mast.stsci.edu/search/jwst/api/v0.1/retrieve_product?product_name=jw01222005001_03101_00001%2Fjw01222005001_03101_00001_nrs1_uncal.fits to /Users/joe/jwst_redux/Raw/NIRSPEC_MSA/3543/mastDownload/jwst/jw01222005001_03101_00001/jw01222005001_03101_00001_nrs1_uncal.fits ... [Failed]\n"
     ]
    },
    {
     "ename": "KeyboardInterrupt",
     "evalue": "",
     "output_type": "error",
     "traceback": [
      "\u001b[31m---------------------------------------------------------------------------\u001b[39m",
      "\u001b[31mKeyboardInterrupt\u001b[39m                         Traceback (most recent call last)",
      "\u001b[36mCell\u001b[39m\u001b[36m \u001b[39m\u001b[32mIn[10]\u001b[39m\u001b[32m, line 3\u001b[39m\n\u001b[32m      1\u001b[39m \u001b[38;5;66;03m# Download files\u001b[39;00m\n\u001b[32m      2\u001b[39m download_dir = \u001b[33m'\u001b[39m\u001b[33m/Users/joe/jwst_redux/Raw/NIRSPEC_MSA/3543\u001b[39m\u001b[33m'\u001b[39m\n\u001b[32m----> \u001b[39m\u001b[32m3\u001b[39m \u001b[43mMastClass\u001b[49m\u001b[43m.\u001b[49m\u001b[43mdownload_products\u001b[49m\u001b[43m(\u001b[49m\u001b[43mfiltered\u001b[49m\u001b[43m,\u001b[49m\u001b[43m \u001b[49m\u001b[43mdownload_dir\u001b[49m\u001b[43m=\u001b[49m\u001b[43mdownload_dir\u001b[49m\u001b[43m,\u001b[49m\u001b[43m \u001b[49m\u001b[43mverbose\u001b[49m\u001b[43m=\u001b[49m\u001b[38;5;28;43;01mTrue\u001b[39;49;00m\u001b[43m)\u001b[49m\n",
      "\u001b[36mFile \u001b[39m\u001b[32m~/miniconda3/envs/pypeit/lib/python3.12/site-packages/astroquery/mast/missions.py:661\u001b[39m, in \u001b[36mMastMissionsClass.download_products\u001b[39m\u001b[34m(self, products, download_dir, flat, cache, extension, verbose, **filters)\u001b[39m\n\u001b[32m    658\u001b[39m base_dir = download_dir \u001b[38;5;28;01mif\u001b[39;00m flat \u001b[38;5;28;01melse\u001b[39;00m download_dir / \u001b[33m'\u001b[39m\u001b[33mmastDownload\u001b[39m\u001b[33m'\u001b[39m / \u001b[38;5;28mself\u001b[39m.mission\n\u001b[32m    660\u001b[39m \u001b[38;5;66;03m# Download files\u001b[39;00m\n\u001b[32m--> \u001b[39m\u001b[32m661\u001b[39m manifest = \u001b[38;5;28;43mself\u001b[39;49m\u001b[43m.\u001b[49m\u001b[43m_download_files\u001b[49m\u001b[43m(\u001b[49m\u001b[43mproducts\u001b[49m\u001b[43m,\u001b[49m\n\u001b[32m    662\u001b[39m \u001b[43m                                \u001b[49m\u001b[43mbase_dir\u001b[49m\u001b[43m=\u001b[49m\u001b[43mbase_dir\u001b[49m\u001b[43m,\u001b[49m\n\u001b[32m    663\u001b[39m \u001b[43m                                \u001b[49m\u001b[43mflat\u001b[49m\u001b[43m=\u001b[49m\u001b[43mflat\u001b[49m\u001b[43m,\u001b[49m\n\u001b[32m    664\u001b[39m \u001b[43m                                \u001b[49m\u001b[43mcache\u001b[49m\u001b[43m=\u001b[49m\u001b[43mcache\u001b[49m\u001b[43m,\u001b[49m\n\u001b[32m    665\u001b[39m \u001b[43m                                \u001b[49m\u001b[43mverbose\u001b[49m\u001b[43m=\u001b[49m\u001b[43mverbose\u001b[49m\u001b[43m)\u001b[49m\n\u001b[32m    667\u001b[39m \u001b[38;5;28;01mreturn\u001b[39;00m manifest\n",
      "\u001b[36mFile \u001b[39m\u001b[32m~/miniconda3/envs/pypeit/lib/python3.12/site-packages/astroquery/mast/missions.py:595\u001b[39m, in \u001b[36mMastMissionsClass._download_files\u001b[39m\u001b[34m(self, products, base_dir, flat, cache, verbose)\u001b[39m\n\u001b[32m    592\u001b[39m     local_file_path = local_path / Path(data_product[\u001b[33m'\u001b[39m\u001b[33mfilename\u001b[39m\u001b[33m'\u001b[39m]).name\n\u001b[32m    594\u001b[39m     \u001b[38;5;66;03m# Download files and record status\u001b[39;00m\n\u001b[32m--> \u001b[39m\u001b[32m595\u001b[39m     status, msg, url = \u001b[38;5;28;43mself\u001b[39;49m\u001b[43m.\u001b[49m\u001b[43mdownload_file\u001b[49m\u001b[43m(\u001b[49m\u001b[43mdata_product\u001b[49m\u001b[43m[\u001b[49m\u001b[33;43m'\u001b[39;49m\u001b[33;43muri\u001b[39;49m\u001b[33;43m'\u001b[39;49m\u001b[43m]\u001b[49m\u001b[43m,\u001b[49m\n\u001b[32m    596\u001b[39m \u001b[43m                                          \u001b[49m\u001b[43mlocal_path\u001b[49m\u001b[43m=\u001b[49m\u001b[43mlocal_file_path\u001b[49m\u001b[43m,\u001b[49m\n\u001b[32m    597\u001b[39m \u001b[43m                                          \u001b[49m\u001b[43mcache\u001b[49m\u001b[43m=\u001b[49m\u001b[43mcache\u001b[49m\u001b[43m,\u001b[49m\n\u001b[32m    598\u001b[39m \u001b[43m                                          \u001b[49m\u001b[43mverbose\u001b[49m\u001b[43m=\u001b[49m\u001b[43mverbose\u001b[49m\u001b[43m)\u001b[49m\n\u001b[32m    599\u001b[39m     manifest_entries.append([local_file_path, status, msg, url])\n\u001b[32m    601\u001b[39m \u001b[38;5;66;03m# Return manifest as Astropy Table\u001b[39;00m\n",
      "\u001b[36mFile \u001b[39m\u001b[32m~/miniconda3/envs/pypeit/lib/python3.12/site-packages/astroquery/mast/missions.py:534\u001b[39m, in \u001b[36mMastMissionsClass.download_file\u001b[39m\u001b[34m(self, uri, local_path, cache, verbose)\u001b[39m\n\u001b[32m    530\u001b[39m url = \u001b[38;5;28;01mNone\u001b[39;00m\n\u001b[32m    532\u001b[39m \u001b[38;5;28;01mtry\u001b[39;00m:\n\u001b[32m    533\u001b[39m     \u001b[38;5;66;03m# Attempt file download\u001b[39;00m\n\u001b[32m--> \u001b[39m\u001b[32m534\u001b[39m     \u001b[38;5;28;43mself\u001b[39;49m\u001b[43m.\u001b[49m\u001b[43m_download_file\u001b[49m\u001b[43m(\u001b[49m\u001b[43mescaped_url\u001b[49m\u001b[43m,\u001b[49m\u001b[43m \u001b[49m\u001b[43mlocal_path\u001b[49m\u001b[43m,\u001b[49m\u001b[43m \u001b[49m\u001b[43mcache\u001b[49m\u001b[43m=\u001b[49m\u001b[43mcache\u001b[49m\u001b[43m,\u001b[49m\u001b[43m \u001b[49m\u001b[43mverbose\u001b[49m\u001b[43m=\u001b[49m\u001b[43mverbose\u001b[49m\u001b[43m)\u001b[49m\n\u001b[32m    536\u001b[39m     \u001b[38;5;66;03m# Check if file exists\u001b[39;00m\n\u001b[32m    537\u001b[39m     \u001b[38;5;28;01mif\u001b[39;00m \u001b[38;5;129;01mnot\u001b[39;00m local_path.is_file() \u001b[38;5;129;01mand\u001b[39;00m status != \u001b[33m'\u001b[39m\u001b[33mSKIPPED\u001b[39m\u001b[33m'\u001b[39m:\n",
      "\u001b[36mFile \u001b[39m\u001b[32m~/miniconda3/envs/pypeit/lib/python3.12/site-packages/astroquery/query.py:505\u001b[39m, in \u001b[36mBaseQuery._download_file\u001b[39m\u001b[34m(self, url, local_filepath, timeout, auth, continuation, cache, method, head_safe, verbose, **kwargs)\u001b[39m\n\u001b[32m    502\u001b[39m \u001b[38;5;28;01mwith\u001b[39;00m ProgressBarOrSpinner(length, \u001b[33mf\u001b[39m\u001b[33m'\u001b[39m\u001b[33mDownloading URL \u001b[39m\u001b[38;5;132;01m{\u001b[39;00murl\u001b[38;5;132;01m}\u001b[39;00m\u001b[33m to \u001b[39m\u001b[38;5;132;01m{\u001b[39;00mlocal_filepath\u001b[38;5;132;01m}\u001b[39;00m\u001b[33m ...\u001b[39m\u001b[33m'\u001b[39m,\n\u001b[32m    503\u001b[39m                           file=progress_stream) \u001b[38;5;28;01mas\u001b[39;00m pb:\n\u001b[32m    504\u001b[39m     \u001b[38;5;28;01mwith\u001b[39;00m \u001b[38;5;28mopen\u001b[39m(local_filepath, open_mode) \u001b[38;5;28;01mas\u001b[39;00m f:\n\u001b[32m--> \u001b[39m\u001b[32m505\u001b[39m \u001b[43m        \u001b[49m\u001b[38;5;28;43;01mfor\u001b[39;49;00m\u001b[43m \u001b[49m\u001b[43mblock\u001b[49m\u001b[43m \u001b[49m\u001b[38;5;129;43;01min\u001b[39;49;00m\u001b[43m \u001b[49m\u001b[43mresponse\u001b[49m\u001b[43m.\u001b[49m\u001b[43miter_content\u001b[49m\u001b[43m(\u001b[49m\u001b[43mblocksize\u001b[49m\u001b[43m)\u001b[49m\u001b[43m:\u001b[49m\n\u001b[32m    506\u001b[39m \u001b[43m            \u001b[49m\u001b[43mf\u001b[49m\u001b[43m.\u001b[49m\u001b[43mwrite\u001b[49m\u001b[43m(\u001b[49m\u001b[43mblock\u001b[49m\u001b[43m)\u001b[49m\n\u001b[32m    507\u001b[39m \u001b[43m            \u001b[49m\u001b[43mbytes_read\u001b[49m\u001b[43m \u001b[49m\u001b[43m+\u001b[49m\u001b[43m=\u001b[49m\u001b[43m \u001b[49m\u001b[38;5;28;43mlen\u001b[39;49m\u001b[43m(\u001b[49m\u001b[43mblock\u001b[49m\u001b[43m)\u001b[49m\n",
      "\u001b[36mFile \u001b[39m\u001b[32m~/miniconda3/envs/pypeit/lib/python3.12/site-packages/requests/models.py:820\u001b[39m, in \u001b[36mResponse.iter_content.<locals>.generate\u001b[39m\u001b[34m()\u001b[39m\n\u001b[32m    818\u001b[39m \u001b[38;5;28;01mif\u001b[39;00m \u001b[38;5;28mhasattr\u001b[39m(\u001b[38;5;28mself\u001b[39m.raw, \u001b[33m\"\u001b[39m\u001b[33mstream\u001b[39m\u001b[33m\"\u001b[39m):\n\u001b[32m    819\u001b[39m     \u001b[38;5;28;01mtry\u001b[39;00m:\n\u001b[32m--> \u001b[39m\u001b[32m820\u001b[39m         \u001b[38;5;28;01myield from\u001b[39;00m \u001b[38;5;28mself\u001b[39m.raw.stream(chunk_size, decode_content=\u001b[38;5;28;01mTrue\u001b[39;00m)\n\u001b[32m    821\u001b[39m     \u001b[38;5;28;01mexcept\u001b[39;00m ProtocolError \u001b[38;5;28;01mas\u001b[39;00m e:\n\u001b[32m    822\u001b[39m         \u001b[38;5;28;01mraise\u001b[39;00m ChunkedEncodingError(e)\n",
      "\u001b[36mFile \u001b[39m\u001b[32m~/miniconda3/envs/pypeit/lib/python3.12/site-packages/urllib3/response.py:1066\u001b[39m, in \u001b[36mHTTPResponse.stream\u001b[39m\u001b[34m(self, amt, decode_content)\u001b[39m\n\u001b[32m   1064\u001b[39m \u001b[38;5;28;01melse\u001b[39;00m:\n\u001b[32m   1065\u001b[39m     \u001b[38;5;28;01mwhile\u001b[39;00m \u001b[38;5;129;01mnot\u001b[39;00m is_fp_closed(\u001b[38;5;28mself\u001b[39m._fp) \u001b[38;5;129;01mor\u001b[39;00m \u001b[38;5;28mlen\u001b[39m(\u001b[38;5;28mself\u001b[39m._decoded_buffer) > \u001b[32m0\u001b[39m:\n\u001b[32m-> \u001b[39m\u001b[32m1066\u001b[39m         data = \u001b[38;5;28;43mself\u001b[39;49m\u001b[43m.\u001b[49m\u001b[43mread\u001b[49m\u001b[43m(\u001b[49m\u001b[43mamt\u001b[49m\u001b[43m=\u001b[49m\u001b[43mamt\u001b[49m\u001b[43m,\u001b[49m\u001b[43m \u001b[49m\u001b[43mdecode_content\u001b[49m\u001b[43m=\u001b[49m\u001b[43mdecode_content\u001b[49m\u001b[43m)\u001b[49m\n\u001b[32m   1068\u001b[39m         \u001b[38;5;28;01mif\u001b[39;00m data:\n\u001b[32m   1069\u001b[39m             \u001b[38;5;28;01myield\u001b[39;00m data\n",
      "\u001b[36mFile \u001b[39m\u001b[32m~/miniconda3/envs/pypeit/lib/python3.12/site-packages/urllib3/response.py:955\u001b[39m, in \u001b[36mHTTPResponse.read\u001b[39m\u001b[34m(self, amt, decode_content, cache_content)\u001b[39m\n\u001b[32m    952\u001b[39m     \u001b[38;5;28;01mif\u001b[39;00m \u001b[38;5;28mlen\u001b[39m(\u001b[38;5;28mself\u001b[39m._decoded_buffer) >= amt:\n\u001b[32m    953\u001b[39m         \u001b[38;5;28;01mreturn\u001b[39;00m \u001b[38;5;28mself\u001b[39m._decoded_buffer.get(amt)\n\u001b[32m--> \u001b[39m\u001b[32m955\u001b[39m data = \u001b[38;5;28;43mself\u001b[39;49m\u001b[43m.\u001b[49m\u001b[43m_raw_read\u001b[49m\u001b[43m(\u001b[49m\u001b[43mamt\u001b[49m\u001b[43m)\u001b[49m\n\u001b[32m    957\u001b[39m flush_decoder = amt \u001b[38;5;129;01mis\u001b[39;00m \u001b[38;5;28;01mNone\u001b[39;00m \u001b[38;5;129;01mor\u001b[39;00m (amt != \u001b[32m0\u001b[39m \u001b[38;5;129;01mand\u001b[39;00m \u001b[38;5;129;01mnot\u001b[39;00m data)\n\u001b[32m    959\u001b[39m \u001b[38;5;28;01mif\u001b[39;00m \u001b[38;5;129;01mnot\u001b[39;00m data \u001b[38;5;129;01mand\u001b[39;00m \u001b[38;5;28mlen\u001b[39m(\u001b[38;5;28mself\u001b[39m._decoded_buffer) == \u001b[32m0\u001b[39m:\n",
      "\u001b[36mFile \u001b[39m\u001b[32m~/miniconda3/envs/pypeit/lib/python3.12/site-packages/urllib3/response.py:879\u001b[39m, in \u001b[36mHTTPResponse._raw_read\u001b[39m\u001b[34m(self, amt, read1)\u001b[39m\n\u001b[32m    876\u001b[39m fp_closed = \u001b[38;5;28mgetattr\u001b[39m(\u001b[38;5;28mself\u001b[39m._fp, \u001b[33m\"\u001b[39m\u001b[33mclosed\u001b[39m\u001b[33m\"\u001b[39m, \u001b[38;5;28;01mFalse\u001b[39;00m)\n\u001b[32m    878\u001b[39m \u001b[38;5;28;01mwith\u001b[39;00m \u001b[38;5;28mself\u001b[39m._error_catcher():\n\u001b[32m--> \u001b[39m\u001b[32m879\u001b[39m     data = \u001b[38;5;28;43mself\u001b[39;49m\u001b[43m.\u001b[49m\u001b[43m_fp_read\u001b[49m\u001b[43m(\u001b[49m\u001b[43mamt\u001b[49m\u001b[43m,\u001b[49m\u001b[43m \u001b[49m\u001b[43mread1\u001b[49m\u001b[43m=\u001b[49m\u001b[43mread1\u001b[49m\u001b[43m)\u001b[49m \u001b[38;5;28;01mif\u001b[39;00m \u001b[38;5;129;01mnot\u001b[39;00m fp_closed \u001b[38;5;28;01melse\u001b[39;00m \u001b[33mb\u001b[39m\u001b[33m\"\u001b[39m\u001b[33m\"\u001b[39m\n\u001b[32m    880\u001b[39m     \u001b[38;5;28;01mif\u001b[39;00m amt \u001b[38;5;129;01mis\u001b[39;00m \u001b[38;5;129;01mnot\u001b[39;00m \u001b[38;5;28;01mNone\u001b[39;00m \u001b[38;5;129;01mand\u001b[39;00m amt != \u001b[32m0\u001b[39m \u001b[38;5;129;01mand\u001b[39;00m \u001b[38;5;129;01mnot\u001b[39;00m data:\n\u001b[32m    881\u001b[39m         \u001b[38;5;66;03m# Platform-specific: Buggy versions of Python.\u001b[39;00m\n\u001b[32m    882\u001b[39m         \u001b[38;5;66;03m# Close the connection when no data is returned\u001b[39;00m\n\u001b[32m   (...)\u001b[39m\u001b[32m    887\u001b[39m         \u001b[38;5;66;03m# not properly close the connection in all cases. There is\u001b[39;00m\n\u001b[32m    888\u001b[39m         \u001b[38;5;66;03m# no harm in redundantly calling close.\u001b[39;00m\n\u001b[32m    889\u001b[39m         \u001b[38;5;28mself\u001b[39m._fp.close()\n",
      "\u001b[36mFile \u001b[39m\u001b[32m~/miniconda3/envs/pypeit/lib/python3.12/site-packages/urllib3/response.py:862\u001b[39m, in \u001b[36mHTTPResponse._fp_read\u001b[39m\u001b[34m(self, amt, read1)\u001b[39m\n\u001b[32m    859\u001b[39m     \u001b[38;5;28;01mreturn\u001b[39;00m \u001b[38;5;28mself\u001b[39m._fp.read1(amt) \u001b[38;5;28;01mif\u001b[39;00m amt \u001b[38;5;129;01mis\u001b[39;00m \u001b[38;5;129;01mnot\u001b[39;00m \u001b[38;5;28;01mNone\u001b[39;00m \u001b[38;5;28;01melse\u001b[39;00m \u001b[38;5;28mself\u001b[39m._fp.read1()\n\u001b[32m    860\u001b[39m \u001b[38;5;28;01melse\u001b[39;00m:\n\u001b[32m    861\u001b[39m     \u001b[38;5;66;03m# StringIO doesn't like amt=None\u001b[39;00m\n\u001b[32m--> \u001b[39m\u001b[32m862\u001b[39m     \u001b[38;5;28;01mreturn\u001b[39;00m \u001b[38;5;28;43mself\u001b[39;49m\u001b[43m.\u001b[49m\u001b[43m_fp\u001b[49m\u001b[43m.\u001b[49m\u001b[43mread\u001b[49m\u001b[43m(\u001b[49m\u001b[43mamt\u001b[49m\u001b[43m)\u001b[49m \u001b[38;5;28;01mif\u001b[39;00m amt \u001b[38;5;129;01mis\u001b[39;00m \u001b[38;5;129;01mnot\u001b[39;00m \u001b[38;5;28;01mNone\u001b[39;00m \u001b[38;5;28;01melse\u001b[39;00m \u001b[38;5;28mself\u001b[39m._fp.read()\n",
      "\u001b[36mFile \u001b[39m\u001b[32m~/miniconda3/envs/pypeit/lib/python3.12/http/client.py:479\u001b[39m, in \u001b[36mHTTPResponse.read\u001b[39m\u001b[34m(self, amt)\u001b[39m\n\u001b[32m    476\u001b[39m \u001b[38;5;28;01mif\u001b[39;00m \u001b[38;5;28mself\u001b[39m.length \u001b[38;5;129;01mis\u001b[39;00m \u001b[38;5;129;01mnot\u001b[39;00m \u001b[38;5;28;01mNone\u001b[39;00m \u001b[38;5;129;01mand\u001b[39;00m amt > \u001b[38;5;28mself\u001b[39m.length:\n\u001b[32m    477\u001b[39m     \u001b[38;5;66;03m# clip the read to the \"end of response\"\u001b[39;00m\n\u001b[32m    478\u001b[39m     amt = \u001b[38;5;28mself\u001b[39m.length\n\u001b[32m--> \u001b[39m\u001b[32m479\u001b[39m s = \u001b[38;5;28;43mself\u001b[39;49m\u001b[43m.\u001b[49m\u001b[43mfp\u001b[49m\u001b[43m.\u001b[49m\u001b[43mread\u001b[49m\u001b[43m(\u001b[49m\u001b[43mamt\u001b[49m\u001b[43m)\u001b[49m\n\u001b[32m    480\u001b[39m \u001b[38;5;28;01mif\u001b[39;00m \u001b[38;5;129;01mnot\u001b[39;00m s \u001b[38;5;129;01mand\u001b[39;00m amt:\n\u001b[32m    481\u001b[39m     \u001b[38;5;66;03m# Ideally, we would raise IncompleteRead if the content-length\u001b[39;00m\n\u001b[32m    482\u001b[39m     \u001b[38;5;66;03m# wasn't satisfied, but it might break compatibility.\u001b[39;00m\n\u001b[32m    483\u001b[39m     \u001b[38;5;28mself\u001b[39m._close_conn()\n",
      "\u001b[36mFile \u001b[39m\u001b[32m~/miniconda3/envs/pypeit/lib/python3.12/socket.py:720\u001b[39m, in \u001b[36mSocketIO.readinto\u001b[39m\u001b[34m(self, b)\u001b[39m\n\u001b[32m    718\u001b[39m \u001b[38;5;28;01mwhile\u001b[39;00m \u001b[38;5;28;01mTrue\u001b[39;00m:\n\u001b[32m    719\u001b[39m     \u001b[38;5;28;01mtry\u001b[39;00m:\n\u001b[32m--> \u001b[39m\u001b[32m720\u001b[39m         \u001b[38;5;28;01mreturn\u001b[39;00m \u001b[38;5;28;43mself\u001b[39;49m\u001b[43m.\u001b[49m\u001b[43m_sock\u001b[49m\u001b[43m.\u001b[49m\u001b[43mrecv_into\u001b[49m\u001b[43m(\u001b[49m\u001b[43mb\u001b[49m\u001b[43m)\u001b[49m\n\u001b[32m    721\u001b[39m     \u001b[38;5;28;01mexcept\u001b[39;00m timeout:\n\u001b[32m    722\u001b[39m         \u001b[38;5;28mself\u001b[39m._timeout_occurred = \u001b[38;5;28;01mTrue\u001b[39;00m\n",
      "\u001b[36mFile \u001b[39m\u001b[32m~/miniconda3/envs/pypeit/lib/python3.12/ssl.py:1251\u001b[39m, in \u001b[36mSSLSocket.recv_into\u001b[39m\u001b[34m(self, buffer, nbytes, flags)\u001b[39m\n\u001b[32m   1247\u001b[39m     \u001b[38;5;28;01mif\u001b[39;00m flags != \u001b[32m0\u001b[39m:\n\u001b[32m   1248\u001b[39m         \u001b[38;5;28;01mraise\u001b[39;00m \u001b[38;5;167;01mValueError\u001b[39;00m(\n\u001b[32m   1249\u001b[39m           \u001b[33m\"\u001b[39m\u001b[33mnon-zero flags not allowed in calls to recv_into() on \u001b[39m\u001b[38;5;132;01m%s\u001b[39;00m\u001b[33m\"\u001b[39m %\n\u001b[32m   1250\u001b[39m           \u001b[38;5;28mself\u001b[39m.\u001b[34m__class__\u001b[39m)\n\u001b[32m-> \u001b[39m\u001b[32m1251\u001b[39m     \u001b[38;5;28;01mreturn\u001b[39;00m \u001b[38;5;28;43mself\u001b[39;49m\u001b[43m.\u001b[49m\u001b[43mread\u001b[49m\u001b[43m(\u001b[49m\u001b[43mnbytes\u001b[49m\u001b[43m,\u001b[49m\u001b[43m \u001b[49m\u001b[43mbuffer\u001b[49m\u001b[43m)\u001b[49m\n\u001b[32m   1252\u001b[39m \u001b[38;5;28;01melse\u001b[39;00m:\n\u001b[32m   1253\u001b[39m     \u001b[38;5;28;01mreturn\u001b[39;00m \u001b[38;5;28msuper\u001b[39m().recv_into(buffer, nbytes, flags)\n",
      "\u001b[36mFile \u001b[39m\u001b[32m~/miniconda3/envs/pypeit/lib/python3.12/ssl.py:1103\u001b[39m, in \u001b[36mSSLSocket.read\u001b[39m\u001b[34m(self, len, buffer)\u001b[39m\n\u001b[32m   1101\u001b[39m \u001b[38;5;28;01mtry\u001b[39;00m:\n\u001b[32m   1102\u001b[39m     \u001b[38;5;28;01mif\u001b[39;00m buffer \u001b[38;5;129;01mis\u001b[39;00m \u001b[38;5;129;01mnot\u001b[39;00m \u001b[38;5;28;01mNone\u001b[39;00m:\n\u001b[32m-> \u001b[39m\u001b[32m1103\u001b[39m         \u001b[38;5;28;01mreturn\u001b[39;00m \u001b[38;5;28;43mself\u001b[39;49m\u001b[43m.\u001b[49m\u001b[43m_sslobj\u001b[49m\u001b[43m.\u001b[49m\u001b[43mread\u001b[49m\u001b[43m(\u001b[49m\u001b[38;5;28;43mlen\u001b[39;49m\u001b[43m,\u001b[49m\u001b[43m \u001b[49m\u001b[43mbuffer\u001b[49m\u001b[43m)\u001b[49m\n\u001b[32m   1104\u001b[39m     \u001b[38;5;28;01melse\u001b[39;00m:\n\u001b[32m   1105\u001b[39m         \u001b[38;5;28;01mreturn\u001b[39;00m \u001b[38;5;28mself\u001b[39m._sslobj.read(\u001b[38;5;28mlen\u001b[39m)\n",
      "\u001b[31mKeyboardInterrupt\u001b[39m: "
     ]
    }
   ],
   "source": [
    "# Download files\n",
    "download_dir = '/Users/joe/jwst_redux/Raw/NIRSPEC_MSA/3543'\n",
    "MastClass.download_products(filtered, download_dir=download_dir, verbose=True)"
   ]
  },
  {
   "cell_type": "code",
   "execution_count": null,
   "id": "45d9ecc0",
   "metadata": {},
   "outputs": [],
   "source": []
  }
 ],
 "metadata": {
  "kernelspec": {
   "display_name": "pypeit",
   "language": "python",
   "name": "python3"
  },
  "language_info": {
   "codemirror_mode": {
    "name": "ipython",
    "version": 3
   },
   "file_extension": ".py",
   "mimetype": "text/x-python",
   "name": "python",
   "nbconvert_exporter": "python",
   "pygments_lexer": "ipython3",
   "version": "3.12.9"
  }
 },
 "nbformat": 4,
 "nbformat_minor": 5
}
